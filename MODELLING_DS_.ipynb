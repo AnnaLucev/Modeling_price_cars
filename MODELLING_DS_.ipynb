{
 "cells": [
  {
   "cell_type": "markdown",
   "metadata": {
    "tags": []
   },
   "source": [
    "#  Моделирование цены подержанных авто"
   ]
  },
  {
   "cell_type": "markdown",
   "metadata": {},
   "source": [
    "Исходные данные \n",
    "\n",
    "Общие функции \n",
    "1. EDA - исследование исходных данных\n",
    "   - 1.1 Считываем исходные данные\n",
    "   - 1.2  Data Cleaning\n",
    "        - 1.2.1. Проверка данных на дублирование\n",
    "        - 1.2.2. Исследование пропущенных значений\n",
    "        - 1.2.3. Исследование типов данных\n",
    "2. Исследование признаков (визуализация, структура, оценка и отработка аномалий и выбросов)\n",
    "   - 2.1. Исследование данных по пробегу -- \"odometer\"\n",
    "   - 2.2. Исследование данных по году выпуска авто -- \"year\"\n",
    "   - 2.3. Исследование данных по стоимости авто -- \"price\"\n",
    "   - 2.4. Исследуем выбросы в количестве данных по годам - мало данных, убираем 2021,2022 гг\n",
    "3. Feature Engineering\n",
    "   - 3.1. Генерация дополнительных фичей -- odometer/price, desc_len, model_in_desc, age_category, model_len, model_word_count и пр\n",
    "   - 3.2. Преобразование, нормализация\n",
    "        - 3.2.1. Преобразование категориальных переменных \n",
    "        - 3.2.2. Стандартизация количественных переменных \n",
    "        - 3.2.3. Преобразование даты\n",
    "   - 3.3. Преобразование датафрейма для этапа моделирования\n",
    "\n",
    "4. Modelling\n",
    "   -  4.1. Инициализация целевой переменной - price_category, разделение на сеты\n",
    "   -  4.2. Обучение моделей разными методами\n",
    "        - 4.2.1. Логистическая регрессия - точность на тестовом сете - 75,7%\n",
    "        - 4.2.2. Случайный лес - точность на тестовом сете - 75,3%\n",
    "        - 4.2.3. Многослойный персептрон - точность на тестовом сете - 78,4%\n",
    "   - 4.3. Кросс-валидация на тренировочной выборке\n",
    "   - 4.4. Выбор лучшей модели\n",
    "   - 4.5. Кросс-валидация лучшей модели многослойного персептрона на тестовой выборке\n",
    "5. RESULTS\n",
    "6. Доп исследования\n",
    "  -  6.1. Визуализации категориальной переменной вид топлива --- \"fuel\"  \n",
    "  -  6.2. Визуализации категориальной переменной производителя --- \"manufacturer\"\n",
    "  -  6.3. Визуализации категориальной переменной коробке передач автомобиля --- \"transmission\"\n",
    "  -  6.4. Исследование зависимости стоимости автомобиля от года выпуска\n",
    "  -  6.5. Исследование зависимости стоимости автомобиля от пробега\n",
    "  -  6.6. Исследование зависимости пробега от года выпуска¶"
   ]
  },
  {
   "cell_type": "markdown",
   "metadata": {},
   "source": [
    "Работаем с небольшой выборкой из коллекции подержанных автомобилей, выставленных на продажу в Соединённых Штатах.\n",
    "На этих данных строим модель классификации, определяющую категорию цены подержанного автомобиля в зависимости от характеристик транспортного средства. \n",
    "<a id=\"1\"></a> \n",
    "### Исходные данные \n",
    "Описание датасета, представленного в файле data/vehicles_dataset.csv:\n",
    "- id: идентификатор записи;\n",
    "- url: URL записи о продаже;\n",
    "- region: регион;\n",
    "- region_url: URL региона;\n",
    "- price: стоимость;\n",
    "- year: год выпуска;\n",
    "- manufacturer: производитель;\n",
    "- model: модель;\n",
    "- condition: состояние;\n",
    "- cylinders: количество цилиндров;\n",
    "- fuel: тип топлива;\n",
    "- odometer: количество пройденных миль;\n",
    "- title_status: статус;\n",
    "- transmission: коробка передач;\n",
    "- VIN: идентификационный номер;\n",
    "- drive: тип привода;\n",
    "- size: размер;\n",
    "- type: кузов;\n",
    "- paint_color: цвет;\n",
    "- image_url: URL изображения;\n",
    "- description: указанное описание;\n",
    "- county: страна;\n",
    "- state: штат;\n",
    "- lat: широта;\n",
    "- long: долгота;\n",
    "- posting_date: дата размещения объявления о продаже;\n",
    "- price_category: категория цены."
   ]
  },
  {
   "cell_type": "code",
   "execution_count": 1,
   "metadata": {
    "id": "zRK5kIhRtSdM"
   },
   "outputs": [],
   "source": [
    "import pandas as pd\n",
    "from sklearn.preprocessing import OneHotEncoder\n",
    "from sklearn.preprocessing import StandardScaler\n",
    "from sklearn.preprocessing import MinMaxScaler\n",
    "from sklearn.ensemble import RandomForestClassifier\n",
    "from sklearn.linear_model import LogisticRegression, LinearRegression\n",
    "from sklearn.metrics import accuracy_score, confusion_matrix, mean_absolute_error\n",
    "from sklearn.model_selection import train_test_split, cross_val_score, cross_validate\n",
    "from sklearn.neural_network import MLPClassifier\n",
    "\n",
    "import missingno as msno\n",
    "\n",
    "import matplotlib.pyplot as plt\n",
    "from matplotlib.ticker import FormatStrFormatter\n",
    "\n",
    "import pickle"
   ]
  },
  {
   "cell_type": "code",
   "execution_count": 2,
   "metadata": {},
   "outputs": [],
   "source": [
    "import warnings\n",
    "warnings.filterwarnings('ignore')"
   ]
  },
  {
   "cell_type": "markdown",
   "metadata": {
    "tags": []
   },
   "source": [
    "# 0. Общие функции"
   ]
  },
  {
   "cell_type": "code",
   "execution_count": 22,
   "metadata": {},
   "outputs": [],
   "source": [
    "# Функция вывода общей информации  о выборке\n",
    "def df_info_(df):\n",
    "    print('Размер выборки -', df.shape)\n",
    "    print('Состав выборки -', df.columns)\n",
    "    return df.head(3)"
   ]
  },
  {
   "cell_type": "code",
   "execution_count": 23,
   "metadata": {},
   "outputs": [],
   "source": [
    "# Функция выводы процента пропущенных значений по всем столбцам датафрейма по возрастанию\n",
    "def missing_values(df):\n",
    "    missing_values = ((df.isna().sum() / len(df)) * 100).sort_values()\n",
    "    print('Процент пропущенных значений:')\n",
    "    return missing_values"
   ]
  },
  {
   "cell_type": "code",
   "execution_count": 24,
   "metadata": {},
   "outputs": [],
   "source": [
    "# Функция проверки полноты заполнения выборки\n",
    "def print_useful_rows_info(df):\n",
    "    print('Количество полностью заполненных объектов из всей выборки:', len(df.dropna()))\n",
    "    print('Процент полностью заполненных объектов из всей выборки:', round(len(df.dropna()) / len(df) * 100, 2))"
   ]
  },
  {
   "cell_type": "code",
   "execution_count": 51,
   "metadata": {},
   "outputs": [],
   "source": [
    "# функция, вычисляющая границы, в которые должны попадать нормальные значения\n",
    "def calculate_outliers(data):\n",
    "    q25 = data.quantile(0.25)\n",
    "    q75 = data.quantile(0.75)\n",
    "    iqr = q75 - q25\n",
    "    boundaries = (q25 - 1.5 * iqr, q75 + 1.5 * iqr)\n",
    "    return boundaries"
   ]
  },
  {
   "cell_type": "code",
   "execution_count": 56,
   "metadata": {},
   "outputs": [],
   "source": [
    "# функция вывода графиков - гистрограмма и ящик с усами\n",
    "def visual_hist_box(df, a):\n",
    "    fig, (ax1, ax2) = plt.subplots(nrows=2, ncols=1, figsize=(16, 6), sharex=True)\n",
    "    ax1.hist(df, bins=100, color='orange')\n",
    "    ax1.set_title('Гистограмма')\n",
    "    ax1.axvline(df.median(), color='red', linestyle='dashed', linewidth=1)\n",
    "    ax1.set_xlabel('Распределение')\n",
    "    ax1.set_ylabel('Частота')\n",
    "    ax2.boxplot(df, sym='+', vert=False)\n",
    "    ax2.set_title('Ящик с усами')\n",
    "    ax1.xaxis.set_major_formatter(FormatStrFormatter('%.0f'));\n",
    "    fig.suptitle(a);"
   ]
  },
  {
   "cell_type": "code",
   "execution_count": 61,
   "metadata": {},
   "outputs": [],
   "source": [
    "# функция вывода график - ящик с усами\n",
    "def visual_box(df, a):\n",
    "    fig, ax = plt.subplots(figsize=(15, 3))\n",
    "    ax.boxplot(df, vert=False)\n",
    "    ax.set_ylabel('Стоимость')\n",
    "    ax.set_title(a)\n",
    "    ax.yaxis.set_major_formatter(FormatStrFormatter('%.0f'))"
   ]
  },
  {
   "cell_type": "code",
   "execution_count": null,
   "metadata": {},
   "outputs": [],
   "source": []
  },
  {
   "cell_type": "markdown",
   "metadata": {},
   "source": [
    "## 1. EDA - исследование исходных данных"
   ]
  },
  {
   "cell_type": "markdown",
   "metadata": {
    "tags": []
   },
   "source": [
    "### 1.1. Считываем исходные данные"
   ]
  },
  {
   "cell_type": "code",
   "execution_count": 7,
   "metadata": {},
   "outputs": [
    {
     "name": "stdout",
     "output_type": "stream",
     "text": [
      "Размер выборки - (10050, 27)\n",
      "Состав выборки - Index(['id', 'url', 'region', 'region_url', 'price', 'year', 'manufacturer',\n",
      "       'model', 'condition', 'cylinders', 'fuel', 'odometer', 'title_status',\n",
      "       'transmission', 'VIN', 'drive', 'size', 'type', 'paint_color',\n",
      "       'image_url', 'description', 'county', 'state', 'lat', 'long',\n",
      "       'posting_date', 'price_category'],\n",
      "      dtype='object')\n"
     ]
    },
    {
     "data": {
      "text/html": [
       "<div>\n",
       "<style scoped>\n",
       "    .dataframe tbody tr th:only-of-type {\n",
       "        vertical-align: middle;\n",
       "    }\n",
       "\n",
       "    .dataframe tbody tr th {\n",
       "        vertical-align: top;\n",
       "    }\n",
       "\n",
       "    .dataframe thead th {\n",
       "        text-align: right;\n",
       "    }\n",
       "</style>\n",
       "<table border=\"1\" class=\"dataframe\">\n",
       "  <thead>\n",
       "    <tr style=\"text-align: right;\">\n",
       "      <th></th>\n",
       "      <th>id</th>\n",
       "      <th>url</th>\n",
       "      <th>region</th>\n",
       "      <th>region_url</th>\n",
       "      <th>price</th>\n",
       "      <th>year</th>\n",
       "      <th>manufacturer</th>\n",
       "      <th>model</th>\n",
       "      <th>condition</th>\n",
       "      <th>cylinders</th>\n",
       "      <th>...</th>\n",
       "      <th>type</th>\n",
       "      <th>paint_color</th>\n",
       "      <th>image_url</th>\n",
       "      <th>description</th>\n",
       "      <th>county</th>\n",
       "      <th>state</th>\n",
       "      <th>lat</th>\n",
       "      <th>long</th>\n",
       "      <th>posting_date</th>\n",
       "      <th>price_category</th>\n",
       "    </tr>\n",
       "  </thead>\n",
       "  <tbody>\n",
       "    <tr>\n",
       "      <th>0</th>\n",
       "      <td>7308295377</td>\n",
       "      <td>https://chattanooga.craigslist.org/ctd/d/chatt...</td>\n",
       "      <td>chattanooga</td>\n",
       "      <td>https://chattanooga.craigslist.org</td>\n",
       "      <td>54990</td>\n",
       "      <td>2020.0</td>\n",
       "      <td>ram</td>\n",
       "      <td>2500 crew cab big horn</td>\n",
       "      <td>good</td>\n",
       "      <td>NaN</td>\n",
       "      <td>...</td>\n",
       "      <td>pickup</td>\n",
       "      <td>silver</td>\n",
       "      <td>https://images.craigslist.org/00N0N_1xMPvfxRAI...</td>\n",
       "      <td>Carvana is the safer way to buy a car During t...</td>\n",
       "      <td>NaN</td>\n",
       "      <td>tn</td>\n",
       "      <td>35.060000</td>\n",
       "      <td>-85.250000</td>\n",
       "      <td>2021-04-17T12:30:50-0400</td>\n",
       "      <td>high</td>\n",
       "    </tr>\n",
       "    <tr>\n",
       "      <th>1</th>\n",
       "      <td>7316380095</td>\n",
       "      <td>https://newjersey.craigslist.org/ctd/d/carlsta...</td>\n",
       "      <td>north jersey</td>\n",
       "      <td>https://newjersey.craigslist.org</td>\n",
       "      <td>16942</td>\n",
       "      <td>2016.0</td>\n",
       "      <td>ford</td>\n",
       "      <td>explorer 4wd 4dr xlt</td>\n",
       "      <td>NaN</td>\n",
       "      <td>6 cylinders</td>\n",
       "      <td>...</td>\n",
       "      <td>SUV</td>\n",
       "      <td>black</td>\n",
       "      <td>https://images.craigslist.org/00x0x_26jl9F0cnL...</td>\n",
       "      <td>***Call Us for more information at: 201-635-14...</td>\n",
       "      <td>NaN</td>\n",
       "      <td>nj</td>\n",
       "      <td>40.821805</td>\n",
       "      <td>-74.061962</td>\n",
       "      <td>2021-05-03T15:40:21-0400</td>\n",
       "      <td>medium</td>\n",
       "    </tr>\n",
       "    <tr>\n",
       "      <th>2</th>\n",
       "      <td>7313733749</td>\n",
       "      <td>https://reno.craigslist.org/ctd/d/atlanta-2017...</td>\n",
       "      <td>reno / tahoe</td>\n",
       "      <td>https://reno.craigslist.org</td>\n",
       "      <td>35590</td>\n",
       "      <td>2017.0</td>\n",
       "      <td>volkswagen</td>\n",
       "      <td>golf r hatchback</td>\n",
       "      <td>good</td>\n",
       "      <td>NaN</td>\n",
       "      <td>...</td>\n",
       "      <td>sedan</td>\n",
       "      <td>NaN</td>\n",
       "      <td>https://images.craigslist.org/00y0y_eeZjWeiSfb...</td>\n",
       "      <td>Carvana is the safer way to buy a car During t...</td>\n",
       "      <td>NaN</td>\n",
       "      <td>ca</td>\n",
       "      <td>33.779214</td>\n",
       "      <td>-84.411811</td>\n",
       "      <td>2021-04-28T03:52:20-0700</td>\n",
       "      <td>high</td>\n",
       "    </tr>\n",
       "  </tbody>\n",
       "</table>\n",
       "<p>3 rows × 27 columns</p>\n",
       "</div>"
      ],
      "text/plain": [
       "           id                                                url  \\\n",
       "0  7308295377  https://chattanooga.craigslist.org/ctd/d/chatt...   \n",
       "1  7316380095  https://newjersey.craigslist.org/ctd/d/carlsta...   \n",
       "2  7313733749  https://reno.craigslist.org/ctd/d/atlanta-2017...   \n",
       "\n",
       "         region                          region_url  price    year  \\\n",
       "0   chattanooga  https://chattanooga.craigslist.org  54990  2020.0   \n",
       "1  north jersey    https://newjersey.craigslist.org  16942  2016.0   \n",
       "2  reno / tahoe         https://reno.craigslist.org  35590  2017.0   \n",
       "\n",
       "  manufacturer                   model condition    cylinders  ...    type  \\\n",
       "0          ram  2500 crew cab big horn      good          NaN  ...  pickup   \n",
       "1         ford    explorer 4wd 4dr xlt       NaN  6 cylinders  ...     SUV   \n",
       "2   volkswagen        golf r hatchback      good          NaN  ...   sedan   \n",
       "\n",
       "   paint_color                                          image_url  \\\n",
       "0       silver  https://images.craigslist.org/00N0N_1xMPvfxRAI...   \n",
       "1        black  https://images.craigslist.org/00x0x_26jl9F0cnL...   \n",
       "2          NaN  https://images.craigslist.org/00y0y_eeZjWeiSfb...   \n",
       "\n",
       "                                         description county state        lat  \\\n",
       "0  Carvana is the safer way to buy a car During t...    NaN    tn  35.060000   \n",
       "1  ***Call Us for more information at: 201-635-14...    NaN    nj  40.821805   \n",
       "2  Carvana is the safer way to buy a car During t...    NaN    ca  33.779214   \n",
       "\n",
       "        long              posting_date price_category  \n",
       "0 -85.250000  2021-04-17T12:30:50-0400           high  \n",
       "1 -74.061962  2021-05-03T15:40:21-0400         medium  \n",
       "2 -84.411811  2021-04-28T03:52:20-0700           high  \n",
       "\n",
       "[3 rows x 27 columns]"
      ]
     },
     "execution_count": 7,
     "metadata": {},
     "output_type": "execute_result"
    }
   ],
   "source": [
    "# Считываем исходную таблицу, определяем размерность, перечень колонок\n",
    "df = pd.read_csv('data/vehicles_dataset.csv')\n",
    "df_info_(df)"
   ]
  },
  {
   "cell_type": "code",
   "execution_count": 9,
   "metadata": {},
   "outputs": [
    {
     "data": {
      "text/html": [
       "<div>\n",
       "<style scoped>\n",
       "    .dataframe tbody tr th:only-of-type {\n",
       "        vertical-align: middle;\n",
       "    }\n",
       "\n",
       "    .dataframe tbody tr th {\n",
       "        vertical-align: top;\n",
       "    }\n",
       "\n",
       "    .dataframe thead th {\n",
       "        text-align: right;\n",
       "    }\n",
       "</style>\n",
       "<table border=\"1\" class=\"dataframe\">\n",
       "  <thead>\n",
       "    <tr style=\"text-align: right;\">\n",
       "      <th></th>\n",
       "      <th>id</th>\n",
       "      <th>price</th>\n",
       "      <th>year</th>\n",
       "      <th>odometer</th>\n",
       "      <th>county</th>\n",
       "      <th>lat</th>\n",
       "      <th>long</th>\n",
       "    </tr>\n",
       "  </thead>\n",
       "  <tbody>\n",
       "    <tr>\n",
       "      <th>count</th>\n",
       "      <td>1.005000e+04</td>\n",
       "      <td>1.005000e+04</td>\n",
       "      <td>10014.000000</td>\n",
       "      <td>1.000700e+04</td>\n",
       "      <td>0.0</td>\n",
       "      <td>9951.000000</td>\n",
       "      <td>9951.000000</td>\n",
       "    </tr>\n",
       "    <tr>\n",
       "      <th>mean</th>\n",
       "      <td>7.311544e+09</td>\n",
       "      <td>2.068429e+04</td>\n",
       "      <td>2010.917815</td>\n",
       "      <td>9.565719e+04</td>\n",
       "      <td>NaN</td>\n",
       "      <td>38.590164</td>\n",
       "      <td>-94.161564</td>\n",
       "    </tr>\n",
       "    <tr>\n",
       "      <th>std</th>\n",
       "      <td>4.475414e+06</td>\n",
       "      <td>1.243216e+05</td>\n",
       "      <td>9.697849</td>\n",
       "      <td>8.657948e+04</td>\n",
       "      <td>NaN</td>\n",
       "      <td>5.844756</td>\n",
       "      <td>18.123096</td>\n",
       "    </tr>\n",
       "    <tr>\n",
       "      <th>min</th>\n",
       "      <td>7.208550e+09</td>\n",
       "      <td>5.000000e+02</td>\n",
       "      <td>1915.000000</td>\n",
       "      <td>0.000000e+00</td>\n",
       "      <td>NaN</td>\n",
       "      <td>-67.144243</td>\n",
       "      <td>-158.069300</td>\n",
       "    </tr>\n",
       "    <tr>\n",
       "      <th>25%</th>\n",
       "      <td>7.308193e+09</td>\n",
       "      <td>7.900000e+03</td>\n",
       "      <td>2008.000000</td>\n",
       "      <td>3.899450e+04</td>\n",
       "      <td>NaN</td>\n",
       "      <td>34.830000</td>\n",
       "      <td>-110.447150</td>\n",
       "    </tr>\n",
       "    <tr>\n",
       "      <th>50%</th>\n",
       "      <td>7.312756e+09</td>\n",
       "      <td>1.574950e+04</td>\n",
       "      <td>2013.000000</td>\n",
       "      <td>8.837700e+04</td>\n",
       "      <td>NaN</td>\n",
       "      <td>39.285100</td>\n",
       "      <td>-87.999100</td>\n",
       "    </tr>\n",
       "    <tr>\n",
       "      <th>75%</th>\n",
       "      <td>7.315275e+09</td>\n",
       "      <td>2.799000e+04</td>\n",
       "      <td>2017.000000</td>\n",
       "      <td>1.370000e+05</td>\n",
       "      <td>NaN</td>\n",
       "      <td>42.427590</td>\n",
       "      <td>-80.830000</td>\n",
       "    </tr>\n",
       "    <tr>\n",
       "      <th>max</th>\n",
       "      <td>7.317090e+09</td>\n",
       "      <td>1.234568e+07</td>\n",
       "      <td>2022.000000</td>\n",
       "      <td>3.245000e+06</td>\n",
       "      <td>NaN</td>\n",
       "      <td>64.947500</td>\n",
       "      <td>173.885502</td>\n",
       "    </tr>\n",
       "  </tbody>\n",
       "</table>\n",
       "</div>"
      ],
      "text/plain": [
       "                 id         price          year      odometer  county  \\\n",
       "count  1.005000e+04  1.005000e+04  10014.000000  1.000700e+04     0.0   \n",
       "mean   7.311544e+09  2.068429e+04   2010.917815  9.565719e+04     NaN   \n",
       "std    4.475414e+06  1.243216e+05      9.697849  8.657948e+04     NaN   \n",
       "min    7.208550e+09  5.000000e+02   1915.000000  0.000000e+00     NaN   \n",
       "25%    7.308193e+09  7.900000e+03   2008.000000  3.899450e+04     NaN   \n",
       "50%    7.312756e+09  1.574950e+04   2013.000000  8.837700e+04     NaN   \n",
       "75%    7.315275e+09  2.799000e+04   2017.000000  1.370000e+05     NaN   \n",
       "max    7.317090e+09  1.234568e+07   2022.000000  3.245000e+06     NaN   \n",
       "\n",
       "               lat         long  \n",
       "count  9951.000000  9951.000000  \n",
       "mean     38.590164   -94.161564  \n",
       "std       5.844756    18.123096  \n",
       "min     -67.144243  -158.069300  \n",
       "25%      34.830000  -110.447150  \n",
       "50%      39.285100   -87.999100  \n",
       "75%      42.427590   -80.830000  \n",
       "max      64.947500   173.885502  "
      ]
     },
     "execution_count": 9,
     "metadata": {},
     "output_type": "execute_result"
    }
   ],
   "source": [
    "# Описательные статистики всего датасета \n",
    "df.describe()"
   ]
  },
  {
   "cell_type": "markdown",
   "metadata": {
    "jp-MarkdownHeadingCollapsed": true,
    "tags": []
   },
   "source": [
    "#### Выводы по исходному датасету\n",
    "- 10050 строк, 27 столбцов\n",
    "- всего 7 столбцов (включая  id) изначально числовые, остальные - категориальные\n",
    "- видно большое количество пропущенных данных"
   ]
  },
  {
   "cell_type": "code",
   "execution_count": 10,
   "metadata": {},
   "outputs": [
    {
     "name": "stdout",
     "output_type": "stream",
     "text": [
      "\n",
      "Характеристика: id\n",
      "Количество уникальных значений:  10000\n",
      "Список значений:  7316028281    2\n",
      "7310693445    2\n",
      "7310816094    2\n",
      "7307639785    2\n",
      "7312525382    2\n",
      "             ..\n",
      "7308265563    1\n",
      "7309504220    1\n",
      "7316238007    1\n",
      "7311587823    1\n",
      "7311960763    1\n",
      "Name: id, Length: 10000, dtype: int64\n",
      "\n",
      "Характеристика: url\n",
      "Количество уникальных значений:  10000\n",
      "Список значений:  https://roswell.craigslist.org/cto/d/artesia-1999-ford-f250-super-duty-super/7316028281.html         2\n",
      "https://pueblo.craigslist.org/ctd/d/tempe-2017-ford-450-f450-450-drw-lariat/7310693445.html          2\n",
      "https://monroe.craigslist.org/ctd/d/monroe-2019-infiniti-qx60-luxe/7310816094.html                   2\n",
      "https://flint.craigslist.org/ctd/d/davison-2010-ford-150-xlt-supercrew/7307639785.html               2\n",
      "https://charlotte.craigslist.org/cto/d/myrtle-beach-1947-mercury-hotrod-street/7312525382.html       2\n",
      "                                                                                                    ..\n",
      "https://mendocino.craigslist.org/cto/d/willits-2019-toyota-prius-prime-plus/7308265563.html          1\n",
      "https://hudsonvalley.craigslist.org/ctd/d/waterbury-2005-toyota-camry-4dr-sdn-xle/7309504220.html    1\n",
      "https://charlestonwv.craigslist.org/ctd/d/burkeville-1998-pierce-model-tilt-cab/7316238007.html      1\n",
      "https://nashville.craigslist.org/ctd/d/murfreesboro-2016-chevrolet-equinox/7311587823.html           1\n",
      "https://norfolk.craigslist.org/ctd/d/chesapeake-2017-ram-1500-crew-cab-big/7311960763.html           1\n",
      "Name: url, Length: 10000, dtype: int64\n",
      "\n",
      "Характеристика: region\n",
      "Количество уникальных значений:  393\n",
      "Список значений:  kansas city, MO          86\n",
      "minneapolis / st paul    83\n",
      "grand rapids             82\n",
      "sarasota-bradenton       82\n",
      "colorado springs         81\n",
      "                         ..\n",
      "gulfport / biloxi         1\n",
      "southern WV               1\n",
      "southwest MS              1\n",
      "houma                     1\n",
      "auburn                    1\n",
      "Name: region, Length: 393, dtype: int64\n",
      "\n",
      "Характеристика: region_url\n",
      "Количество уникальных значений:  405\n",
      "Список значений:  https://kansascity.craigslist.org     86\n",
      "https://minneapolis.craigslist.org    83\n",
      "https://grandrapids.craigslist.org    82\n",
      "https://sarasota.craigslist.org       82\n",
      "https://cosprings.craigslist.org      81\n",
      "                                      ..\n",
      "https://mattoon.craigslist.org         1\n",
      "https://montana.craigslist.org         1\n",
      "https://houma.craigslist.org           1\n",
      "https://swv.craigslist.org             1\n",
      "https://auburn.craigslist.org          1\n",
      "Name: region_url, Length: 405, dtype: int64\n",
      "\n",
      "Характеристика: price\n",
      "Количество уникальных значений:  2227\n",
      "Список значений:  6995     112\n",
      "29990     91\n",
      "7995      81\n",
      "8995      76\n",
      "9995      73\n",
      "        ... \n",
      "31422      1\n",
      "40994      1\n",
      "10781      1\n",
      "38634      1\n",
      "1575       1\n",
      "Name: price, Length: 2227, dtype: int64\n",
      "\n",
      "Характеристика: year\n",
      "Количество уникальных значений:  89\n",
      "Список значений:  2017.0    814\n",
      "2018.0    814\n",
      "2016.0    748\n",
      "2013.0    704\n",
      "2015.0    670\n",
      "         ... \n",
      "1937.0      1\n",
      "1935.0      1\n",
      "1954.0      1\n",
      "1915.0      1\n",
      "1958.0      1\n",
      "Name: year, Length: 89, dtype: int64\n",
      "\n",
      "Характеристика: manufacturer\n",
      "Количество уникальных значений:  39\n",
      "Список значений:  ford               1647\n",
      "chevrolet          1298\n",
      "toyota              784\n",
      "jeep                491\n",
      "honda               467\n",
      "nissan              456\n",
      "ram                 415\n",
      "gmc                 361\n",
      "bmw                 332\n",
      "dodge               325\n",
      "volkswagen          254\n",
      "mercedes-benz       240\n",
      "hyundai             225\n",
      "subaru              211\n",
      "audi                203\n",
      "kia                 200\n",
      "lexus               186\n",
      "cadillac            184\n",
      "chrysler            161\n",
      "acura               150\n",
      "buick               145\n",
      "mazda               142\n",
      "infiniti            118\n",
      "lincoln             113\n",
      "mitsubishi           82\n",
      "mini                 73\n",
      "volvo                67\n",
      "pontiac              62\n",
      "rover                59\n",
      "jaguar               45\n",
      "porsche              37\n",
      "mercury              33\n",
      "tesla                27\n",
      "saturn               25\n",
      "fiat                 23\n",
      "alfa-romeo           14\n",
      "ferrari               4\n",
      "harley-davidson       4\n",
      "datsun                2\n",
      "Name: manufacturer, dtype: int64\n",
      "\n",
      "Характеристика: model\n",
      "Количество уникальных значений:  3466\n",
      "Список значений:  f-150                        151\n",
      "silverado 1500               110\n",
      "1500                         101\n",
      "camry                         77\n",
      "silverado                     74\n",
      "                            ... \n",
      "sorrento lx v6                 1\n",
      "sierra1500 crewcab 4x4         1\n",
      "corolla se                     1\n",
      "xc60 t6 inscription sport      1\n",
      "a3 2.0t premium plus pzev      1\n",
      "Name: model, Length: 3466, dtype: int64\n",
      "\n",
      "Характеристика: condition\n",
      "Количество уникальных значений:  6\n",
      "Список значений:  good         3134\n",
      "excellent    2429\n",
      "like new      482\n",
      "fair          179\n",
      "new            31\n",
      "salvage        13\n",
      "Name: condition, dtype: int64\n",
      "\n",
      "Характеристика: cylinders\n",
      "Количество уникальных значений:  8\n",
      "Список значений:  6 cylinders     2288\n",
      "4 cylinders     1825\n",
      "8 cylinders     1726\n",
      "5 cylinders       46\n",
      "10 cylinders      29\n",
      "other             25\n",
      "3 cylinders       13\n",
      "12 cylinders       1\n",
      "Name: cylinders, dtype: int64\n",
      "\n",
      "Характеристика: fuel\n",
      "Количество уникальных значений:  5\n",
      "Список значений:  gas         8447\n",
      "other        733\n",
      "diesel       655\n",
      "hybrid       108\n",
      "electric      44\n",
      "Name: fuel, dtype: int64\n",
      "\n",
      "Характеристика: odometer\n",
      "Количество уникальных значений:  7006\n",
      "Список значений:  100000.0    51\n",
      "1.0         42\n",
      "200000.0    37\n",
      "180000.0    37\n",
      "140000.0    37\n",
      "            ..\n",
      "129119.0     1\n",
      "41421.0      1\n",
      "97487.0      1\n",
      "165899.0     1\n",
      "61943.0      1\n",
      "Name: odometer, Length: 7006, dtype: int64\n",
      "\n",
      "Характеристика: title_status\n",
      "Количество уникальных значений:  6\n",
      "Список значений:  clean         9568\n",
      "rebuilt        171\n",
      "salvage         92\n",
      "lien            35\n",
      "missing         16\n",
      "parts only       2\n",
      "Name: title_status, dtype: int64\n",
      "\n",
      "Характеристика: transmission\n",
      "Количество уникальных значений:  3\n",
      "Список значений:  automatic    7737\n",
      "other        1633\n",
      "manual        635\n",
      "Name: transmission, dtype: int64\n",
      "\n",
      "Характеристика: VIN\n",
      "Количество уникальных значений:  5429\n",
      "Список значений:  1FMJU1JT1HEA52352    10\n",
      "JN1AZ4EH8KM420880     8\n",
      "1FTMF1CP3GKD62143     7\n",
      "5TFEM5F15KX140773     7\n",
      "1FTER1EH1LLA36301     7\n",
      "                     ..\n",
      "1N6AD0EV8CC463906     1\n",
      "1HTWLAZNX9J108397     1\n",
      "3VWJL7AT5DM673430     1\n",
      "WBA5A5C58FD512675     1\n",
      "WP1AE2A28FLA50183     1\n",
      "Name: VIN, Length: 5429, dtype: int64\n",
      "\n",
      "Характеристика: drive\n",
      "Количество уникальных значений:  3\n",
      "Список значений:  4wd    3054\n",
      "fwd    2563\n",
      "rwd    1409\n",
      "Name: drive, dtype: int64\n",
      "\n",
      "Характеристика: size\n",
      "Количество уникальных значений:  4\n",
      "Список значений:  full-size      1476\n",
      "mid-size        824\n",
      "compact         458\n",
      "sub-compact      67\n",
      "Name: size, dtype: int64\n",
      "\n",
      "Характеристика: type\n",
      "Количество уникальных значений:  13\n",
      "Список значений:  sedan          1981\n",
      "SUV            1805\n",
      "pickup         1071\n",
      "truck           770\n",
      "other           519\n",
      "coupe           443\n",
      "hatchback       414\n",
      "wagon           255\n",
      "van             227\n",
      "convertible     204\n",
      "mini-van        113\n",
      "bus              22\n",
      "offroad          21\n",
      "Name: type, dtype: int64\n",
      "\n",
      "Характеристика: paint_color\n",
      "Количество уникальных значений:  12\n",
      "Список значений:  white     1916\n",
      "black     1473\n",
      "silver    1041\n",
      "red        741\n",
      "blue       730\n",
      "grey       601\n",
      "green      173\n",
      "custom     154\n",
      "brown      144\n",
      "yellow      53\n",
      "orange      51\n",
      "purple      10\n",
      "Name: paint_color, dtype: int64\n",
      "\n",
      "Характеристика: image_url\n",
      "Количество уникальных значений:  9081\n",
      "Список значений:  https://images.craigslist.org/00N0N_1xMPvfxRAIdz_0gw0co_600x450.jpg    191\n",
      "https://images.craigslist.org/00R0R_lwWjXSEWNa7z_0x20oM_600x450.jpg     47\n",
      "https://images.craigslist.org/00v0v_ihZKB5WEx8Rz_0gw0co_600x450.jpg      8\n",
      "https://images.craigslist.org/00D0D_aqVh7XGmJcQz_0gw0co_600x450.jpg      8\n",
      "https://images.craigslist.org/01111_l590CdXzJSoz_001001_600x450.jpg      7\n",
      "                                                                      ... \n",
      "https://images.craigslist.org/00S0S_gbHqFmRQh7kz_09a07K_600x450.jpg      1\n",
      "https://images.craigslist.org/00z0z_45YWA8WkAUSz_0CI0t2_600x450.jpg      1\n",
      "https://images.craigslist.org/01212_6JYMQ4lRmsHz_0gv0cn_600x450.jpg      1\n",
      "https://images.craigslist.org/00m0m_d5zGKT3vPL4z_0lM0t2_600x450.jpg      1\n",
      "https://images.craigslist.org/00O0O_gBihGEQxYTjz_0kE0fu_600x450.jpg      1\n",
      "Name: image_url, Length: 9081, dtype: int64\n",
      "\n",
      "Характеристика: description\n",
      "Количество уникальных значений:  9845\n",
      "Список значений:  PLEASE VIEW THE FREE CARFAX HISTORY REPORT AT OUR WEBSITE CARTERSCARSVT.COM OR CALL 802-891-6345 CHECK OUT OUR INVENTORY ON FACEBOOK!!!                                                                                                                                                                                                                                                                                                                                                                                                                                                                                                                                                                                                                                                                                                                                                                                                                                                                                                                                                                                                                                                                                                                                                                                                                                                                                                                                                                                                                                                                                                                                                                                                                                                                                                                                                                                                                                                                                                                                                                                                                                                                                                                                                                                                                                                                                                                                                                                                                                                                                                                                                                                                                                                                                                                                                                                                                                                                                                                                                                                                                                                                                                                                                                                                                                                                                                                                                                                                                                                                                                                                                                                                                                                                                                                                                                                                                                                                                                                                                                                                                                                                                                                                                                                                                                                                                                                                                                                                                                                                                                                                                                       7\n",
      "CREDIT CARS- $700.00 DOWN- RIGHT ON THE CORNER, RIGHT ON THE CREDIT!!  CALL US TODAY @ 352-204-2923 OR 352-204-2137. $700 DOWN!!!!!  CREDIT CHALLENGES??- NO PROBLEM- COME SEE US TODAY!  WE USE YOUR JOB AS YOUR CREDIT! ALL YOU NEED IS INCOME, PROOF OF INSURANCE, DRIVERS LICENSE, AND $700.00!!!  COME SEE US TODAY AT 320 NE 23RD AVENUE GAINESVILLE, FL 32609  WE ARE OPEN MONDAY- FRIDAY 9:00AM TO 7:00PM AND SATURDAY 9:00AM- 5:00PM  352-204-2137 OR 352-204-2137 CALL US TODAY TO SCHEDULE APPT!!  ⭐ Great Financing Options Available ⭐  ✅ Bad Credit? ✅ No Credit? ✅ First Time Buyer? ✅ We Work With Dozens Of Dealers To Get You Approved Fast Regardless Of Your Credit Situation.  🚘 Ready To Get Behind The Wheel Of Your New Car 🚘  100% APPROVAL! We use your job as your credit!  We Guarantee It! No matter your financial situation, you will drive off the lot in a new car, today.  ✅ Bad Credit ✅ No Credit ✅ Repossession ✅ Foreclosure ✅ SSI ✅ Disability ✅ Government Assistance  YOU'RE APPROVED!  🚘 🚘  ✅ Huge Selection Of Quality Pre-Owned Cars ✅ Leave With Confidence ✅ Trade-In Your Car Today For A Great Discount   📍 Stop By Today                                                                                                                                                                                                                                                                                                                                                                                                                                                                                                                                                                                                                                                                                                                                                                                                                                                                                                                                                                                                                                                                                                                                                                                                                                                                                                                                                                                                                                                                                                                                                                                                                                                                                                                                                                                                                                                                                                                                                                                                                                                                                                                                                                                                                                                                                                                                                                                                                                                                                                                                                                                                                                                                                                                                                                                                                                                                                                                                                                                                                                                                                                                                                                                                                                                                                                                                                                                                                                                                                                                                     5\n",
      "Call or text today to find out more. (602) 620-6525 Calls only landline (406) 245-1785  Available at Standard Auto Sales 1503 Broadwater Ave. Billings, MT 59102 standardautosales.net   Need help with financing? We have options for most credit situations. We never charge a doc fee! Extended service contracts available. We buy cars and take consignments! Call or text Mike today to find out more. (602) 620-6525  Welcome to Standard Auto Sales, located in Billings, MT, where quality service and customer satisfaction come first. We are here to help you find a vehicle that fits your lifestyle from our wide selection of used cars, trucks, and SUVs. We pride ourselves on a hassle-free car buying experience where your needs come first. Swing by to let us exceed your expectations while finding the perfect vehicle! Do you need financing for your next used vehicle purchase? Do you have a good credit, bad credit or no credit history situation? We work with a variety of financial institutions and we will work hard to get you approved quickly and easily, at the best rate possible! Apply now or call us at (406) 245-1785 or text (602) 620-6525 to schedule a test drive today!                                                                                                                                                                                                                                                                                                                                                                                                                                                                                                                                                                                                                                                                                                                                                                                                                                                                                                                                                                                                                                                                                                                                                                                                                                                                                                                                                                                                                                                                                                                                                                                                                                                                                                                                                                                                                                                                                                                                                                                                                                                                                                                                                                                                                                                                                                                                                                                                                                                                                                                                                                                                                                                                                                                                                                                                                                                                                                                                                                                                                                                                                                                                                                                                                                                                                                                                                                                                                                                                                      5\n",
      "This truck has sold, but we buy trucks like this. If you know of one of these trucks for sale, we pay a finders fee.  Call Bobby! (636) 587 - 0660    7.3 7.3l 6.6 6.6l 5.9 5.9 6.7 6.7l powerstroke power stroke duramax cummins diesel lly lbz dmax pstroke big block small block big block smallblock sbf sbc bbf bbc efi 302 460 351 6.0 6.0L 5.0L 5.0 5.8L 5.8 7.5L 7.5 496 454 stroker 8.1 8.1L 12v 24v 4x4 four wheel drive 4wd laramie SLT Lariat lt lt1 lt2 lt3 ls club quad single crew cab clubcab quadcab singlecab crewcab cclb long bed longbed short shortbed  ccsb sclb scsb rustfree rust free clean 4door 2-door 2door 4-door ford dodge chevrolet chevy gmc sierra silverado f-250 f-350 f250 f350 ram 2500 3500 1st gen first gen firstgen 2nd gen 2ndgen second gen secondgen 3rd gen 3rdgen third gen thirdgen OBS superduty excursion supercrew supercab super duty 5-speed 6-speed stick shift stickshift manual transmission clutch intercooled inter cooled turbocharged turbo charged lonestar bighorn lone star big horn longhorn long horn low mile lowmile puller camper camp haul hauling hauler tow towing rig gooseneck goose neck 5th wheel fifth wheel 5thwheel fifthwheel hitch                                                                                                                                                                                                                                                                                                                                                                                                                                                                                                                                                                                                                                                                                                                                                                                                                                                                                                                                                                                                                                                                                                                                                                                                                                                                                                                                                                                                                                                                                                                                                                                                                                                                                                                                                                                                                                                                                                                                                                                                                                                                                                                                                                                                                                                                                                                                                                                                                                                                                                                                                                                                                                                                                                                                                                                                                                                                                                                                                                                                                                                                                                                                                                                                                                                                                                                                                                                                                                                                                           4\n",
      "35 VEHICLES PRICED UNDER $3000!!!  BIG TIME! TAX TIME! SALE TIME!  CALL US NOW!!! 321-242-0328  30TH YEAR IN BUSINESS!!!!  OUR ADDRESS:  1900 AURORA RD. MELBOURNE, FL 32935  321-242-0328  Call us or visit us now we have a huge selection of honda accord and civic and pilot in stock at all times! we specialize in Toyota Camry and Corolla and Sienna and 3RD Row Suv. We also stock Domestics like Ford Fusion Explorer and Escape and the really nice Edge. if you care looking for Chevy Traverse or Chevrolet Malibu or Impala and Cruze for gas saving we have those as well, including Buick Enclave we always have em! Lacrosse and Regal are here too! Encore is available just call first. We stock Luxury Brands like Acura Lexus and German brands BMW Mercedes Benz and Audi. Dont get us started on Jeep! We love to sell Grand Cherokee and Patriot and Compass! Want a Really Nice Minivan!?! We got Chrysler Town and Country Dodge Grand Caravan and Honda Odyssey Always Here!! Sporty? Charger Challanger Mustang and Camro can be located for you! Are you Hip? Kia Soul and Optima are your bag, we got em!!!! Mazda is here too!! 3 and 6 and CX9. Our Number one seller for 3RD Row is the Dodge Journey and Durango, we always have a bunch in stock, back up camera and push button start bluetooth panoramic sunroof. Cadillac SRX for the luxury driver is here too! Ever driven a Nissan Altima or Sentra or Pathfinder or Rogue, come drive one today and feel the sporty drive!                                                                                                                                                                                                                                                                                                                                                                                                                                                                                                                                                                                                                                                                                                                                                                                                                                                                                                                                                                                                                                                                                                                                                                                                                                                                                                                                                                                                                                                                                                                                                                                                                                                                                                                                                                                                                                                                                                                                                                                                                                                                                                                                                                                                                                                                                                                                                                                                                                                                                                                                                                                                                                                                                                                                                                                                                                                                                                                                                                                                                                                                                                                                                                                          4\n",
      "                                                                                                                                                                                                                                                                                                                                                                                                                                                                                                                                                                                                                                                                                                                                                                                                                                                                                                                                                                                                                                                                                                                                                                                                                                                                                                                                                                                                                                                                                                                                                                                                                                                                                                                                                                                                                                                                                                                                                                                                                                                                                                                                                                                                                                                                                                                                                                                                                                                                                                                                                                                                                                                                                                                                                                                                                                                                                                                                                                                                                                                                                                                                                                                                                                                                                                                                                                                                                                                                                                                                                                                                                                                                                                                                                                                                                                                                                                                                                                                                                                                                                                                                                                                                                                                                                                                                                                                                                                                                                                                                                                                                                                                                                                             ..\n",
      "I have a very nice 2010 tundra with a near new engine with 10000 miles that I bought for my dad and I did a transmission service on it and thankfully after having it for 3 weeks blew up the transmission. So its getting a new one, it's around $3600 for the part. This truck low books at $18000 not taking a very low milage engine or brand new trans into account. No, the dirt bike is not included don't be stupid. Lmk if you're interested. Interior is near perfect. Comes with set of very new winter tires on rims.  show contact info  Erik                                                                                                                                                                                                                                                                                                                                                                                                                                                                                                                                                                                                                                                                                                                                                                                                                                                                                                                                                                                                                                                                                                                                                                                                                                                                                                                                                                                                                                                                                                                                                                                                                                                                                                                                                                                                                                                                                                                                                                                                                                                                                                                                                                                                                                                                                                                                                                                                                                                                                                                                                                                                                                                                                                                                                                                                                                                                                                                                                                                                                                                                                                                                                                                                                                                                                                                                                                                                                                                                                                                                                                                                                                                                                                                                                                                                                                                                                                                                                                                                                                                                                                                                                    1\n",
      "WE HAVE OVER 500 VEHICLES IN STOCK!   See our entire inventory at WWW.SHOWCASEAUTOSALESLLC.COM YOU CAN REACH US AT (989) 845-1091.   SHOWCASE AUTO SALES, LLC  12750 WEST BRADY  CHESANING, MICHIGAN 48616  WWW.SHOWCASEAUTOSALESLLC.COM   WE ARE OPEN MONDAY-FRIDAY 9AM-8PM.  AND SATURDAYS FROM 9-4:30!!!   !!GUARANTEED FINANCING NOW AVAILABLE!!  Year: 2015  Make: Chevrolet  Model: Cruze  Trim: 4dr Sdn Auto 1LT  Mileage: 162,841  Trans: Automatic  Vin: 1G1PC5SB0F7281503  Stock #: 20795  Engine: Engine, ECOTEC Turbo 1.4L Variable Valve Timing DOHC 4-cylinder sequential MFI (138 hp [103 kW] @ 4900 rpm, 148 lb-ft of torque [199.8 N-m] @ 1850 rpm)  Interior: Cloth  Color: Red  Drive Train: FWD  Type: Sedan  State: MI  Vehicle Options Filter Options Cruise Control Air bags, frontal and knee for driver and front passenger, side-impact seat-mounted and roof rail for front and rear outboard seating positions includes Passenger Sensing System (Always use safety belts and child restraints. Children are safer when properly secured in a rear seat in the appropriate child restraint. See the Owner's Manual for more information.) Air conditioning, single-zone electronic includes air filter Alternator, 130 amps Armrest, rear center, articulating, with dual cup holders Assist handles, driver, front passenger and rear outboard Audio system feature, 6-speaker system Axle, 3.53 final drive ratio Battery, 438 cold-cranking amps Brakes, 4-wheel antilock Brakes, front disc/rear drum Center stack, integrated with ambient LED back lighting Compass display Convenience hooks, rear Cup holders 2 in front center console, 2 in rear seat armrest and 1 bottle holder in each front door panel Defogger, rear-window, electric Door handles, body-color Door locks, rear child security Engine, ECOTEC Turbo 1.4L Variable Valve Timing DOHC 4-cylinder sequential MFI (138 hp [103 kW] @ 4900 rpm, 148 lb-ft of torque [199.8 N-m] @ 1850 rpm) Enhanced Acoustic Package Front wheel drive Glass, solar absorbing, tinted Headlamps, halogen composite with automatic exterior lamp control and delay feature Lamp, LED center high-mounted stop/brake (CHMSL) LATCH system (Lower Anchors and Top tethers for CHildren), for child safety seats Lighting, interior dome with theater dimming, dual map lights, illuminated trunk area Mirror, inside rearview manual day/night Oil life monitoring system Rear air ducts, floor mounted Safety belt pretensioners, driver and front passenger, dual Safety belts, 3-point, all seating positions, front height adjustable Seat adjuster, driver 6-way manual Seat adjuster, front passenger 6-way manual Seat, rear 60/40 split-folding with adjustable head restraints on outboard positions SiriusXM Satellite Radio is standard on nearly all 2015 GM models. Enjoy a 3-month All Access trial subscription with over 150 channels including commercial-free music, plus sports, news and entertainment. Plus you can listen to SiriusXM Internet Radio everywhere on your computer, smartphone or tablet. Welcome to the world of SiriusXM. (IMPORTANT: The SiriusXM Satellite Radio trial package is not provided on vehicles that are ordered for Fleet Daily Rental (\"FDR\") use. If you decide to continue listening af Steering column, tilt and telescopic Steering wheel controls, mounted audio and phone interface controls Steering wheel, 3-spoke, comfort grip Steering, power, electric, rack-mounted Suspension, front independent McPherson strut, aluminum control arms with hydraulic bushings, 25mm hollow stabilizer bar Suspension, rear, compound crank Theft-deterrent system with anti-theft alarm and engine immobilizer Tire, compact spare and spare wheel, includes jack and lug nut wrench Tires, P215/60R16, all-season, blackwall, low rolling resistance Trunk emergency release handle Windows, power with Express-Down on all and driver Express Up Wipers, front intermittent, variable    HUNDREDS OF VEHICLES TO CHOOSE FROM!   CALL US TODAY FOR MORE DETAILS! 989-845-1091   SHOWCASE AUTO SALES, LLC  12750 WEST BRADY  CHESANING, MICHIGAN 48616   View Our Entire Inventory at WWW.SHOWCASEAUTOSALESLLC.COM  **Information deemed reliable, but not guaranteed. Interested parties should confirm all data before relying on it to make a purchase decision. All prices and specifications are subject to change without notice. Prices may not include additional fees such as government fees and taxes, title and registration fees, finance charges, dealer document preparation fees, processing fees, and emission testing and compliance charges.**    1\n",
      "Carvana is the safer way to buy a car During these uncertain times, Carvana is dedicated to ensuring safety for all of our customers. In addition to our 100% online shopping and selling experience that allows all customers to buy and trade their cars without ever leaving the safety of their house, we’re providing touchless delivery that make all aspects of our process even safer. Now, you can get the car you want, and trade in your old one, while avoiding person-to-person contact with our friendly advocates. There are some things that can’t be put off. And if buying a car is one of them, know that we’re doing everything we can to keep you keep moving while continuing to put your health safety, and happiness first. Vehicle Stock# 2000957097📱 Want to instantly check this car’s availability? Call us at  616-727-0824Just text that stock number to 855-976-4304 or head to  and plug it into the search bar!Get PRE-QUALIFIED for your auto loan in 2 minutes - no hit to your credit:http://finance.carvanaauto.com/7006740-74585Looking for more cars like this one? We have 211 Chevrolet Cruze in stock for as low as $9990!Why buy with Carvana? We have one standard: the highest. Take a look at just some of the qualifications all of our cars must meet before we list them.150-POINT INSPECTION: We put each vehicle through a 150-point inspection so that you can be 100% confident in its quality and safety. See everything that goes into our inspections at:NO REPORTED ACCIDENTS: We do not sell cars that have been in a reported accident or have a frame or structural damage.7 DAY TEST OWN MONEY BACK GUARANTEE: Every Carvana car comes with a 7-day money-back guarantee. Why? It takes more than 15-minutes to make a decision on your next car. Learn more about test owning at http://about.carvanaauto.comFLEXIBLE FINANCING, TRADE INS WELCOME: We’re all about real-time financing without the middle man. Need financing? Pick a combination of down and monthly payments that work for you. Have a trade-in? We’ll give you a value in 2 minutes. Check out everything about our financing at:http://finance.carvanaauto.com/7006740-74585COST SAVINGS: Carvana's business model has fewer expenses and no bloated fees compared to your local dealership. See how much we can save you at http://about.carvanaauto.comPREMIUM DETAIL: We go the extra mile so that your car is looking as good as new. There are a lot of specifics that we won’t list here (we wash, clean, buff, paint, polish, wax, seal), but trust us that when your car arrives, it’s going to look sweet.Vehicle Info for Stock# 2000957097Trim: LT Diesel Hatchback 4D hatchbackMileage: 41k milesExterior Color: GrayInterior Color: GrayEngine: 1.6L Diesel Turbo I4 137hp 240ft. lbs.Drive: fwdTransmission: VIN: 3G1BG6SE1JS569278Dealer Disclosure: Price excludes tax, title, and registration (which we handle for you).Disclaimer: You agree that by providing your phone number, Carvana, or Carvana’s authorized representatives*, may call and/or send text messages (including by using equipment to automatically dial telephone numbers) about your interest in a purchase, for marketing/sales purposes, or for any other servicing or informational purpose related to your account. You do not have to consent to receiving calls or texts to purchase from Carvana. While every reasonable effort is made to ensure the accuracy of the information for this Chevrolet Cruze, we are not responsible for any errors or omissions contained in this ad. Please verify any information in question with Carvana at 616-727-0824*Including, but not limited to, Bridgecrest Credit Company, GO Financial and SilverRock Automotive.*Chevrolet* *Cruze* *Chevy* *Chevrolet* *Cruze* *Auto* *1LT* *Chevrolet* *Cruze* *LT* *w/1LT* *Chevrolet* *Cruze* *LTZ* *Chevrolet* *Cruze* *LT* *Sedan* *Chevrolet* *Cruze* *LTZ* *wagon* *Chevrolet* *Cruze* *LS* *sedan* *Chevrolet* *Cruze* *Eco* *Chevrolet* *Cruze* *2* *Lt* *Sedan* 2022  2021  2020  2019  2018  2017  2016  2015  2014  2013  2012  2011  2010  2009  2008  2007  2006  2005  2004  2003  2002  2001  2000   22  21    19  18  17  16  15  14  13  12  11  10  09  08  07  06  05  04  03  02  01  00                                                                                                                                                                                                                                                                                                                                                                                1\n",
      "2013 Mazda Mazda5 Touring gray with 170k miles. 3rd row seat In excellent condition. Good for a family car. Runs great and no mechanical issue. Asking 5400 OBO                                                                                                                                                                                                                                                                                                                                                                                                                                                                                                                                                                                                                                                                                                                                                                                                                                                                                                                                                                                                                                                                                                                                                                                                                                                                                                                                                                                                                                                                                                                                                                                                                                                                                                                                                                                                                                                                                                                                                                                                                                                                                                                                                                                                                                                                                                                                                                                                                                                                                                                                                                                                                                                                                                                                                                                                                                                                                                                                                                                                                                                                                                                                                                                                                                                                                                                                                                                                                                                                                                                                                                                                                                                                                                                                                                                                                                                                                                                                                                                                                                                                                                                                                                                                                                                                                                                                                                                                                                                                                                                                               1\n",
      "Carvana is the safer way to buy a car During these uncertain times, Carvana is dedicated to ensuring safety for all of our customers. In addition to our 100% online shopping and selling experience that allows all customers to buy and trade their cars without ever leaving the safety of their house, we’re providing touchless delivery that make all aspects of our process even safer. Now, you can get the car you want, and trade in your old one, while avoiding person-to-person contact with our friendly advocates. There are some things that can’t be put off. And if buying a car is one of them, know that we’re doing everything we can to keep you keep moving while continuing to put your health safety, and happiness first. Vehicle Stock# 2000968558📱 Want to instantly check this car’s availability? Call us at  757-276-8209Just text that stock number to 855-976-4304 or head to  and plug it into the search bar!Get PRE-QUALIFIED for your auto loan in 2 minutes - no hit to your credit:http://finance.carvanaauto.com/7092425-74589Looking for more cars like this one? We have 129 Ram 1500 Crew Cab in stock for as low as $21990!Why buy with Carvana? We have one standard: the highest. Take a look at just some of the qualifications all of our cars must meet before we list them.150-POINT INSPECTION: We put each vehicle through a 150-point inspection so that you can be 100% confident in its quality and safety. See everything that goes into our inspections at:NO REPORTED ACCIDENTS: We do not sell cars that have been in a reported accident or have a frame or structural damage.7 DAY TEST OWN MONEY BACK GUARANTEE: Every Carvana car comes with a 7-day money-back guarantee. Why? It takes more than 15-minutes to make a decision on your next car. Learn more about test owning at http://about.carvanaauto.comFLEXIBLE FINANCING, TRADE INS WELCOME: We’re all about real-time financing without the middle man. Need financing? Pick a combination of down and monthly payments that work for you. Have a trade-in? We’ll give you a value in 2 minutes. Check out everything about our financing at:http://finance.carvanaauto.com/7092425-74589COST SAVINGS: Carvana's business model has fewer expenses and no bloated fees compared to your local dealership. See how much we can save you at http://about.carvanaauto.comPREMIUM DETAIL: We go the extra mile so that your car is looking as good as new. There are a lot of specifics that we won’t list here (we wash, clean, buff, paint, polish, wax, seal), but trust us that when your car arrives, it’s going to look sweet.Vehicle Info for Stock# 2000968558Trim: Big Horn Pickup 4D 5 1/2 ft pickupMileage: 35k milesExterior Color: WhiteInterior Color: OTHEREngine: HEMI 5.7L V8 395hp 410ft. lbs.Drive: Two Wheel DriveTransmission: VIN: 3C6RR6LT6HG542059Dealer Disclosure: Price excludes tax, title, and registration (which we handle for you).Disclaimer: You agree that by providing your phone number, Carvana, or Carvana’s authorized representatives*, may call and/or send text messages (including by using equipment to automatically dial telephone numbers) about your interest in a purchase, for marketing/sales purposes, or for any other servicing or informational purpose related to your account. You do not have to consent to receiving calls or texts to purchase from Carvana. While every reasonable effort is made to ensure the accuracy of the information for this Ram 1500 Crew Cab, we are not responsible for any errors or omissions contained in this ad. Please verify any information in question with Carvana at 757-276-8209*Including, but not limited to, Bridgecrest Credit Company, GO Financial and SilverRock Automotive.*Ram* *1500* *Crew* *Cab* *ST* *Ram* *1500* *Crew* *Cab* *R/T* *Ram* *1500* *Crew* *Cab* *Tradesman/Express* *Ram* *1500* *Crew* *Cab* *SLT* *Ram* *1500* *Crew* *Cab* *HFE* *Ram* *1500* *Crew* *Cab* *Sport* *Ram* *1500* *Crew* *Cab* *SST* *Ram* *1500* *Crew* *Cab* *Laramie* *Ram* *1500* *Crew* *Cab* *Longhorn* *Ram* *1500* *Crew* *Cab* *Laramie/longhorn* *Limited* *Edition* *120* *in* *WB* *Ram* *1500* *Crew* *Cab* *140* *in* *WB* *Ram* *1500* *Crew* *Cab* *149* *in* *WB* *4x4* *Ram* *1500* *Crew* *Cab* *4x2* *Regular* *Cab* *Ram* *1500* *Crew* *Cab* *Crew* *Cab* *Quad* *Cab* *Pick* *up* 2022  2021  2020  2019  2018  2017  2016  2015  2014  2013  2012  2011  2010  2009  2008  2007  2006  2005  2004  2003  2002  2001  2000   22  21    19  18  17  16  15  14  13  12  11  10  09  08  07  06  05  04  03  02  01  00                                           1\n",
      "Name: description, Length: 9845, dtype: int64\n",
      "\n",
      "Характеристика: county\n",
      "Количество уникальных значений:  0\n",
      "Список значений:  Series([], Name: county, dtype: int64)\n",
      "\n",
      "Характеристика: state\n",
      "Количество уникальных значений:  51\n",
      "Список значений:  ca    1113\n",
      "fl     690\n",
      "tx     535\n",
      "mi     462\n",
      "ny     453\n",
      "oh     414\n",
      "pa     354\n",
      "nc     352\n",
      "or     333\n",
      "wa     318\n",
      "co     303\n",
      "wi     290\n",
      "il     251\n",
      "nj     241\n",
      "tn     239\n",
      "va     237\n",
      "az     212\n",
      "ia     206\n",
      "mn     201\n",
      "id     199\n",
      "ga     179\n",
      "ma     172\n",
      "ks     170\n",
      "ok     166\n",
      "mt     153\n",
      "sc     139\n",
      "in     135\n",
      "ct     124\n",
      "md     120\n",
      "al     102\n",
      "ky      98\n",
      "mo      97\n",
      "ak      89\n",
      "nm      88\n",
      "la      78\n",
      "nv      78\n",
      "ar      77\n",
      "dc      72\n",
      "ri      71\n",
      "nh      69\n",
      "me      68\n",
      "vt      63\n",
      "hi      56\n",
      "sd      37\n",
      "ut      31\n",
      "ms      29\n",
      "ne      26\n",
      "wv      21\n",
      "de      18\n",
      "wy      13\n",
      "nd       8\n",
      "Name: state, dtype: int64\n",
      "\n",
      "Характеристика: lat\n",
      "Количество уникальных значений:  5049\n",
      "Список значений:  43.182400    88\n",
      "33.779214    79\n",
      "40.468785    73\n",
      "33.786500    54\n",
      "46.234838    50\n",
      "             ..\n",
      "44.472801     1\n",
      "35.087165     1\n",
      "32.660500     1\n",
      "39.783470     1\n",
      "42.123900     1\n",
      "Name: lat, Length: 5049, dtype: int64\n",
      "\n",
      "Характеристика: long\n",
      "Количество уникальных значений:  5082\n",
      "Список значений:  -84.112200     88\n",
      "-84.411811     79\n",
      "-74.281707     73\n",
      "-84.445400     54\n",
      "-119.128015    50\n",
      "               ..\n",
      "-78.625588      1\n",
      "-85.180435      1\n",
      "-88.841600      1\n",
      "-95.787429      1\n",
      "-79.189500      1\n",
      "Name: long, Length: 5082, dtype: int64\n",
      "\n",
      "Характеристика: posting_date\n",
      "Количество уникальных значений:  9957\n",
      "Список значений:  2021-04-13T09:11:02-0500    3\n",
      "2021-04-26T13:21:00-0700    2\n",
      "2021-05-03T16:42:17-0400    2\n",
      "2021-05-04T10:45:14-0700    2\n",
      "2021-04-13T10:51:11-0400    2\n",
      "                           ..\n",
      "2021-05-01T11:12:43-0700    1\n",
      "2021-04-23T12:40:29-0400    1\n",
      "2021-04-24T02:49:59-0500    1\n",
      "2021-04-30T16:52:44-0700    1\n",
      "2021-04-24T13:50:49-0400    1\n",
      "Name: posting_date, Length: 9957, dtype: int64\n",
      "\n",
      "Характеристика: price_category\n",
      "Количество уникальных значений:  3\n",
      "Список значений:  high      3514\n",
      "medium    3294\n",
      "low       3242\n",
      "Name: price_category, dtype: int64\n"
     ]
    }
   ],
   "source": [
    "# Исследование переменных датасета\n",
    "for column in df:\n",
    "    print('')\n",
    "    print('Характеристика:', column)\n",
    "    uniqvalue = df[column].nunique()\n",
    "    print('Количество уникальных значений: ', uniqvalue)\n",
    "    print('Список значений: ',  df[column].value_counts()) "
   ]
  },
  {
   "cell_type": "markdown",
   "metadata": {},
   "source": [
    "Целевая переменная - категория цены  ----   'price_category'"
   ]
  },
  {
   "cell_type": "code",
   "execution_count": 12,
   "metadata": {},
   "outputs": [
    {
     "data": {
      "text/html": [
       "<div>\n",
       "<style scoped>\n",
       "    .dataframe tbody tr th:only-of-type {\n",
       "        vertical-align: middle;\n",
       "    }\n",
       "\n",
       "    .dataframe tbody tr th {\n",
       "        vertical-align: top;\n",
       "    }\n",
       "\n",
       "    .dataframe thead th {\n",
       "        text-align: right;\n",
       "    }\n",
       "</style>\n",
       "<table border=\"1\" class=\"dataframe\">\n",
       "  <thead>\n",
       "    <tr style=\"text-align: right;\">\n",
       "      <th>col_0</th>\n",
       "      <th>price_category</th>\n",
       "    </tr>\n",
       "    <tr>\n",
       "      <th>price_category</th>\n",
       "      <th></th>\n",
       "    </tr>\n",
       "  </thead>\n",
       "  <tbody>\n",
       "    <tr>\n",
       "      <th>high</th>\n",
       "      <td>0.349652</td>\n",
       "    </tr>\n",
       "    <tr>\n",
       "      <th>low</th>\n",
       "      <td>0.322587</td>\n",
       "    </tr>\n",
       "    <tr>\n",
       "      <th>medium</th>\n",
       "      <td>0.327761</td>\n",
       "    </tr>\n",
       "  </tbody>\n",
       "</table>\n",
       "</div>"
      ],
      "text/plain": [
       "col_0           price_category\n",
       "price_category                \n",
       "high                  0.349652\n",
       "low                   0.322587\n",
       "medium                0.327761"
      ]
     },
     "execution_count": 12,
     "metadata": {},
     "output_type": "execute_result"
    }
   ],
   "source": [
    "# Исследование целевой переменной -   категория цены ---- 'price_category'\n",
    "# Доли распределения количества данных по категориям цены\n",
    "pd.crosstab(index=df['price_category'], columns='price_category', normalize = 'all')"
   ]
  },
  {
   "cell_type": "markdown",
   "metadata": {},
   "source": [
    "Как видно из таблицы целевая переменная имеет равномерное распределение"
   ]
  },
  {
   "cell_type": "markdown",
   "metadata": {},
   "source": [
    "### 1.2.  Data Cleaning"
   ]
  },
  {
   "cell_type": "markdown",
   "metadata": {
    "jp-MarkdownHeadingCollapsed": true,
    "tags": []
   },
   "source": [
    "### 1.2.1. Проверка данных на дублирование"
   ]
  },
  {
   "cell_type": "code",
   "execution_count": 13,
   "metadata": {},
   "outputs": [
    {
     "data": {
      "text/html": [
       "<div>\n",
       "<style scoped>\n",
       "    .dataframe tbody tr th:only-of-type {\n",
       "        vertical-align: middle;\n",
       "    }\n",
       "\n",
       "    .dataframe tbody tr th {\n",
       "        vertical-align: top;\n",
       "    }\n",
       "\n",
       "    .dataframe thead th {\n",
       "        text-align: right;\n",
       "    }\n",
       "</style>\n",
       "<table border=\"1\" class=\"dataframe\">\n",
       "  <thead>\n",
       "    <tr style=\"text-align: right;\">\n",
       "      <th></th>\n",
       "      <th>id</th>\n",
       "      <th>url</th>\n",
       "      <th>region</th>\n",
       "      <th>region_url</th>\n",
       "      <th>price</th>\n",
       "      <th>year</th>\n",
       "      <th>manufacturer</th>\n",
       "      <th>model</th>\n",
       "      <th>condition</th>\n",
       "      <th>cylinders</th>\n",
       "      <th>...</th>\n",
       "      <th>type</th>\n",
       "      <th>paint_color</th>\n",
       "      <th>image_url</th>\n",
       "      <th>description</th>\n",
       "      <th>county</th>\n",
       "      <th>state</th>\n",
       "      <th>lat</th>\n",
       "      <th>long</th>\n",
       "      <th>posting_date</th>\n",
       "      <th>price_category</th>\n",
       "    </tr>\n",
       "  </thead>\n",
       "  <tbody>\n",
       "    <tr>\n",
       "      <th>1326</th>\n",
       "      <td>7312641615</td>\n",
       "      <td>https://pueblo.craigslist.org/cto/d/pueblo-196...</td>\n",
       "      <td>pueblo</td>\n",
       "      <td>https://pueblo.craigslist.org</td>\n",
       "      <td>6500</td>\n",
       "      <td>1969.0</td>\n",
       "      <td>chevrolet</td>\n",
       "      <td>c10</td>\n",
       "      <td>good</td>\n",
       "      <td>8 cylinders</td>\n",
       "      <td>...</td>\n",
       "      <td>NaN</td>\n",
       "      <td>red</td>\n",
       "      <td>https://images.craigslist.org/00f0f_kmR1TNWM4O...</td>\n",
       "      <td>1969 C10 runs and drives clean body, needs inn...</td>\n",
       "      <td>NaN</td>\n",
       "      <td>co</td>\n",
       "      <td>38.032300</td>\n",
       "      <td>-104.716000</td>\n",
       "      <td>2021-04-25T20:15:43-0600</td>\n",
       "      <td>low</td>\n",
       "    </tr>\n",
       "    <tr>\n",
       "      <th>2159</th>\n",
       "      <td>7312437164</td>\n",
       "      <td>https://yakima.craigslist.org/ctd/d/parker-201...</td>\n",
       "      <td>yakima</td>\n",
       "      <td>https://yakima.craigslist.org</td>\n",
       "      <td>19995</td>\n",
       "      <td>2015.0</td>\n",
       "      <td>subaru</td>\n",
       "      <td>xv crosstrek</td>\n",
       "      <td>NaN</td>\n",
       "      <td>4 cylinders</td>\n",
       "      <td>...</td>\n",
       "      <td>SUV</td>\n",
       "      <td>white</td>\n",
       "      <td>https://images.craigslist.org/01414_cBd43F8IeC...</td>\n",
       "      <td>2015 Subaru XV Crosstrek 2.0i Limited AWD 4dr ...</td>\n",
       "      <td>NaN</td>\n",
       "      <td>wa</td>\n",
       "      <td>46.553190</td>\n",
       "      <td>-120.475680</td>\n",
       "      <td>2021-04-25T11:30:27-0700</td>\n",
       "      <td>medium</td>\n",
       "    </tr>\n",
       "    <tr>\n",
       "      <th>2398</th>\n",
       "      <td>7316719393</td>\n",
       "      <td>https://miami.craigslist.org/mdc/ctd/d/miami-2...</td>\n",
       "      <td>south florida</td>\n",
       "      <td>https://miami.craigslist.org</td>\n",
       "      <td>25590</td>\n",
       "      <td>2018.0</td>\n",
       "      <td>volkswagen</td>\n",
       "      <td>golf gti s hatchback</td>\n",
       "      <td>good</td>\n",
       "      <td>NaN</td>\n",
       "      <td>...</td>\n",
       "      <td>sedan</td>\n",
       "      <td>blue</td>\n",
       "      <td>https://images.craigslist.org/00y0y_7qosBCrp0z...</td>\n",
       "      <td>Carvana is the safer way to buy a car During t...</td>\n",
       "      <td>NaN</td>\n",
       "      <td>fl</td>\n",
       "      <td>25.770000</td>\n",
       "      <td>-80.200000</td>\n",
       "      <td>2021-05-04T11:01:11-0400</td>\n",
       "      <td>high</td>\n",
       "    </tr>\n",
       "    <tr>\n",
       "      <th>3067</th>\n",
       "      <td>7307971804</td>\n",
       "      <td>https://redding.craigslist.org/ctd/d/sacrament...</td>\n",
       "      <td>redding</td>\n",
       "      <td>https://redding.craigslist.org</td>\n",
       "      <td>8800</td>\n",
       "      <td>2008.0</td>\n",
       "      <td>honda</td>\n",
       "      <td>accord</td>\n",
       "      <td>excellent</td>\n",
       "      <td>NaN</td>\n",
       "      <td>...</td>\n",
       "      <td>sedan</td>\n",
       "      <td>silver</td>\n",
       "      <td>https://images.craigslist.org/00S0S_kT52djO80H...</td>\n",
       "      <td>2008 *** Honda Accord EX L w/Navi 4dr Sedan 5A...</td>\n",
       "      <td>NaN</td>\n",
       "      <td>ca</td>\n",
       "      <td>38.608824</td>\n",
       "      <td>-121.400837</td>\n",
       "      <td>2021-04-16T15:01:16-0700</td>\n",
       "      <td>low</td>\n",
       "    </tr>\n",
       "    <tr>\n",
       "      <th>3236</th>\n",
       "      <td>7307083381</td>\n",
       "      <td>https://westernmass.craigslist.org/ctd/d/sprin...</td>\n",
       "      <td>western massachusetts</td>\n",
       "      <td>https://westernmass.craigslist.org</td>\n",
       "      <td>21990</td>\n",
       "      <td>2017.0</td>\n",
       "      <td>gmc</td>\n",
       "      <td>acadia sle-1 sport utility</td>\n",
       "      <td>good</td>\n",
       "      <td>NaN</td>\n",
       "      <td>...</td>\n",
       "      <td>SUV</td>\n",
       "      <td>white</td>\n",
       "      <td>https://images.craigslist.org/00N0N_1xMPvfxRAI...</td>\n",
       "      <td>Carvana is the safer way to buy a car During t...</td>\n",
       "      <td>NaN</td>\n",
       "      <td>ma</td>\n",
       "      <td>42.110000</td>\n",
       "      <td>-72.530000</td>\n",
       "      <td>2021-04-15T06:10:54-0400</td>\n",
       "      <td>medium</td>\n",
       "    </tr>\n",
       "    <tr>\n",
       "      <th>3458</th>\n",
       "      <td>7316793777</td>\n",
       "      <td>https://desmoines.craigslist.org/ctd/d/martens...</td>\n",
       "      <td>des moines</td>\n",
       "      <td>https://desmoines.craigslist.org</td>\n",
       "      <td>6700</td>\n",
       "      <td>2015.0</td>\n",
       "      <td>ford</td>\n",
       "      <td>fusion se</td>\n",
       "      <td>good</td>\n",
       "      <td>4 cylinders</td>\n",
       "      <td>...</td>\n",
       "      <td>NaN</td>\n",
       "      <td>NaN</td>\n",
       "      <td>https://images.craigslist.org/00S0S_3wmNGwLyaE...</td>\n",
       "      <td>2015 Ford Fusion SE, 2.5 4 cyl. automatic, air...</td>\n",
       "      <td>NaN</td>\n",
       "      <td>ia</td>\n",
       "      <td>41.373000</td>\n",
       "      <td>-93.735800</td>\n",
       "      <td>2021-05-04T11:59:42-0500</td>\n",
       "      <td>low</td>\n",
       "    </tr>\n",
       "    <tr>\n",
       "      <th>3547</th>\n",
       "      <td>7313511076</td>\n",
       "      <td>https://athensohio.craigslist.org/ctd/d/athens...</td>\n",
       "      <td>athens</td>\n",
       "      <td>https://athensohio.craigslist.org</td>\n",
       "      <td>23590</td>\n",
       "      <td>2012.0</td>\n",
       "      <td>ford</td>\n",
       "      <td>f150 supercrew cab xlt</td>\n",
       "      <td>good</td>\n",
       "      <td>8 cylinders</td>\n",
       "      <td>...</td>\n",
       "      <td>pickup</td>\n",
       "      <td>white</td>\n",
       "      <td>https://images.craigslist.org/00J0J_4mfUGXkpYW...</td>\n",
       "      <td>Carvana is the safer way to buy a car During t...</td>\n",
       "      <td>NaN</td>\n",
       "      <td>oh</td>\n",
       "      <td>39.320000</td>\n",
       "      <td>-82.090000</td>\n",
       "      <td>2021-04-27T16:10:50-0400</td>\n",
       "      <td>high</td>\n",
       "    </tr>\n",
       "    <tr>\n",
       "      <th>3635</th>\n",
       "      <td>7314807085</td>\n",
       "      <td>https://oklahomacity.craigslist.org/ctd/d/norm...</td>\n",
       "      <td>oklahoma city</td>\n",
       "      <td>https://oklahomacity.craigslist.org</td>\n",
       "      <td>35988</td>\n",
       "      <td>2018.0</td>\n",
       "      <td>chevrolet</td>\n",
       "      <td>traverse premier</td>\n",
       "      <td>like new</td>\n",
       "      <td>NaN</td>\n",
       "      <td>...</td>\n",
       "      <td>NaN</td>\n",
       "      <td>NaN</td>\n",
       "      <td>https://images.craigslist.org/00i0i_4adOkOM7Vm...</td>\n",
       "      <td>THIS 2018 CHEVROLET TRAVERSE WAS JUST TRADED I...</td>\n",
       "      <td>NaN</td>\n",
       "      <td>ok</td>\n",
       "      <td>35.199000</td>\n",
       "      <td>-97.484100</td>\n",
       "      <td>2021-04-30T10:02:34-0500</td>\n",
       "      <td>high</td>\n",
       "    </tr>\n",
       "    <tr>\n",
       "      <th>3726</th>\n",
       "      <td>7311813732</td>\n",
       "      <td>https://youngstown.craigslist.org/ctd/d/struth...</td>\n",
       "      <td>youngstown</td>\n",
       "      <td>https://youngstown.craigslist.org</td>\n",
       "      <td>3000</td>\n",
       "      <td>2006.0</td>\n",
       "      <td>pontiac</td>\n",
       "      <td>grand prix</td>\n",
       "      <td>NaN</td>\n",
       "      <td>NaN</td>\n",
       "      <td>...</td>\n",
       "      <td>NaN</td>\n",
       "      <td>NaN</td>\n",
       "      <td>https://images.craigslist.org/00W0W_aE2NBfU8gr...</td>\n",
       "      <td>2007 PONTIAC GRAND PRIX. GOOD CONDITION IN &amp; O...</td>\n",
       "      <td>NaN</td>\n",
       "      <td>oh</td>\n",
       "      <td>41.023719</td>\n",
       "      <td>-80.594793</td>\n",
       "      <td>2021-04-24T09:42:34-0400</td>\n",
       "      <td>low</td>\n",
       "    </tr>\n",
       "    <tr>\n",
       "      <th>3756</th>\n",
       "      <td>7308232496</td>\n",
       "      <td>https://raleigh.craigslist.org/ctd/d/raleigh-2...</td>\n",
       "      <td>raleigh / durham / CH</td>\n",
       "      <td>https://raleigh.craigslist.org</td>\n",
       "      <td>28990</td>\n",
       "      <td>2018.0</td>\n",
       "      <td>gmc</td>\n",
       "      <td>acadia sle-2 sport utility</td>\n",
       "      <td>good</td>\n",
       "      <td>6 cylinders</td>\n",
       "      <td>...</td>\n",
       "      <td>SUV</td>\n",
       "      <td>NaN</td>\n",
       "      <td>https://images.craigslist.org/00I0I_luAr8SgpD6...</td>\n",
       "      <td>Carvana is the safer way to buy a car During t...</td>\n",
       "      <td>NaN</td>\n",
       "      <td>nc</td>\n",
       "      <td>35.820000</td>\n",
       "      <td>-78.650000</td>\n",
       "      <td>2021-04-17T10:51:25-0400</td>\n",
       "      <td>high</td>\n",
       "    </tr>\n",
       "    <tr>\n",
       "      <th>4045</th>\n",
       "      <td>7310391787</td>\n",
       "      <td>https://eugene.craigslist.org/ctd/d/gladstone-...</td>\n",
       "      <td>eugene</td>\n",
       "      <td>https://eugene.craigslist.org</td>\n",
       "      <td>24223</td>\n",
       "      <td>2013.0</td>\n",
       "      <td>gmc</td>\n",
       "      <td>acadia denali</td>\n",
       "      <td>excellent</td>\n",
       "      <td>6 cylinders</td>\n",
       "      <td>...</td>\n",
       "      <td>SUV</td>\n",
       "      <td>NaN</td>\n",
       "      <td>https://images.craigslist.org/00S0S_8XWCL18gR9...</td>\n",
       "      <td>Crown Motors PDX        STOCK #:  177487      ...</td>\n",
       "      <td>NaN</td>\n",
       "      <td>or</td>\n",
       "      <td>45.379929</td>\n",
       "      <td>-122.583757</td>\n",
       "      <td>2021-04-21T09:43:28-0700</td>\n",
       "      <td>high</td>\n",
       "    </tr>\n",
       "    <tr>\n",
       "      <th>4281</th>\n",
       "      <td>7310693445</td>\n",
       "      <td>https://pueblo.craigslist.org/ctd/d/tempe-2017...</td>\n",
       "      <td>pueblo</td>\n",
       "      <td>https://pueblo.craigslist.org</td>\n",
       "      <td>67995</td>\n",
       "      <td>2017.0</td>\n",
       "      <td>ford</td>\n",
       "      <td>f-450 super duty lariat</td>\n",
       "      <td>NaN</td>\n",
       "      <td>8 cylinders</td>\n",
       "      <td>...</td>\n",
       "      <td>pickup</td>\n",
       "      <td>black</td>\n",
       "      <td>https://images.craigslist.org/00N0N_6ZwHNyGUyg...</td>\n",
       "      <td>2017 Ford F-450 Super Duty Lariat Truck2017 FO...</td>\n",
       "      <td>NaN</td>\n",
       "      <td>co</td>\n",
       "      <td>33.391700</td>\n",
       "      <td>-111.924900</td>\n",
       "      <td>2021-04-21T21:07:59-0600</td>\n",
       "      <td>high</td>\n",
       "    </tr>\n",
       "    <tr>\n",
       "      <th>4687</th>\n",
       "      <td>7310816094</td>\n",
       "      <td>https://monroe.craigslist.org/ctd/d/monroe-201...</td>\n",
       "      <td>monroe</td>\n",
       "      <td>https://monroe.craigslist.org</td>\n",
       "      <td>29800</td>\n",
       "      <td>2019.0</td>\n",
       "      <td>infiniti</td>\n",
       "      <td>qx60 luxe</td>\n",
       "      <td>NaN</td>\n",
       "      <td>NaN</td>\n",
       "      <td>...</td>\n",
       "      <td>SUV</td>\n",
       "      <td>black</td>\n",
       "      <td>https://images.craigslist.org/00P0P_aZolI9pUli...</td>\n",
       "      <td>It is black with black interior and has leathe...</td>\n",
       "      <td>NaN</td>\n",
       "      <td>la</td>\n",
       "      <td>32.513345</td>\n",
       "      <td>-92.113044</td>\n",
       "      <td>2021-04-22T09:25:35-0500</td>\n",
       "      <td>high</td>\n",
       "    </tr>\n",
       "    <tr>\n",
       "      <th>4711</th>\n",
       "      <td>7314767434</td>\n",
       "      <td>https://orlando.craigslist.org/ctd/d/winter-pa...</td>\n",
       "      <td>orlando</td>\n",
       "      <td>https://orlando.craigslist.org</td>\n",
       "      <td>17634</td>\n",
       "      <td>2019.0</td>\n",
       "      <td>toyota</td>\n",
       "      <td>corolla</td>\n",
       "      <td>NaN</td>\n",
       "      <td>4 cylinders</td>\n",
       "      <td>...</td>\n",
       "      <td>sedan</td>\n",
       "      <td>custom</td>\n",
       "      <td>https://images.craigslist.org/00U0U_8FZYd9tz9s...</td>\n",
       "      <td>Most common questions about this vehicle:  Wan...</td>\n",
       "      <td>NaN</td>\n",
       "      <td>fl</td>\n",
       "      <td>28.610096</td>\n",
       "      <td>-81.298342</td>\n",
       "      <td>2021-04-30T09:48:20-0400</td>\n",
       "      <td>medium</td>\n",
       "    </tr>\n",
       "    <tr>\n",
       "      <th>5003</th>\n",
       "      <td>7303629857</td>\n",
       "      <td>https://vermont.craigslist.org/ctd/d/south-bar...</td>\n",
       "      <td>vermont</td>\n",
       "      <td>https://vermont.craigslist.org</td>\n",
       "      <td>24995</td>\n",
       "      <td>2019.0</td>\n",
       "      <td>toyota</td>\n",
       "      <td>rav4 xle</td>\n",
       "      <td>like new</td>\n",
       "      <td>4 cylinders</td>\n",
       "      <td>...</td>\n",
       "      <td>SUV</td>\n",
       "      <td>black</td>\n",
       "      <td>https://images.craigslist.org/00f0f_cUKZ6paZ6r...</td>\n",
       "      <td>Ayer Auto Sales, LLC. \\t\\t\\t\\t\\t\\t    802-622-...</td>\n",
       "      <td>NaN</td>\n",
       "      <td>vt</td>\n",
       "      <td>44.209041</td>\n",
       "      <td>-72.514597</td>\n",
       "      <td>2021-04-08T10:53:10-0400</td>\n",
       "      <td>high</td>\n",
       "    </tr>\n",
       "    <tr>\n",
       "      <th>5041</th>\n",
       "      <td>7315995136</td>\n",
       "      <td>https://appleton.craigslist.org/cto/d/oakfield...</td>\n",
       "      <td>appleton-oshkosh-FDL</td>\n",
       "      <td>https://appleton.craigslist.org</td>\n",
       "      <td>4950</td>\n",
       "      <td>2008.0</td>\n",
       "      <td>nissan</td>\n",
       "      <td>versa s</td>\n",
       "      <td>good</td>\n",
       "      <td>4 cylinders</td>\n",
       "      <td>...</td>\n",
       "      <td>hatchback</td>\n",
       "      <td>black</td>\n",
       "      <td>https://images.craigslist.org/00E0E_1lQ3cFoy8s...</td>\n",
       "      <td>2008 Nissan Versa  Only 76k miles 1.8 L 4 cyli...</td>\n",
       "      <td>NaN</td>\n",
       "      <td>wi</td>\n",
       "      <td>43.686400</td>\n",
       "      <td>-88.556900</td>\n",
       "      <td>2021-05-02T18:42:21-0500</td>\n",
       "      <td>low</td>\n",
       "    </tr>\n",
       "    <tr>\n",
       "      <th>5202</th>\n",
       "      <td>7310167641</td>\n",
       "      <td>https://pensacola.craigslist.org/ctd/d/pensaco...</td>\n",
       "      <td>pensacola</td>\n",
       "      <td>https://pensacola.craigslist.org</td>\n",
       "      <td>3950</td>\n",
       "      <td>2003.0</td>\n",
       "      <td>toyota</td>\n",
       "      <td>highlander</td>\n",
       "      <td>good</td>\n",
       "      <td>6 cylinders</td>\n",
       "      <td>...</td>\n",
       "      <td>SUV</td>\n",
       "      <td>red</td>\n",
       "      <td>https://images.craigslist.org/00h0h_eENRfPxlpw...</td>\n",
       "      <td>Drives good All power works  Ac..cold Clear co...</td>\n",
       "      <td>NaN</td>\n",
       "      <td>fl</td>\n",
       "      <td>30.448100</td>\n",
       "      <td>-87.258900</td>\n",
       "      <td>2021-04-20T21:28:17-0500</td>\n",
       "      <td>low</td>\n",
       "    </tr>\n",
       "    <tr>\n",
       "      <th>5244</th>\n",
       "      <td>7316873989</td>\n",
       "      <td>https://lasvegas.craigslist.org/cto/d/las-vega...</td>\n",
       "      <td>las vegas</td>\n",
       "      <td>https://lasvegas.craigslist.org</td>\n",
       "      <td>8600</td>\n",
       "      <td>1996.0</td>\n",
       "      <td>chevrolet</td>\n",
       "      <td>camaro</td>\n",
       "      <td>good</td>\n",
       "      <td>8 cylinders</td>\n",
       "      <td>...</td>\n",
       "      <td>NaN</td>\n",
       "      <td>black</td>\n",
       "      <td>https://images.craigslist.org/00q0q_k3U6G9IGrJ...</td>\n",
       "      <td>This 1996 Chevrolet Camaro z28 has been highly...</td>\n",
       "      <td>NaN</td>\n",
       "      <td>nv</td>\n",
       "      <td>36.144406</td>\n",
       "      <td>-115.099986</td>\n",
       "      <td>2021-05-04T12:04:50-0700</td>\n",
       "      <td>low</td>\n",
       "    </tr>\n",
       "    <tr>\n",
       "      <th>5548</th>\n",
       "      <td>7316466470</td>\n",
       "      <td>https://sandiego.craigslist.org/csd/cto/d/san-...</td>\n",
       "      <td>san diego</td>\n",
       "      <td>https://sandiego.craigslist.org</td>\n",
       "      <td>1000</td>\n",
       "      <td>1997.0</td>\n",
       "      <td>lexus</td>\n",
       "      <td>es300</td>\n",
       "      <td>fair</td>\n",
       "      <td>6 cylinders</td>\n",
       "      <td>...</td>\n",
       "      <td>sedan</td>\n",
       "      <td>brown</td>\n",
       "      <td>https://images.craigslist.org/01717_gMBhFCIo3h...</td>\n",
       "      <td>Daily driver. Well maintained Lexus ES 300. RU...</td>\n",
       "      <td>NaN</td>\n",
       "      <td>ca</td>\n",
       "      <td>32.778300</td>\n",
       "      <td>-117.133500</td>\n",
       "      <td>2021-05-03T15:14:48-0700</td>\n",
       "      <td>low</td>\n",
       "    </tr>\n",
       "    <tr>\n",
       "      <th>5597</th>\n",
       "      <td>7315652481</td>\n",
       "      <td>https://modesto.craigslist.org/ctd/d/modesto-n...</td>\n",
       "      <td>modesto</td>\n",
       "      <td>https://modesto.craigslist.org</td>\n",
       "      <td>7499</td>\n",
       "      <td>2012.0</td>\n",
       "      <td>nissan</td>\n",
       "      <td>rogue</td>\n",
       "      <td>NaN</td>\n",
       "      <td>NaN</td>\n",
       "      <td>...</td>\n",
       "      <td>NaN</td>\n",
       "      <td>NaN</td>\n",
       "      <td>https://images.craigslist.org/00z0z_5sv0X9JYxE...</td>\n",
       "      <td>Nissan Rogue SV w/SL Package 4dr Crossover CVT...</td>\n",
       "      <td>NaN</td>\n",
       "      <td>ca</td>\n",
       "      <td>37.600004</td>\n",
       "      <td>-120.938713</td>\n",
       "      <td>2021-05-01T22:26:11-0700</td>\n",
       "      <td>low</td>\n",
       "    </tr>\n",
       "    <tr>\n",
       "      <th>6253</th>\n",
       "      <td>7316823882</td>\n",
       "      <td>https://fresno.craigslist.org/ctd/d/clovis-bea...</td>\n",
       "      <td>fresno / madera</td>\n",
       "      <td>https://fresno.craigslist.org</td>\n",
       "      <td>8999</td>\n",
       "      <td>2013.0</td>\n",
       "      <td>toyota</td>\n",
       "      <td>prius</td>\n",
       "      <td>excellent</td>\n",
       "      <td>4 cylinders</td>\n",
       "      <td>...</td>\n",
       "      <td>hatchback</td>\n",
       "      <td>blue</td>\n",
       "      <td>https://images.craigslist.org/00k0k_gmyHPr2Tek...</td>\n",
       "      <td>2013 Toyota Prius Only $8,999! Has 140,779 mil...</td>\n",
       "      <td>NaN</td>\n",
       "      <td>ca</td>\n",
       "      <td>36.815700</td>\n",
       "      <td>-119.694400</td>\n",
       "      <td>2021-05-04T10:45:14-0700</td>\n",
       "      <td>low</td>\n",
       "    </tr>\n",
       "    <tr>\n",
       "      <th>6383</th>\n",
       "      <td>7316138519</td>\n",
       "      <td>https://missoula.craigslist.org/cto/d/missoula...</td>\n",
       "      <td>missoula</td>\n",
       "      <td>https://missoula.craigslist.org</td>\n",
       "      <td>11900</td>\n",
       "      <td>2006.0</td>\n",
       "      <td>ram</td>\n",
       "      <td>2500</td>\n",
       "      <td>good</td>\n",
       "      <td>8 cylinders</td>\n",
       "      <td>...</td>\n",
       "      <td>pickup</td>\n",
       "      <td>red</td>\n",
       "      <td>https://images.craigslist.org/00r0r_IrN2r9DS7T...</td>\n",
       "      <td>I am selling my trusted 2006 Dodge 2500, 3/4 t...</td>\n",
       "      <td>NaN</td>\n",
       "      <td>mt</td>\n",
       "      <td>46.900600</td>\n",
       "      <td>-114.002700</td>\n",
       "      <td>2021-05-03T07:02:59-0600</td>\n",
       "      <td>medium</td>\n",
       "    </tr>\n",
       "    <tr>\n",
       "      <th>6400</th>\n",
       "      <td>7309842734</td>\n",
       "      <td>https://charlestonwv.craigslist.org/ctd/d/chan...</td>\n",
       "      <td>charleston</td>\n",
       "      <td>https://charlestonwv.craigslist.org</td>\n",
       "      <td>9950</td>\n",
       "      <td>2010.0</td>\n",
       "      <td>cadillac</td>\n",
       "      <td>escalade</td>\n",
       "      <td>NaN</td>\n",
       "      <td>8 cylinders</td>\n",
       "      <td>...</td>\n",
       "      <td>SUV</td>\n",
       "      <td>red</td>\n",
       "      <td>https://images.craigslist.org/00I0I_ilvHIiOgNa...</td>\n",
       "      <td>This Cadillac Escalade can be yours today!If y...</td>\n",
       "      <td>NaN</td>\n",
       "      <td>wv</td>\n",
       "      <td>38.897600</td>\n",
       "      <td>-77.509200</td>\n",
       "      <td>2021-04-20T12:02:35-0400</td>\n",
       "      <td>medium</td>\n",
       "    </tr>\n",
       "    <tr>\n",
       "      <th>6458</th>\n",
       "      <td>7311421903</td>\n",
       "      <td>https://springfield.craigslist.org/ctd/d/clint...</td>\n",
       "      <td>springfield</td>\n",
       "      <td>https://springfield.craigslist.org</td>\n",
       "      <td>53456</td>\n",
       "      <td>2020.0</td>\n",
       "      <td>ram</td>\n",
       "      <td>1500</td>\n",
       "      <td>NaN</td>\n",
       "      <td>NaN</td>\n",
       "      <td>...</td>\n",
       "      <td>pickup</td>\n",
       "      <td>NaN</td>\n",
       "      <td>https://images.craigslist.org/01010_l68nfX1mDF...</td>\n",
       "      <td>➔ Want to see more pictures?Paste this link to...</td>\n",
       "      <td>NaN</td>\n",
       "      <td>mo</td>\n",
       "      <td>38.382623</td>\n",
       "      <td>-93.773440</td>\n",
       "      <td>2021-04-23T12:00:37-0500</td>\n",
       "      <td>high</td>\n",
       "    </tr>\n",
       "    <tr>\n",
       "      <th>6488</th>\n",
       "      <td>7312525382</td>\n",
       "      <td>https://charlotte.craigslist.org/cto/d/myrtle-...</td>\n",
       "      <td>charlotte</td>\n",
       "      <td>https://charlotte.craigslist.org</td>\n",
       "      <td>21500</td>\n",
       "      <td>1947.0</td>\n",
       "      <td>mercury</td>\n",
       "      <td>NaN</td>\n",
       "      <td>good</td>\n",
       "      <td>8 cylinders</td>\n",
       "      <td>...</td>\n",
       "      <td>NaN</td>\n",
       "      <td>green</td>\n",
       "      <td>https://images.craigslist.org/00Z0Z_5NJo2usGb6...</td>\n",
       "      <td>47 Mercury restorod  302/c6 4 wheel Disc brake...</td>\n",
       "      <td>NaN</td>\n",
       "      <td>nc</td>\n",
       "      <td>33.699400</td>\n",
       "      <td>-78.913700</td>\n",
       "      <td>2021-04-25T17:14:08-0400</td>\n",
       "      <td>medium</td>\n",
       "    </tr>\n",
       "    <tr>\n",
       "      <th>6694</th>\n",
       "      <td>7308293412</td>\n",
       "      <td>https://kalispell.craigslist.org/cto/d/columbi...</td>\n",
       "      <td>kalispell</td>\n",
       "      <td>https://kalispell.craigslist.org</td>\n",
       "      <td>119966</td>\n",
       "      <td>1966.0</td>\n",
       "      <td>chevrolet</td>\n",
       "      <td>corvette sting ray</td>\n",
       "      <td>NaN</td>\n",
       "      <td>NaN</td>\n",
       "      <td>...</td>\n",
       "      <td>convertible</td>\n",
       "      <td>NaN</td>\n",
       "      <td>https://images.craigslist.org/00000_4T3r43W3Fu...</td>\n",
       "      <td>DO NOT NEED HELP SELLING – DON’T ASK!  Selling...</td>\n",
       "      <td>NaN</td>\n",
       "      <td>mt</td>\n",
       "      <td>48.404000</td>\n",
       "      <td>-114.350900</td>\n",
       "      <td>2021-04-17T10:28:02-0600</td>\n",
       "      <td>high</td>\n",
       "    </tr>\n",
       "    <tr>\n",
       "      <th>6739</th>\n",
       "      <td>7303360871</td>\n",
       "      <td>https://cosprings.craigslist.org/cto/d/colorad...</td>\n",
       "      <td>colorado springs</td>\n",
       "      <td>https://cosprings.craigslist.org</td>\n",
       "      <td>6700</td>\n",
       "      <td>2007.0</td>\n",
       "      <td>mini</td>\n",
       "      <td>cooper s</td>\n",
       "      <td>excellent</td>\n",
       "      <td>4 cylinders</td>\n",
       "      <td>...</td>\n",
       "      <td>hatchback</td>\n",
       "      <td>green</td>\n",
       "      <td>https://images.craigslist.org/00000_2hB5QQGFHX...</td>\n",
       "      <td>**SALE PENDING checkback after 3 May for updat...</td>\n",
       "      <td>NaN</td>\n",
       "      <td>co</td>\n",
       "      <td>38.909700</td>\n",
       "      <td>-104.710700</td>\n",
       "      <td>2021-04-07T15:40:23-0600</td>\n",
       "      <td>low</td>\n",
       "    </tr>\n",
       "    <tr>\n",
       "      <th>6969</th>\n",
       "      <td>7316803329</td>\n",
       "      <td>https://orlando.craigslist.org/ctd/d/orlando-2...</td>\n",
       "      <td>orlando</td>\n",
       "      <td>https://orlando.craigslist.org</td>\n",
       "      <td>5500</td>\n",
       "      <td>2008.0</td>\n",
       "      <td>mercedes-benz</td>\n",
       "      <td>benz c350</td>\n",
       "      <td>NaN</td>\n",
       "      <td>NaN</td>\n",
       "      <td>...</td>\n",
       "      <td>NaN</td>\n",
       "      <td>NaN</td>\n",
       "      <td>https://images.craigslist.org/00202_1VM9DpeX88...</td>\n",
       "      <td>2008 MERCEDES C350 SEDAN  V6 AUTOMATIC  126K M...</td>\n",
       "      <td>NaN</td>\n",
       "      <td>fl</td>\n",
       "      <td>28.514000</td>\n",
       "      <td>-81.357000</td>\n",
       "      <td>2021-05-04T13:13:52-0400</td>\n",
       "      <td>low</td>\n",
       "    </tr>\n",
       "    <tr>\n",
       "      <th>7036</th>\n",
       "      <td>7316875283</td>\n",
       "      <td>https://newyork.craigslist.org/brk/cto/d/brook...</td>\n",
       "      <td>new york city</td>\n",
       "      <td>https://newyork.craigslist.org</td>\n",
       "      <td>9850</td>\n",
       "      <td>2016.0</td>\n",
       "      <td>NaN</td>\n",
       "      <td>smart fortwo</td>\n",
       "      <td>excellent</td>\n",
       "      <td>3 cylinders</td>\n",
       "      <td>...</td>\n",
       "      <td>SUV</td>\n",
       "      <td>white</td>\n",
       "      <td>https://images.craigslist.org/00H0H_2mbWwNo5Cr...</td>\n",
       "      <td>2016 SMART FORTWO  FOR SALE  18K MILES  PERFEC...</td>\n",
       "      <td>NaN</td>\n",
       "      <td>ny</td>\n",
       "      <td>40.585822</td>\n",
       "      <td>-73.971225</td>\n",
       "      <td>2021-05-04T15:06:51-0400</td>\n",
       "      <td>medium</td>\n",
       "    </tr>\n",
       "    <tr>\n",
       "      <th>7037</th>\n",
       "      <td>7305149883</td>\n",
       "      <td>https://rockford.craigslist.org/ctd/d/rockford...</td>\n",
       "      <td>rockford</td>\n",
       "      <td>https://rockford.craigslist.org</td>\n",
       "      <td>33590</td>\n",
       "      <td>2017.0</td>\n",
       "      <td>audi</td>\n",
       "      <td>q5 3.0t premium plus sport</td>\n",
       "      <td>good</td>\n",
       "      <td>6 cylinders</td>\n",
       "      <td>...</td>\n",
       "      <td>SUV</td>\n",
       "      <td>black</td>\n",
       "      <td>https://images.craigslist.org/00F0F_hMFDt0ZDGW...</td>\n",
       "      <td>Carvana is the safer way to buy a car During t...</td>\n",
       "      <td>NaN</td>\n",
       "      <td>il</td>\n",
       "      <td>42.270000</td>\n",
       "      <td>-89.060000</td>\n",
       "      <td>2021-04-11T10:11:04-0500</td>\n",
       "      <td>high</td>\n",
       "    </tr>\n",
       "    <tr>\n",
       "      <th>7651</th>\n",
       "      <td>7316170283</td>\n",
       "      <td>https://cleveland.craigslist.org/cto/d/clevela...</td>\n",
       "      <td>cleveland</td>\n",
       "      <td>https://cleveland.craigslist.org</td>\n",
       "      <td>7500</td>\n",
       "      <td>2009.0</td>\n",
       "      <td>bmw</td>\n",
       "      <td>328 xi coupe</td>\n",
       "      <td>good</td>\n",
       "      <td>NaN</td>\n",
       "      <td>...</td>\n",
       "      <td>coupe</td>\n",
       "      <td>black</td>\n",
       "      <td>https://images.craigslist.org/01010_2uXoeg5E4x...</td>\n",
       "      <td>2009 BMW 328 2D COUPE XI – Automatic Transmiss...</td>\n",
       "      <td>NaN</td>\n",
       "      <td>oh</td>\n",
       "      <td>41.508400</td>\n",
       "      <td>-81.607600</td>\n",
       "      <td>2021-05-03T10:09:57-0400</td>\n",
       "      <td>low</td>\n",
       "    </tr>\n",
       "    <tr>\n",
       "      <th>8110</th>\n",
       "      <td>7314997172</td>\n",
       "      <td>https://fortmyers.craigslist.org/chl/ctd/d/200...</td>\n",
       "      <td>ft myers / SW florida</td>\n",
       "      <td>https://fortmyers.craigslist.org</td>\n",
       "      <td>34300</td>\n",
       "      <td>2005.0</td>\n",
       "      <td>lexus</td>\n",
       "      <td>lx 470</td>\n",
       "      <td>NaN</td>\n",
       "      <td>8 cylinders</td>\n",
       "      <td>...</td>\n",
       "      <td>SUV</td>\n",
       "      <td>black</td>\n",
       "      <td>https://images.craigslist.org/00E0E_2Rs0U3cvFW...</td>\n",
       "      <td>Description:      SUPER PREMIUM ICON DOBINSONS...</td>\n",
       "      <td>NaN</td>\n",
       "      <td>fl</td>\n",
       "      <td>NaN</td>\n",
       "      <td>NaN</td>\n",
       "      <td>2021-04-30T16:18:06-0400</td>\n",
       "      <td>high</td>\n",
       "    </tr>\n",
       "    <tr>\n",
       "      <th>8203</th>\n",
       "      <td>7311414611</td>\n",
       "      <td>https://limaohio.craigslist.org/ctd/d/wapakone...</td>\n",
       "      <td>lima / findlay</td>\n",
       "      <td>https://limaohio.craigslist.org</td>\n",
       "      <td>10998</td>\n",
       "      <td>2013.0</td>\n",
       "      <td>ford</td>\n",
       "      <td>taurus</td>\n",
       "      <td>excellent</td>\n",
       "      <td>NaN</td>\n",
       "      <td>...</td>\n",
       "      <td>sedan</td>\n",
       "      <td>NaN</td>\n",
       "      <td>https://images.craigslist.org/00z0z_dqNkvK4ZIV...</td>\n",
       "      <td>2013 Ford Taurus SEL Sedan  FWD   Drive it hom...</td>\n",
       "      <td>NaN</td>\n",
       "      <td>oh</td>\n",
       "      <td>40.573231</td>\n",
       "      <td>-84.184755</td>\n",
       "      <td>2021-04-23T12:49:21-0400</td>\n",
       "      <td>medium</td>\n",
       "    </tr>\n",
       "    <tr>\n",
       "      <th>8280</th>\n",
       "      <td>7311721201</td>\n",
       "      <td>https://oklahomacity.craigslist.org/ctd/d/okar...</td>\n",
       "      <td>oklahoma city</td>\n",
       "      <td>https://oklahomacity.craigslist.org</td>\n",
       "      <td>29888</td>\n",
       "      <td>2002.0</td>\n",
       "      <td>NaN</td>\n",
       "      <td>2002 F350</td>\n",
       "      <td>excellent</td>\n",
       "      <td>8 cylinders</td>\n",
       "      <td>...</td>\n",
       "      <td>truck</td>\n",
       "      <td>red</td>\n",
       "      <td>https://images.craigslist.org/00000_igbUYD55rR...</td>\n",
       "      <td>🔥2002 FORD F350 7.3 XLT🔥 #oklahomaluxurydiesel...</td>\n",
       "      <td>NaN</td>\n",
       "      <td>ok</td>\n",
       "      <td>35.863600</td>\n",
       "      <td>-97.947300</td>\n",
       "      <td>2021-04-23T22:30:59-0500</td>\n",
       "      <td>high</td>\n",
       "    </tr>\n",
       "    <tr>\n",
       "      <th>8468</th>\n",
       "      <td>7306120259</td>\n",
       "      <td>https://jonesboro.craigslist.org/ctd/d/jonesbo...</td>\n",
       "      <td>jonesboro</td>\n",
       "      <td>https://jonesboro.craigslist.org</td>\n",
       "      <td>15590</td>\n",
       "      <td>2016.0</td>\n",
       "      <td>NaN</td>\n",
       "      <td>Scion iM Hatchback 4D</td>\n",
       "      <td>good</td>\n",
       "      <td>NaN</td>\n",
       "      <td>...</td>\n",
       "      <td>hatchback</td>\n",
       "      <td>green</td>\n",
       "      <td>https://images.craigslist.org/00N0N_1xMPvfxRAI...</td>\n",
       "      <td>Carvana is the safer way to buy a car During t...</td>\n",
       "      <td>NaN</td>\n",
       "      <td>ar</td>\n",
       "      <td>35.820000</td>\n",
       "      <td>-90.680000</td>\n",
       "      <td>2021-04-13T09:11:02-0500</td>\n",
       "      <td>medium</td>\n",
       "    </tr>\n",
       "    <tr>\n",
       "      <th>8615</th>\n",
       "      <td>7315469408</td>\n",
       "      <td>https://tricities.craigslist.org/ctd/d/piney-f...</td>\n",
       "      <td>tri-cities</td>\n",
       "      <td>https://tricities.craigslist.org</td>\n",
       "      <td>24900</td>\n",
       "      <td>2013.0</td>\n",
       "      <td>jeep</td>\n",
       "      <td>wrangler unlimi</td>\n",
       "      <td>NaN</td>\n",
       "      <td>NaN</td>\n",
       "      <td>...</td>\n",
       "      <td>other</td>\n",
       "      <td>silver</td>\n",
       "      <td>https://images.craigslist.org/01616_fPpmlh3NfU...</td>\n",
       "      <td>2013 JEEP WRANGLER UNLIMI SAHARA     Offered b...</td>\n",
       "      <td>NaN</td>\n",
       "      <td>tn</td>\n",
       "      <td>36.438087</td>\n",
       "      <td>-82.302045</td>\n",
       "      <td>2021-05-01T15:55:07-0400</td>\n",
       "      <td>high</td>\n",
       "    </tr>\n",
       "    <tr>\n",
       "      <th>8968</th>\n",
       "      <td>7308392671</td>\n",
       "      <td>https://charleston.craigslist.org/ctd/d/charle...</td>\n",
       "      <td>charleston</td>\n",
       "      <td>https://charleston.craigslist.org</td>\n",
       "      <td>34990</td>\n",
       "      <td>2014.0</td>\n",
       "      <td>chevrolet</td>\n",
       "      <td>silverado 1500 double</td>\n",
       "      <td>good</td>\n",
       "      <td>8 cylinders</td>\n",
       "      <td>...</td>\n",
       "      <td>pickup</td>\n",
       "      <td>white</td>\n",
       "      <td>https://images.craigslist.org/00N0N_1xMPvfxRAI...</td>\n",
       "      <td>Carvana is the safer way to buy a car During t...</td>\n",
       "      <td>NaN</td>\n",
       "      <td>sc</td>\n",
       "      <td>32.780000</td>\n",
       "      <td>-79.990000</td>\n",
       "      <td>2021-04-17T14:50:41-0400</td>\n",
       "      <td>high</td>\n",
       "    </tr>\n",
       "    <tr>\n",
       "      <th>8992</th>\n",
       "      <td>7310332426</td>\n",
       "      <td>https://sarasota.craigslist.org/cto/d/bradento...</td>\n",
       "      <td>sarasota-bradenton</td>\n",
       "      <td>https://sarasota.craigslist.org</td>\n",
       "      <td>6900</td>\n",
       "      <td>2009.0</td>\n",
       "      <td>volkswagen</td>\n",
       "      <td>routan</td>\n",
       "      <td>like new</td>\n",
       "      <td>6 cylinders</td>\n",
       "      <td>...</td>\n",
       "      <td>mini-van</td>\n",
       "      <td>blue</td>\n",
       "      <td>https://images.craigslist.org/00z0z_3UHI6yZtFF...</td>\n",
       "      <td>Power windows  Power sunroof  Power locks Powe...</td>\n",
       "      <td>NaN</td>\n",
       "      <td>fl</td>\n",
       "      <td>27.447345</td>\n",
       "      <td>-82.589752</td>\n",
       "      <td>2021-04-21T11:11:05-0400</td>\n",
       "      <td>low</td>\n",
       "    </tr>\n",
       "    <tr>\n",
       "      <th>9025</th>\n",
       "      <td>7314746970</td>\n",
       "      <td>https://charlottesville.craigslist.org/ctd/d/c...</td>\n",
       "      <td>charlottesville</td>\n",
       "      <td>https://charlottesville.craigslist.org</td>\n",
       "      <td>29990</td>\n",
       "      <td>2017.0</td>\n",
       "      <td>ram</td>\n",
       "      <td>1500 quad cab tradesman</td>\n",
       "      <td>good</td>\n",
       "      <td>6 cylinders</td>\n",
       "      <td>...</td>\n",
       "      <td>pickup</td>\n",
       "      <td>white</td>\n",
       "      <td>https://images.craigslist.org/00n0n_5utTYsi17J...</td>\n",
       "      <td>Carvana is the safer way to buy a car During t...</td>\n",
       "      <td>NaN</td>\n",
       "      <td>va</td>\n",
       "      <td>38.030000</td>\n",
       "      <td>-78.480000</td>\n",
       "      <td>2021-04-30T09:02:26-0400</td>\n",
       "      <td>high</td>\n",
       "    </tr>\n",
       "    <tr>\n",
       "      <th>9147</th>\n",
       "      <td>7316028281</td>\n",
       "      <td>https://roswell.craigslist.org/cto/d/artesia-1...</td>\n",
       "      <td>roswell / carlsbad</td>\n",
       "      <td>https://roswell.craigslist.org</td>\n",
       "      <td>4800</td>\n",
       "      <td>1999.0</td>\n",
       "      <td>ford</td>\n",
       "      <td>f250 super duty</td>\n",
       "      <td>fair</td>\n",
       "      <td>8 cylinders</td>\n",
       "      <td>...</td>\n",
       "      <td>NaN</td>\n",
       "      <td>NaN</td>\n",
       "      <td>https://images.craigslist.org/00B0B_JJrxz7YNpC...</td>\n",
       "      <td>166,000 miles  Perfect for Work Truck   Kelly ...</td>\n",
       "      <td>NaN</td>\n",
       "      <td>nm</td>\n",
       "      <td>32.857482</td>\n",
       "      <td>-104.398696</td>\n",
       "      <td>2021-05-02T19:18:49-0600</td>\n",
       "      <td>low</td>\n",
       "    </tr>\n",
       "    <tr>\n",
       "      <th>9209</th>\n",
       "      <td>7313055922</td>\n",
       "      <td>https://tampa.craigslist.org/hil/ctd/d/tampa-r...</td>\n",
       "      <td>tampa bay area</td>\n",
       "      <td>https://tampa.craigslist.org</td>\n",
       "      <td>16999</td>\n",
       "      <td>2011.0</td>\n",
       "      <td>ram</td>\n",
       "      <td>2500 tradesman</td>\n",
       "      <td>NaN</td>\n",
       "      <td>8 cylinders</td>\n",
       "      <td>...</td>\n",
       "      <td>truck</td>\n",
       "      <td>white</td>\n",
       "      <td>https://images.craigslist.org/00Q0Q_7Jek9e7VLf...</td>\n",
       "      <td>Let me offer you professional assistance on th...</td>\n",
       "      <td>NaN</td>\n",
       "      <td>fl</td>\n",
       "      <td>28.006800</td>\n",
       "      <td>-82.556000</td>\n",
       "      <td>2021-04-26T17:49:05-0400</td>\n",
       "      <td>medium</td>\n",
       "    </tr>\n",
       "    <tr>\n",
       "      <th>9238</th>\n",
       "      <td>7313728738</td>\n",
       "      <td>https://providence.craigslist.org/ctd/d/east-w...</td>\n",
       "      <td>rhode island</td>\n",
       "      <td>https://providence.craigslist.org</td>\n",
       "      <td>21995</td>\n",
       "      <td>2017.0</td>\n",
       "      <td>audi</td>\n",
       "      <td>a4 2.0t quattro</td>\n",
       "      <td>excellent</td>\n",
       "      <td>4 cylinders</td>\n",
       "      <td>...</td>\n",
       "      <td>sedan</td>\n",
       "      <td>black</td>\n",
       "      <td>https://images.craigslist.org/00S0S_bPevGVnaw4...</td>\n",
       "      <td>2017 AUDI A4 2.0T PREMIUM 2017 Audi A4   2.0 T...</td>\n",
       "      <td>NaN</td>\n",
       "      <td>ri</td>\n",
       "      <td>41.909900</td>\n",
       "      <td>-72.602900</td>\n",
       "      <td>2021-04-28T06:06:44-0400</td>\n",
       "      <td>medium</td>\n",
       "    </tr>\n",
       "    <tr>\n",
       "      <th>9573</th>\n",
       "      <td>7304521734</td>\n",
       "      <td>https://kpr.craigslist.org/ctd/d/pasco-2019-fo...</td>\n",
       "      <td>kennewick-pasco-richland</td>\n",
       "      <td>https://kpr.craigslist.org</td>\n",
       "      <td>79999</td>\n",
       "      <td>2019.0</td>\n",
       "      <td>ford</td>\n",
       "      <td>f450 deisel power stroke</td>\n",
       "      <td>NaN</td>\n",
       "      <td>NaN</td>\n",
       "      <td>...</td>\n",
       "      <td>truck</td>\n",
       "      <td>white</td>\n",
       "      <td>https://images.craigslist.org/00D0D_ctOGGthFxQ...</td>\n",
       "      <td>2019 Ford F450 Lariat FX4 Dually 4x4 **Clean C...</td>\n",
       "      <td>NaN</td>\n",
       "      <td>wa</td>\n",
       "      <td>46.234838</td>\n",
       "      <td>-119.128015</td>\n",
       "      <td>2021-04-09T19:46:04-0700</td>\n",
       "      <td>high</td>\n",
       "    </tr>\n",
       "    <tr>\n",
       "      <th>9688</th>\n",
       "      <td>7310340844</td>\n",
       "      <td>https://maine.craigslist.org/ctd/d/kennebunkpo...</td>\n",
       "      <td>maine</td>\n",
       "      <td>https://maine.craigslist.org</td>\n",
       "      <td>13990</td>\n",
       "      <td>2016.0</td>\n",
       "      <td>volkswagen</td>\n",
       "      <td>tiguan</td>\n",
       "      <td>NaN</td>\n",
       "      <td>NaN</td>\n",
       "      <td>...</td>\n",
       "      <td>NaN</td>\n",
       "      <td>NaN</td>\n",
       "      <td>https://images.craigslist.org/00e0e_ktAEmiwieQ...</td>\n",
       "      <td>DESCRIPTION We have the financing available, r...</td>\n",
       "      <td>NaN</td>\n",
       "      <td>me</td>\n",
       "      <td>43.452464</td>\n",
       "      <td>-70.496353</td>\n",
       "      <td>2021-04-21T11:24:47-0400</td>\n",
       "      <td>medium</td>\n",
       "    </tr>\n",
       "    <tr>\n",
       "      <th>9723</th>\n",
       "      <td>7307639785</td>\n",
       "      <td>https://flint.craigslist.org/ctd/d/davison-201...</td>\n",
       "      <td>flint</td>\n",
       "      <td>https://flint.craigslist.org</td>\n",
       "      <td>13900</td>\n",
       "      <td>2010.0</td>\n",
       "      <td>ford</td>\n",
       "      <td>f-150 xlt</td>\n",
       "      <td>NaN</td>\n",
       "      <td>8 cylinders</td>\n",
       "      <td>...</td>\n",
       "      <td>truck</td>\n",
       "      <td>red</td>\n",
       "      <td>https://images.craigslist.org/00g0g_5LuMZR5YXF...</td>\n",
       "      <td>If you're looking for your next F-150, then co...</td>\n",
       "      <td>NaN</td>\n",
       "      <td>mi</td>\n",
       "      <td>43.034800</td>\n",
       "      <td>-83.526800</td>\n",
       "      <td>2021-04-16T09:02:18-0400</td>\n",
       "      <td>medium</td>\n",
       "    </tr>\n",
       "    <tr>\n",
       "      <th>9829</th>\n",
       "      <td>7316322425</td>\n",
       "      <td>https://raleigh.craigslist.org/cto/d/clayton-2...</td>\n",
       "      <td>raleigh / durham / CH</td>\n",
       "      <td>https://raleigh.craigslist.org</td>\n",
       "      <td>6500</td>\n",
       "      <td>2012.0</td>\n",
       "      <td>ford</td>\n",
       "      <td>focus</td>\n",
       "      <td>like new</td>\n",
       "      <td>4 cylinders</td>\n",
       "      <td>...</td>\n",
       "      <td>sedan</td>\n",
       "      <td>black</td>\n",
       "      <td>https://images.craigslist.org/00L0L_IRkv7Trtog...</td>\n",
       "      <td>2012 Beautiful gently used   Economy car 4 cyl...</td>\n",
       "      <td>NaN</td>\n",
       "      <td>nc</td>\n",
       "      <td>35.657700</td>\n",
       "      <td>-78.383700</td>\n",
       "      <td>2021-05-03T14:08:31-0400</td>\n",
       "      <td>low</td>\n",
       "    </tr>\n",
       "    <tr>\n",
       "      <th>9878</th>\n",
       "      <td>7304667741</td>\n",
       "      <td>https://hudsonvalley.craigslist.org/ctd/d/king...</td>\n",
       "      <td>hudson valley</td>\n",
       "      <td>https://hudsonvalley.craigslist.org</td>\n",
       "      <td>38990</td>\n",
       "      <td>2019.0</td>\n",
       "      <td>toyota</td>\n",
       "      <td>tundra crewmax sr5 pickup</td>\n",
       "      <td>good</td>\n",
       "      <td>8 cylinders</td>\n",
       "      <td>...</td>\n",
       "      <td>pickup</td>\n",
       "      <td>silver</td>\n",
       "      <td>https://images.craigslist.org/00J0J_jO4UqovDZu...</td>\n",
       "      <td>Carvana is the safer way to buy a car During t...</td>\n",
       "      <td>NaN</td>\n",
       "      <td>ny</td>\n",
       "      <td>41.930000</td>\n",
       "      <td>-73.990000</td>\n",
       "      <td>2021-04-10T11:01:36-0400</td>\n",
       "      <td>high</td>\n",
       "    </tr>\n",
       "    <tr>\n",
       "      <th>9907</th>\n",
       "      <td>7313785085</td>\n",
       "      <td>https://bakersfield.craigslist.org/ctd/d/baker...</td>\n",
       "      <td>bakersfield</td>\n",
       "      <td>https://bakersfield.craigslist.org</td>\n",
       "      <td>29990</td>\n",
       "      <td>2018.0</td>\n",
       "      <td>audi</td>\n",
       "      <td>q5 premium plus sport</td>\n",
       "      <td>good</td>\n",
       "      <td>NaN</td>\n",
       "      <td>...</td>\n",
       "      <td>other</td>\n",
       "      <td>black</td>\n",
       "      <td>https://images.craigslist.org/01717_H4BbJML3J8...</td>\n",
       "      <td>Carvana is the safer way to buy a car During t...</td>\n",
       "      <td>NaN</td>\n",
       "      <td>ca</td>\n",
       "      <td>35.380000</td>\n",
       "      <td>-119.020000</td>\n",
       "      <td>2021-04-28T06:51:00-0700</td>\n",
       "      <td>high</td>\n",
       "    </tr>\n",
       "    <tr>\n",
       "      <th>9984</th>\n",
       "      <td>7316417087</td>\n",
       "      <td>https://miami.craigslist.org/brw/ctd/d/fort-la...</td>\n",
       "      <td>south florida</td>\n",
       "      <td>https://miami.craigslist.org</td>\n",
       "      <td>11550</td>\n",
       "      <td>2013.0</td>\n",
       "      <td>ford</td>\n",
       "      <td>transit connect</td>\n",
       "      <td>excellent</td>\n",
       "      <td>4 cylinders</td>\n",
       "      <td>...</td>\n",
       "      <td>van</td>\n",
       "      <td>white</td>\n",
       "      <td>https://images.craigslist.org/00000_54Cnki88ck...</td>\n",
       "      <td>68k miles Financing Rates as low as 3.5% WAC. ...</td>\n",
       "      <td>NaN</td>\n",
       "      <td>fl</td>\n",
       "      <td>26.095265</td>\n",
       "      <td>-80.201169</td>\n",
       "      <td>2021-05-03T16:42:17-0400</td>\n",
       "      <td>medium</td>\n",
       "    </tr>\n",
       "    <tr>\n",
       "      <th>10031</th>\n",
       "      <td>7312105878</td>\n",
       "      <td>https://yakima.craigslist.org/ctd/d/yakima-200...</td>\n",
       "      <td>yakima</td>\n",
       "      <td>https://yakima.craigslist.org</td>\n",
       "      <td>5995</td>\n",
       "      <td>2004.0</td>\n",
       "      <td>bmw</td>\n",
       "      <td>x3</td>\n",
       "      <td>excellent</td>\n",
       "      <td>6 cylinders</td>\n",
       "      <td>...</td>\n",
       "      <td>NaN</td>\n",
       "      <td>NaN</td>\n",
       "      <td>https://images.craigslist.org/01212_bplcpV8iDo...</td>\n",
       "      <td>2004 BMW X3     Vehicle Information  Make: BMW...</td>\n",
       "      <td>NaN</td>\n",
       "      <td>wa</td>\n",
       "      <td>46.556175</td>\n",
       "      <td>-120.475066</td>\n",
       "      <td>2021-04-24T15:08:38-0700</td>\n",
       "      <td>low</td>\n",
       "    </tr>\n",
       "  </tbody>\n",
       "</table>\n",
       "<p>50 rows × 27 columns</p>\n",
       "</div>"
      ],
      "text/plain": [
       "               id                                                url  \\\n",
       "1326   7312641615  https://pueblo.craigslist.org/cto/d/pueblo-196...   \n",
       "2159   7312437164  https://yakima.craigslist.org/ctd/d/parker-201...   \n",
       "2398   7316719393  https://miami.craigslist.org/mdc/ctd/d/miami-2...   \n",
       "3067   7307971804  https://redding.craigslist.org/ctd/d/sacrament...   \n",
       "3236   7307083381  https://westernmass.craigslist.org/ctd/d/sprin...   \n",
       "3458   7316793777  https://desmoines.craigslist.org/ctd/d/martens...   \n",
       "3547   7313511076  https://athensohio.craigslist.org/ctd/d/athens...   \n",
       "3635   7314807085  https://oklahomacity.craigslist.org/ctd/d/norm...   \n",
       "3726   7311813732  https://youngstown.craigslist.org/ctd/d/struth...   \n",
       "3756   7308232496  https://raleigh.craigslist.org/ctd/d/raleigh-2...   \n",
       "4045   7310391787  https://eugene.craigslist.org/ctd/d/gladstone-...   \n",
       "4281   7310693445  https://pueblo.craigslist.org/ctd/d/tempe-2017...   \n",
       "4687   7310816094  https://monroe.craigslist.org/ctd/d/monroe-201...   \n",
       "4711   7314767434  https://orlando.craigslist.org/ctd/d/winter-pa...   \n",
       "5003   7303629857  https://vermont.craigslist.org/ctd/d/south-bar...   \n",
       "5041   7315995136  https://appleton.craigslist.org/cto/d/oakfield...   \n",
       "5202   7310167641  https://pensacola.craigslist.org/ctd/d/pensaco...   \n",
       "5244   7316873989  https://lasvegas.craigslist.org/cto/d/las-vega...   \n",
       "5548   7316466470  https://sandiego.craigslist.org/csd/cto/d/san-...   \n",
       "5597   7315652481  https://modesto.craigslist.org/ctd/d/modesto-n...   \n",
       "6253   7316823882  https://fresno.craigslist.org/ctd/d/clovis-bea...   \n",
       "6383   7316138519  https://missoula.craigslist.org/cto/d/missoula...   \n",
       "6400   7309842734  https://charlestonwv.craigslist.org/ctd/d/chan...   \n",
       "6458   7311421903  https://springfield.craigslist.org/ctd/d/clint...   \n",
       "6488   7312525382  https://charlotte.craigslist.org/cto/d/myrtle-...   \n",
       "6694   7308293412  https://kalispell.craigslist.org/cto/d/columbi...   \n",
       "6739   7303360871  https://cosprings.craigslist.org/cto/d/colorad...   \n",
       "6969   7316803329  https://orlando.craigslist.org/ctd/d/orlando-2...   \n",
       "7036   7316875283  https://newyork.craigslist.org/brk/cto/d/brook...   \n",
       "7037   7305149883  https://rockford.craigslist.org/ctd/d/rockford...   \n",
       "7651   7316170283  https://cleveland.craigslist.org/cto/d/clevela...   \n",
       "8110   7314997172  https://fortmyers.craigslist.org/chl/ctd/d/200...   \n",
       "8203   7311414611  https://limaohio.craigslist.org/ctd/d/wapakone...   \n",
       "8280   7311721201  https://oklahomacity.craigslist.org/ctd/d/okar...   \n",
       "8468   7306120259  https://jonesboro.craigslist.org/ctd/d/jonesbo...   \n",
       "8615   7315469408  https://tricities.craigslist.org/ctd/d/piney-f...   \n",
       "8968   7308392671  https://charleston.craigslist.org/ctd/d/charle...   \n",
       "8992   7310332426  https://sarasota.craigslist.org/cto/d/bradento...   \n",
       "9025   7314746970  https://charlottesville.craigslist.org/ctd/d/c...   \n",
       "9147   7316028281  https://roswell.craigslist.org/cto/d/artesia-1...   \n",
       "9209   7313055922  https://tampa.craigslist.org/hil/ctd/d/tampa-r...   \n",
       "9238   7313728738  https://providence.craigslist.org/ctd/d/east-w...   \n",
       "9573   7304521734  https://kpr.craigslist.org/ctd/d/pasco-2019-fo...   \n",
       "9688   7310340844  https://maine.craigslist.org/ctd/d/kennebunkpo...   \n",
       "9723   7307639785  https://flint.craigslist.org/ctd/d/davison-201...   \n",
       "9829   7316322425  https://raleigh.craigslist.org/cto/d/clayton-2...   \n",
       "9878   7304667741  https://hudsonvalley.craigslist.org/ctd/d/king...   \n",
       "9907   7313785085  https://bakersfield.craigslist.org/ctd/d/baker...   \n",
       "9984   7316417087  https://miami.craigslist.org/brw/ctd/d/fort-la...   \n",
       "10031  7312105878  https://yakima.craigslist.org/ctd/d/yakima-200...   \n",
       "\n",
       "                         region                              region_url  \\\n",
       "1326                     pueblo           https://pueblo.craigslist.org   \n",
       "2159                     yakima           https://yakima.craigslist.org   \n",
       "2398              south florida            https://miami.craigslist.org   \n",
       "3067                    redding          https://redding.craigslist.org   \n",
       "3236      western massachusetts      https://westernmass.craigslist.org   \n",
       "3458                 des moines        https://desmoines.craigslist.org   \n",
       "3547                     athens       https://athensohio.craigslist.org   \n",
       "3635              oklahoma city     https://oklahomacity.craigslist.org   \n",
       "3726                 youngstown       https://youngstown.craigslist.org   \n",
       "3756      raleigh / durham / CH          https://raleigh.craigslist.org   \n",
       "4045                     eugene           https://eugene.craigslist.org   \n",
       "4281                     pueblo           https://pueblo.craigslist.org   \n",
       "4687                     monroe           https://monroe.craigslist.org   \n",
       "4711                    orlando          https://orlando.craigslist.org   \n",
       "5003                    vermont          https://vermont.craigslist.org   \n",
       "5041       appleton-oshkosh-FDL         https://appleton.craigslist.org   \n",
       "5202                  pensacola        https://pensacola.craigslist.org   \n",
       "5244                  las vegas         https://lasvegas.craigslist.org   \n",
       "5548                  san diego         https://sandiego.craigslist.org   \n",
       "5597                    modesto          https://modesto.craigslist.org   \n",
       "6253            fresno / madera           https://fresno.craigslist.org   \n",
       "6383                   missoula         https://missoula.craigslist.org   \n",
       "6400                 charleston     https://charlestonwv.craigslist.org   \n",
       "6458                springfield      https://springfield.craigslist.org   \n",
       "6488                  charlotte        https://charlotte.craigslist.org   \n",
       "6694                  kalispell        https://kalispell.craigslist.org   \n",
       "6739           colorado springs        https://cosprings.craigslist.org   \n",
       "6969                    orlando          https://orlando.craigslist.org   \n",
       "7036              new york city          https://newyork.craigslist.org   \n",
       "7037                   rockford         https://rockford.craigslist.org   \n",
       "7651                  cleveland        https://cleveland.craigslist.org   \n",
       "8110      ft myers / SW florida        https://fortmyers.craigslist.org   \n",
       "8203             lima / findlay         https://limaohio.craigslist.org   \n",
       "8280              oklahoma city     https://oklahomacity.craigslist.org   \n",
       "8468                  jonesboro        https://jonesboro.craigslist.org   \n",
       "8615                 tri-cities        https://tricities.craigslist.org   \n",
       "8968                 charleston       https://charleston.craigslist.org   \n",
       "8992         sarasota-bradenton         https://sarasota.craigslist.org   \n",
       "9025            charlottesville  https://charlottesville.craigslist.org   \n",
       "9147         roswell / carlsbad          https://roswell.craigslist.org   \n",
       "9209             tampa bay area            https://tampa.craigslist.org   \n",
       "9238               rhode island       https://providence.craigslist.org   \n",
       "9573   kennewick-pasco-richland              https://kpr.craigslist.org   \n",
       "9688                      maine            https://maine.craigslist.org   \n",
       "9723                      flint            https://flint.craigslist.org   \n",
       "9829      raleigh / durham / CH          https://raleigh.craigslist.org   \n",
       "9878              hudson valley     https://hudsonvalley.craigslist.org   \n",
       "9907                bakersfield      https://bakersfield.craigslist.org   \n",
       "9984              south florida            https://miami.craigslist.org   \n",
       "10031                    yakima           https://yakima.craigslist.org   \n",
       "\n",
       "        price    year   manufacturer                       model  condition  \\\n",
       "1326     6500  1969.0      chevrolet                         c10       good   \n",
       "2159    19995  2015.0         subaru                xv crosstrek        NaN   \n",
       "2398    25590  2018.0     volkswagen        golf gti s hatchback       good   \n",
       "3067     8800  2008.0          honda                      accord  excellent   \n",
       "3236    21990  2017.0            gmc  acadia sle-1 sport utility       good   \n",
       "3458     6700  2015.0           ford                   fusion se       good   \n",
       "3547    23590  2012.0           ford      f150 supercrew cab xlt       good   \n",
       "3635    35988  2018.0      chevrolet            traverse premier   like new   \n",
       "3726     3000  2006.0        pontiac                  grand prix        NaN   \n",
       "3756    28990  2018.0            gmc  acadia sle-2 sport utility       good   \n",
       "4045    24223  2013.0            gmc               acadia denali  excellent   \n",
       "4281    67995  2017.0           ford     f-450 super duty lariat        NaN   \n",
       "4687    29800  2019.0       infiniti                   qx60 luxe        NaN   \n",
       "4711    17634  2019.0         toyota                     corolla        NaN   \n",
       "5003    24995  2019.0         toyota                    rav4 xle   like new   \n",
       "5041     4950  2008.0         nissan                     versa s       good   \n",
       "5202     3950  2003.0         toyota                  highlander       good   \n",
       "5244     8600  1996.0      chevrolet                      camaro       good   \n",
       "5548     1000  1997.0          lexus                       es300       fair   \n",
       "5597     7499  2012.0         nissan                       rogue        NaN   \n",
       "6253     8999  2013.0         toyota                       prius  excellent   \n",
       "6383    11900  2006.0            ram                        2500       good   \n",
       "6400     9950  2010.0       cadillac                    escalade        NaN   \n",
       "6458    53456  2020.0            ram                        1500        NaN   \n",
       "6488    21500  1947.0        mercury                         NaN       good   \n",
       "6694   119966  1966.0      chevrolet          corvette sting ray        NaN   \n",
       "6739     6700  2007.0           mini                    cooper s  excellent   \n",
       "6969     5500  2008.0  mercedes-benz                   benz c350        NaN   \n",
       "7036     9850  2016.0            NaN                smart fortwo  excellent   \n",
       "7037    33590  2017.0           audi  q5 3.0t premium plus sport       good   \n",
       "7651     7500  2009.0            bmw                328 xi coupe       good   \n",
       "8110    34300  2005.0          lexus                      lx 470        NaN   \n",
       "8203    10998  2013.0           ford                      taurus  excellent   \n",
       "8280    29888  2002.0            NaN                   2002 F350  excellent   \n",
       "8468    15590  2016.0            NaN       Scion iM Hatchback 4D       good   \n",
       "8615    24900  2013.0           jeep             wrangler unlimi        NaN   \n",
       "8968    34990  2014.0      chevrolet       silverado 1500 double       good   \n",
       "8992     6900  2009.0     volkswagen                      routan   like new   \n",
       "9025    29990  2017.0            ram     1500 quad cab tradesman       good   \n",
       "9147     4800  1999.0           ford             f250 super duty       fair   \n",
       "9209    16999  2011.0            ram              2500 tradesman        NaN   \n",
       "9238    21995  2017.0           audi             a4 2.0t quattro  excellent   \n",
       "9573    79999  2019.0           ford    f450 deisel power stroke        NaN   \n",
       "9688    13990  2016.0     volkswagen                      tiguan        NaN   \n",
       "9723    13900  2010.0           ford                   f-150 xlt        NaN   \n",
       "9829     6500  2012.0           ford                       focus   like new   \n",
       "9878    38990  2019.0         toyota   tundra crewmax sr5 pickup       good   \n",
       "9907    29990  2018.0           audi       q5 premium plus sport       good   \n",
       "9984    11550  2013.0           ford             transit connect  excellent   \n",
       "10031    5995  2004.0            bmw                          x3  excellent   \n",
       "\n",
       "         cylinders  ...         type  paint_color  \\\n",
       "1326   8 cylinders  ...          NaN          red   \n",
       "2159   4 cylinders  ...          SUV        white   \n",
       "2398           NaN  ...        sedan         blue   \n",
       "3067           NaN  ...        sedan       silver   \n",
       "3236           NaN  ...          SUV        white   \n",
       "3458   4 cylinders  ...          NaN          NaN   \n",
       "3547   8 cylinders  ...       pickup        white   \n",
       "3635           NaN  ...          NaN          NaN   \n",
       "3726           NaN  ...          NaN          NaN   \n",
       "3756   6 cylinders  ...          SUV          NaN   \n",
       "4045   6 cylinders  ...          SUV          NaN   \n",
       "4281   8 cylinders  ...       pickup        black   \n",
       "4687           NaN  ...          SUV        black   \n",
       "4711   4 cylinders  ...        sedan       custom   \n",
       "5003   4 cylinders  ...          SUV        black   \n",
       "5041   4 cylinders  ...    hatchback        black   \n",
       "5202   6 cylinders  ...          SUV          red   \n",
       "5244   8 cylinders  ...          NaN        black   \n",
       "5548   6 cylinders  ...        sedan        brown   \n",
       "5597           NaN  ...          NaN          NaN   \n",
       "6253   4 cylinders  ...    hatchback         blue   \n",
       "6383   8 cylinders  ...       pickup          red   \n",
       "6400   8 cylinders  ...          SUV          red   \n",
       "6458           NaN  ...       pickup          NaN   \n",
       "6488   8 cylinders  ...          NaN        green   \n",
       "6694           NaN  ...  convertible          NaN   \n",
       "6739   4 cylinders  ...    hatchback        green   \n",
       "6969           NaN  ...          NaN          NaN   \n",
       "7036   3 cylinders  ...          SUV        white   \n",
       "7037   6 cylinders  ...          SUV        black   \n",
       "7651           NaN  ...        coupe        black   \n",
       "8110   8 cylinders  ...          SUV        black   \n",
       "8203           NaN  ...        sedan          NaN   \n",
       "8280   8 cylinders  ...        truck          red   \n",
       "8468           NaN  ...    hatchback        green   \n",
       "8615           NaN  ...        other       silver   \n",
       "8968   8 cylinders  ...       pickup        white   \n",
       "8992   6 cylinders  ...     mini-van         blue   \n",
       "9025   6 cylinders  ...       pickup        white   \n",
       "9147   8 cylinders  ...          NaN          NaN   \n",
       "9209   8 cylinders  ...        truck        white   \n",
       "9238   4 cylinders  ...        sedan        black   \n",
       "9573           NaN  ...        truck        white   \n",
       "9688           NaN  ...          NaN          NaN   \n",
       "9723   8 cylinders  ...        truck          red   \n",
       "9829   4 cylinders  ...        sedan        black   \n",
       "9878   8 cylinders  ...       pickup       silver   \n",
       "9907           NaN  ...        other        black   \n",
       "9984   4 cylinders  ...          van        white   \n",
       "10031  6 cylinders  ...          NaN          NaN   \n",
       "\n",
       "                                               image_url  \\\n",
       "1326   https://images.craigslist.org/00f0f_kmR1TNWM4O...   \n",
       "2159   https://images.craigslist.org/01414_cBd43F8IeC...   \n",
       "2398   https://images.craigslist.org/00y0y_7qosBCrp0z...   \n",
       "3067   https://images.craigslist.org/00S0S_kT52djO80H...   \n",
       "3236   https://images.craigslist.org/00N0N_1xMPvfxRAI...   \n",
       "3458   https://images.craigslist.org/00S0S_3wmNGwLyaE...   \n",
       "3547   https://images.craigslist.org/00J0J_4mfUGXkpYW...   \n",
       "3635   https://images.craigslist.org/00i0i_4adOkOM7Vm...   \n",
       "3726   https://images.craigslist.org/00W0W_aE2NBfU8gr...   \n",
       "3756   https://images.craigslist.org/00I0I_luAr8SgpD6...   \n",
       "4045   https://images.craigslist.org/00S0S_8XWCL18gR9...   \n",
       "4281   https://images.craigslist.org/00N0N_6ZwHNyGUyg...   \n",
       "4687   https://images.craigslist.org/00P0P_aZolI9pUli...   \n",
       "4711   https://images.craigslist.org/00U0U_8FZYd9tz9s...   \n",
       "5003   https://images.craigslist.org/00f0f_cUKZ6paZ6r...   \n",
       "5041   https://images.craigslist.org/00E0E_1lQ3cFoy8s...   \n",
       "5202   https://images.craigslist.org/00h0h_eENRfPxlpw...   \n",
       "5244   https://images.craigslist.org/00q0q_k3U6G9IGrJ...   \n",
       "5548   https://images.craigslist.org/01717_gMBhFCIo3h...   \n",
       "5597   https://images.craigslist.org/00z0z_5sv0X9JYxE...   \n",
       "6253   https://images.craigslist.org/00k0k_gmyHPr2Tek...   \n",
       "6383   https://images.craigslist.org/00r0r_IrN2r9DS7T...   \n",
       "6400   https://images.craigslist.org/00I0I_ilvHIiOgNa...   \n",
       "6458   https://images.craigslist.org/01010_l68nfX1mDF...   \n",
       "6488   https://images.craigslist.org/00Z0Z_5NJo2usGb6...   \n",
       "6694   https://images.craigslist.org/00000_4T3r43W3Fu...   \n",
       "6739   https://images.craigslist.org/00000_2hB5QQGFHX...   \n",
       "6969   https://images.craigslist.org/00202_1VM9DpeX88...   \n",
       "7036   https://images.craigslist.org/00H0H_2mbWwNo5Cr...   \n",
       "7037   https://images.craigslist.org/00F0F_hMFDt0ZDGW...   \n",
       "7651   https://images.craigslist.org/01010_2uXoeg5E4x...   \n",
       "8110   https://images.craigslist.org/00E0E_2Rs0U3cvFW...   \n",
       "8203   https://images.craigslist.org/00z0z_dqNkvK4ZIV...   \n",
       "8280   https://images.craigslist.org/00000_igbUYD55rR...   \n",
       "8468   https://images.craigslist.org/00N0N_1xMPvfxRAI...   \n",
       "8615   https://images.craigslist.org/01616_fPpmlh3NfU...   \n",
       "8968   https://images.craigslist.org/00N0N_1xMPvfxRAI...   \n",
       "8992   https://images.craigslist.org/00z0z_3UHI6yZtFF...   \n",
       "9025   https://images.craigslist.org/00n0n_5utTYsi17J...   \n",
       "9147   https://images.craigslist.org/00B0B_JJrxz7YNpC...   \n",
       "9209   https://images.craigslist.org/00Q0Q_7Jek9e7VLf...   \n",
       "9238   https://images.craigslist.org/00S0S_bPevGVnaw4...   \n",
       "9573   https://images.craigslist.org/00D0D_ctOGGthFxQ...   \n",
       "9688   https://images.craigslist.org/00e0e_ktAEmiwieQ...   \n",
       "9723   https://images.craigslist.org/00g0g_5LuMZR5YXF...   \n",
       "9829   https://images.craigslist.org/00L0L_IRkv7Trtog...   \n",
       "9878   https://images.craigslist.org/00J0J_jO4UqovDZu...   \n",
       "9907   https://images.craigslist.org/01717_H4BbJML3J8...   \n",
       "9984   https://images.craigslist.org/00000_54Cnki88ck...   \n",
       "10031  https://images.craigslist.org/01212_bplcpV8iDo...   \n",
       "\n",
       "                                             description county state  \\\n",
       "1326   1969 C10 runs and drives clean body, needs inn...    NaN    co   \n",
       "2159   2015 Subaru XV Crosstrek 2.0i Limited AWD 4dr ...    NaN    wa   \n",
       "2398   Carvana is the safer way to buy a car During t...    NaN    fl   \n",
       "3067   2008 *** Honda Accord EX L w/Navi 4dr Sedan 5A...    NaN    ca   \n",
       "3236   Carvana is the safer way to buy a car During t...    NaN    ma   \n",
       "3458   2015 Ford Fusion SE, 2.5 4 cyl. automatic, air...    NaN    ia   \n",
       "3547   Carvana is the safer way to buy a car During t...    NaN    oh   \n",
       "3635   THIS 2018 CHEVROLET TRAVERSE WAS JUST TRADED I...    NaN    ok   \n",
       "3726   2007 PONTIAC GRAND PRIX. GOOD CONDITION IN & O...    NaN    oh   \n",
       "3756   Carvana is the safer way to buy a car During t...    NaN    nc   \n",
       "4045   Crown Motors PDX        STOCK #:  177487      ...    NaN    or   \n",
       "4281   2017 Ford F-450 Super Duty Lariat Truck2017 FO...    NaN    co   \n",
       "4687   It is black with black interior and has leathe...    NaN    la   \n",
       "4711   Most common questions about this vehicle:  Wan...    NaN    fl   \n",
       "5003   Ayer Auto Sales, LLC. \\t\\t\\t\\t\\t\\t    802-622-...    NaN    vt   \n",
       "5041   2008 Nissan Versa  Only 76k miles 1.8 L 4 cyli...    NaN    wi   \n",
       "5202   Drives good All power works  Ac..cold Clear co...    NaN    fl   \n",
       "5244   This 1996 Chevrolet Camaro z28 has been highly...    NaN    nv   \n",
       "5548   Daily driver. Well maintained Lexus ES 300. RU...    NaN    ca   \n",
       "5597   Nissan Rogue SV w/SL Package 4dr Crossover CVT...    NaN    ca   \n",
       "6253   2013 Toyota Prius Only $8,999! Has 140,779 mil...    NaN    ca   \n",
       "6383   I am selling my trusted 2006 Dodge 2500, 3/4 t...    NaN    mt   \n",
       "6400   This Cadillac Escalade can be yours today!If y...    NaN    wv   \n",
       "6458   ➔ Want to see more pictures?Paste this link to...    NaN    mo   \n",
       "6488   47 Mercury restorod  302/c6 4 wheel Disc brake...    NaN    nc   \n",
       "6694   DO NOT NEED HELP SELLING – DON’T ASK!  Selling...    NaN    mt   \n",
       "6739   **SALE PENDING checkback after 3 May for updat...    NaN    co   \n",
       "6969   2008 MERCEDES C350 SEDAN  V6 AUTOMATIC  126K M...    NaN    fl   \n",
       "7036   2016 SMART FORTWO  FOR SALE  18K MILES  PERFEC...    NaN    ny   \n",
       "7037   Carvana is the safer way to buy a car During t...    NaN    il   \n",
       "7651   2009 BMW 328 2D COUPE XI – Automatic Transmiss...    NaN    oh   \n",
       "8110   Description:      SUPER PREMIUM ICON DOBINSONS...    NaN    fl   \n",
       "8203   2013 Ford Taurus SEL Sedan  FWD   Drive it hom...    NaN    oh   \n",
       "8280   🔥2002 FORD F350 7.3 XLT🔥 #oklahomaluxurydiesel...    NaN    ok   \n",
       "8468   Carvana is the safer way to buy a car During t...    NaN    ar   \n",
       "8615   2013 JEEP WRANGLER UNLIMI SAHARA     Offered b...    NaN    tn   \n",
       "8968   Carvana is the safer way to buy a car During t...    NaN    sc   \n",
       "8992   Power windows  Power sunroof  Power locks Powe...    NaN    fl   \n",
       "9025   Carvana is the safer way to buy a car During t...    NaN    va   \n",
       "9147   166,000 miles  Perfect for Work Truck   Kelly ...    NaN    nm   \n",
       "9209   Let me offer you professional assistance on th...    NaN    fl   \n",
       "9238   2017 AUDI A4 2.0T PREMIUM 2017 Audi A4   2.0 T...    NaN    ri   \n",
       "9573   2019 Ford F450 Lariat FX4 Dually 4x4 **Clean C...    NaN    wa   \n",
       "9688   DESCRIPTION We have the financing available, r...    NaN    me   \n",
       "9723   If you're looking for your next F-150, then co...    NaN    mi   \n",
       "9829   2012 Beautiful gently used   Economy car 4 cyl...    NaN    nc   \n",
       "9878   Carvana is the safer way to buy a car During t...    NaN    ny   \n",
       "9907   Carvana is the safer way to buy a car During t...    NaN    ca   \n",
       "9984   68k miles Financing Rates as low as 3.5% WAC. ...    NaN    fl   \n",
       "10031  2004 BMW X3     Vehicle Information  Make: BMW...    NaN    wa   \n",
       "\n",
       "             lat        long              posting_date price_category  \n",
       "1326   38.032300 -104.716000  2021-04-25T20:15:43-0600            low  \n",
       "2159   46.553190 -120.475680  2021-04-25T11:30:27-0700         medium  \n",
       "2398   25.770000  -80.200000  2021-05-04T11:01:11-0400           high  \n",
       "3067   38.608824 -121.400837  2021-04-16T15:01:16-0700            low  \n",
       "3236   42.110000  -72.530000  2021-04-15T06:10:54-0400         medium  \n",
       "3458   41.373000  -93.735800  2021-05-04T11:59:42-0500            low  \n",
       "3547   39.320000  -82.090000  2021-04-27T16:10:50-0400           high  \n",
       "3635   35.199000  -97.484100  2021-04-30T10:02:34-0500           high  \n",
       "3726   41.023719  -80.594793  2021-04-24T09:42:34-0400            low  \n",
       "3756   35.820000  -78.650000  2021-04-17T10:51:25-0400           high  \n",
       "4045   45.379929 -122.583757  2021-04-21T09:43:28-0700           high  \n",
       "4281   33.391700 -111.924900  2021-04-21T21:07:59-0600           high  \n",
       "4687   32.513345  -92.113044  2021-04-22T09:25:35-0500           high  \n",
       "4711   28.610096  -81.298342  2021-04-30T09:48:20-0400         medium  \n",
       "5003   44.209041  -72.514597  2021-04-08T10:53:10-0400           high  \n",
       "5041   43.686400  -88.556900  2021-05-02T18:42:21-0500            low  \n",
       "5202   30.448100  -87.258900  2021-04-20T21:28:17-0500            low  \n",
       "5244   36.144406 -115.099986  2021-05-04T12:04:50-0700            low  \n",
       "5548   32.778300 -117.133500  2021-05-03T15:14:48-0700            low  \n",
       "5597   37.600004 -120.938713  2021-05-01T22:26:11-0700            low  \n",
       "6253   36.815700 -119.694400  2021-05-04T10:45:14-0700            low  \n",
       "6383   46.900600 -114.002700  2021-05-03T07:02:59-0600         medium  \n",
       "6400   38.897600  -77.509200  2021-04-20T12:02:35-0400         medium  \n",
       "6458   38.382623  -93.773440  2021-04-23T12:00:37-0500           high  \n",
       "6488   33.699400  -78.913700  2021-04-25T17:14:08-0400         medium  \n",
       "6694   48.404000 -114.350900  2021-04-17T10:28:02-0600           high  \n",
       "6739   38.909700 -104.710700  2021-04-07T15:40:23-0600            low  \n",
       "6969   28.514000  -81.357000  2021-05-04T13:13:52-0400            low  \n",
       "7036   40.585822  -73.971225  2021-05-04T15:06:51-0400         medium  \n",
       "7037   42.270000  -89.060000  2021-04-11T10:11:04-0500           high  \n",
       "7651   41.508400  -81.607600  2021-05-03T10:09:57-0400            low  \n",
       "8110         NaN         NaN  2021-04-30T16:18:06-0400           high  \n",
       "8203   40.573231  -84.184755  2021-04-23T12:49:21-0400         medium  \n",
       "8280   35.863600  -97.947300  2021-04-23T22:30:59-0500           high  \n",
       "8468   35.820000  -90.680000  2021-04-13T09:11:02-0500         medium  \n",
       "8615   36.438087  -82.302045  2021-05-01T15:55:07-0400           high  \n",
       "8968   32.780000  -79.990000  2021-04-17T14:50:41-0400           high  \n",
       "8992   27.447345  -82.589752  2021-04-21T11:11:05-0400            low  \n",
       "9025   38.030000  -78.480000  2021-04-30T09:02:26-0400           high  \n",
       "9147   32.857482 -104.398696  2021-05-02T19:18:49-0600            low  \n",
       "9209   28.006800  -82.556000  2021-04-26T17:49:05-0400         medium  \n",
       "9238   41.909900  -72.602900  2021-04-28T06:06:44-0400         medium  \n",
       "9573   46.234838 -119.128015  2021-04-09T19:46:04-0700           high  \n",
       "9688   43.452464  -70.496353  2021-04-21T11:24:47-0400         medium  \n",
       "9723   43.034800  -83.526800  2021-04-16T09:02:18-0400         medium  \n",
       "9829   35.657700  -78.383700  2021-05-03T14:08:31-0400            low  \n",
       "9878   41.930000  -73.990000  2021-04-10T11:01:36-0400           high  \n",
       "9907   35.380000 -119.020000  2021-04-28T06:51:00-0700           high  \n",
       "9984   26.095265  -80.201169  2021-05-03T16:42:17-0400         medium  \n",
       "10031  46.556175 -120.475066  2021-04-24T15:08:38-0700            low  \n",
       "\n",
       "[50 rows x 27 columns]"
      ]
     },
     "execution_count": 13,
     "metadata": {},
     "output_type": "execute_result"
    }
   ],
   "source": [
    "df[df.duplicated()]"
   ]
  },
  {
   "cell_type": "code",
   "execution_count": 14,
   "metadata": {},
   "outputs": [
    {
     "name": "stdout",
     "output_type": "stream",
     "text": [
      "Количество дублирующих строк в датафрейме - 0\n",
      "(10000, 27)\n"
     ]
    }
   ],
   "source": [
    "# Получилось 50 дублирующих строк, удаляем их из датасета\n",
    "df = df.drop_duplicates()\n",
    "print(f'Количество дублирующих строк в датафрейме - {df[df.duplicated()].shape[0]}')\n",
    "print(df.shape)"
   ]
  },
  {
   "cell_type": "markdown",
   "metadata": {},
   "source": [
    "#### Выводы после проверки на дублирование\n",
    "- дублирующих данных в датасете нет\n",
    "- количество строк в таблице уменьшилось до 10000"
   ]
  },
  {
   "cell_type": "markdown",
   "metadata": {},
   "source": [
    "### 1.2.2. Исследование пропущенных значений"
   ]
  },
  {
   "cell_type": "markdown",
   "metadata": {
    "jp-MarkdownHeadingCollapsed": true,
    "tags": []
   },
   "source": [
    "##### 1.2.2.1. Общая информация по пропущенным данным"
   ]
  },
  {
   "cell_type": "code",
   "execution_count": 16,
   "metadata": {},
   "outputs": [
    {
     "data": {
      "text/plain": [
       "<AxesSubplot:>"
      ]
     },
     "execution_count": 16,
     "metadata": {},
     "output_type": "execute_result"
    },
    {
     "data": {
      "image/png": "[encoded data removed]",
      "text/plain": [
       "<Figure size 1800x720 with 2 Axes>"
      ]
     },
     "metadata": {
      "needs_background": "light"
     },
     "output_type": "display_data"
    }
   ],
   "source": [
    "msno.matrix(df)"
   ]
  },
  {
   "cell_type": "code",
   "execution_count": 19,
   "metadata": {},
   "outputs": [
    {
     "name": "stdout",
     "output_type": "stream",
     "text": [
      "Процент пропущенных значений:\n"
     ]
    },
    {
     "data": {
      "text/plain": [
       "id                  0.00\n",
       "state               0.00\n",
       "price               0.00\n",
       "price_category      0.00\n",
       "region              0.00\n",
       "url                 0.00\n",
       "region_url          0.00\n",
       "description         0.02\n",
       "image_url           0.02\n",
       "posting_date        0.02\n",
       "year                0.36\n",
       "odometer            0.43\n",
       "transmission        0.45\n",
       "fuel                0.63\n",
       "lat                 0.98\n",
       "long                0.98\n",
       "model               1.28\n",
       "title_status        1.66\n",
       "manufacturer        3.82\n",
       "type               21.94\n",
       "paint_color        29.50\n",
       "drive              30.06\n",
       "condition          37.66\n",
       "VIN                39.38\n",
       "cylinders          40.80\n",
       "size               71.91\n",
       "county            100.00\n",
       "dtype: float64"
      ]
     },
     "execution_count": 19,
     "metadata": {},
     "output_type": "execute_result"
    }
   ],
   "source": [
    "missing_values(df)"
   ]
  },
  {
   "cell_type": "code",
   "execution_count": 21,
   "metadata": {},
   "outputs": [
    {
     "name": "stdout",
     "output_type": "stream",
     "text": [
      "Количество полностью заполненных объектов из всей выборки: 0\n",
      "Процент полностью заполненных объектов из всей выборки: 0.0\n"
     ]
    }
   ],
   "source": [
    "print_useful_rows_info(df)"
   ]
  },
  {
   "cell_type": "markdown",
   "metadata": {
    "tags": []
   },
   "source": [
    "#### Выводы по пропущенным значениям\n",
    "- Всего 7 столбцов из 27 не имеют пропущенных значений\n",
    "- в столбце \"county\" - все значения пропущены"
   ]
  },
  {
   "cell_type": "markdown",
   "metadata": {
    "jp-MarkdownHeadingCollapsed": true,
    "tags": []
   },
   "source": [
    "##### 1.2.2.2. Обработка по столбцу   \"county\""
   ]
  },
  {
   "cell_type": "code",
   "execution_count": 25,
   "metadata": {},
   "outputs": [
    {
     "data": {
      "text/plain": [
       "NaN    10000\n",
       "Name: county, dtype: int64"
      ]
     },
     "execution_count": 25,
     "metadata": {},
     "output_type": "execute_result"
    }
   ],
   "source": [
    "# Еще раз проверим, что в колонке \"county\" все значения нулевые\n",
    "df.county.value_counts(dropna=False)"
   ]
  },
  {
   "cell_type": "code",
   "execution_count": 26,
   "metadata": {},
   "outputs": [],
   "source": [
    "# Удаляем столбец с отсутствующими данными\n",
    "df = df.drop(columns=['county'])"
   ]
  },
  {
   "cell_type": "code",
   "execution_count": 27,
   "metadata": {},
   "outputs": [
    {
     "name": "stdout",
     "output_type": "stream",
     "text": [
      "Количество полностью заполненных объектов из всей выборки: 823\n",
      "Процент полностью заполненных объектов из всей выборки: 8.23\n"
     ]
    }
   ],
   "source": [
    "print_useful_rows_info(df)"
   ]
  },
  {
   "cell_type": "markdown",
   "metadata": {},
   "source": [
    "Полностью заполнено чуть больше 8% объектов, а значит удалить такие объекты полностью мы не можем, иначе выборка уменьшится в 12 раз."
   ]
  },
  {
   "cell_type": "markdown",
   "metadata": {
    "jp-MarkdownHeadingCollapsed": true,
    "tags": []
   },
   "source": [
    "##### 1.2.2.3. Обработка столбцов 'VIN', 'condition', 'cylinders', 'size', 'drive', 'paint_color', 'type'\n",
    "удалим ещё 7 столбцов, в которых более 20% пропущенных значений."
   ]
  },
  {
   "cell_type": "code",
   "execution_count": 28,
   "metadata": {},
   "outputs": [
    {
     "name": "stdout",
     "output_type": "stream",
     "text": [
      "Количество полностью заполненных объектов из всей выборки: 9134\n",
      "Процент полностью заполненных объектов из всей выборки: 91.34\n"
     ]
    }
   ],
   "source": [
    "df = df.drop(columns=['VIN', 'condition', 'cylinders', 'size', 'drive', 'paint_color', 'type'])\n",
    "print_useful_rows_info(df)"
   ]
  },
  {
   "cell_type": "markdown",
   "metadata": {
    "jp-MarkdownHeadingCollapsed": true,
    "tags": []
   },
   "source": [
    "##### 1.2.2.4.  Обработка пропусков в производителях --- \"manufacturer\" (пропущено - 3.82% данных) -- заполняем \"other\""
   ]
  },
  {
   "cell_type": "markdown",
   "metadata": {},
   "source": [
    "Для 382 объектов производитель не заполнен. Но есть колонки, из которых потенциально можно восстановить производителя — модель автомобиля и его описание. Посмотрим на значение этих двух признаков для тех объектов, в которых не заполнена модель"
   ]
  },
  {
   "cell_type": "code",
   "execution_count": 29,
   "metadata": {},
   "outputs": [
    {
     "data": {
      "text/html": [
       "<div>\n",
       "<style scoped>\n",
       "    .dataframe tbody tr th:only-of-type {\n",
       "        vertical-align: middle;\n",
       "    }\n",
       "\n",
       "    .dataframe tbody tr th {\n",
       "        vertical-align: top;\n",
       "    }\n",
       "\n",
       "    .dataframe thead th {\n",
       "        text-align: right;\n",
       "    }\n",
       "</style>\n",
       "<table border=\"1\" class=\"dataframe\">\n",
       "  <thead>\n",
       "    <tr style=\"text-align: right;\">\n",
       "      <th></th>\n",
       "      <th>model</th>\n",
       "      <th>description</th>\n",
       "    </tr>\n",
       "  </thead>\n",
       "  <tbody>\n",
       "    <tr>\n",
       "      <th>21</th>\n",
       "      <td>oldsmobile 442</td>\n",
       "      <td>1970 Oldsmobile 442 Convertible 442 Indy Pace ...</td>\n",
       "    </tr>\n",
       "    <tr>\n",
       "      <th>66</th>\n",
       "      <td>Diahatsu</td>\n",
       "      <td>1991 Daihatsu hijet 5 speed extended cab....im...</td>\n",
       "    </tr>\n",
       "    <tr>\n",
       "      <th>182</th>\n",
       "      <td>Scion iM Hatchback 4D</td>\n",
       "      <td>Carvana is the safer way to buy a car During t...</td>\n",
       "    </tr>\n",
       "    <tr>\n",
       "      <th>201</th>\n",
       "      <td>Voltswagon Beetle</td>\n",
       "      <td>New Brakes, new serpentine belt, new catalytic...</td>\n",
       "    </tr>\n",
       "    <tr>\n",
       "      <th>217</th>\n",
       "      <td>THOMAS SCHOOL BUS</td>\n",
       "      <td>5.9 CUMMINS DIESEL; 28 Passenger with 2 Rear A...</td>\n",
       "    </tr>\n",
       "    <tr>\n",
       "      <th>...</th>\n",
       "      <td>...</td>\n",
       "      <td>...</td>\n",
       "    </tr>\n",
       "    <tr>\n",
       "      <th>9908</th>\n",
       "      <td>Scion xD Hatchback 4D</td>\n",
       "      <td>Carvana is the safer way to buy a car During t...</td>\n",
       "    </tr>\n",
       "    <tr>\n",
       "      <th>9959</th>\n",
       "      <td>FREIGHTLINER M2 106</td>\n",
       "      <td>2013 *FREIGHTLINER* *M2 106* M2106 - $24,900Ca...</td>\n",
       "    </tr>\n",
       "    <tr>\n",
       "      <th>9985</th>\n",
       "      <td>Suzuki Grand Vitara</td>\n",
       "      <td>2012 Suzuki Grand Vitara Premium 4WD - $7,450 ...</td>\n",
       "    </tr>\n",
       "    <tr>\n",
       "      <th>10002</th>\n",
       "      <td>F-150</td>\n",
       "      <td>2020 *Ford* *F-150* 180 MILES. LIFTED FORD F15...</td>\n",
       "    </tr>\n",
       "    <tr>\n",
       "      <th>10040</th>\n",
       "      <td>1988 Nisan</td>\n",
       "      <td>Really good running 88 Nissan. Has Sun roof. B...</td>\n",
       "    </tr>\n",
       "  </tbody>\n",
       "</table>\n",
       "<p>382 rows × 2 columns</p>\n",
       "</div>"
      ],
      "text/plain": [
       "                       model  \\\n",
       "21            oldsmobile 442   \n",
       "66                  Diahatsu   \n",
       "182    Scion iM Hatchback 4D   \n",
       "201        Voltswagon Beetle   \n",
       "217        THOMAS SCHOOL BUS   \n",
       "...                      ...   \n",
       "9908   Scion xD Hatchback 4D   \n",
       "9959     FREIGHTLINER M2 106   \n",
       "9985     Suzuki Grand Vitara   \n",
       "10002                  F-150   \n",
       "10040             1988 Nisan   \n",
       "\n",
       "                                             description  \n",
       "21     1970 Oldsmobile 442 Convertible 442 Indy Pace ...  \n",
       "66     1991 Daihatsu hijet 5 speed extended cab....im...  \n",
       "182    Carvana is the safer way to buy a car During t...  \n",
       "201    New Brakes, new serpentine belt, new catalytic...  \n",
       "217    5.9 CUMMINS DIESEL; 28 Passenger with 2 Rear A...  \n",
       "...                                                  ...  \n",
       "9908   Carvana is the safer way to buy a car During t...  \n",
       "9959   2013 *FREIGHTLINER* *M2 106* M2106 - $24,900Ca...  \n",
       "9985   2012 Suzuki Grand Vitara Premium 4WD - $7,450 ...  \n",
       "10002  2020 *Ford* *F-150* 180 MILES. LIFTED FORD F15...  \n",
       "10040  Really good running 88 Nissan. Has Sun roof. B...  \n",
       "\n",
       "[382 rows x 2 columns]"
      ]
     },
     "execution_count": 29,
     "metadata": {},
     "output_type": "execute_result"
    }
   ],
   "source": [
    "df[df.manufacturer.isna()][['model', 'description']]"
   ]
  },
  {
   "cell_type": "markdown",
   "metadata": {},
   "source": [
    "По той малой части, что отобразилась, можно подтвердить, что производитель транспортного средства часто указан в наименовании модели или в описании. Например, в строке с индексом 9985 легко узнается Suzuki. Но чтобы сделать такое заполнение пропущенных значений, нужно будет верно обработать строки, проверить производителей по имеющемуся словарю, поэтому сейчас мы просто заполним пропущенные значения  новым значением “other”"
   ]
  },
  {
   "cell_type": "code",
   "execution_count": 30,
   "metadata": {},
   "outputs": [
    {
     "name": "stdout",
     "output_type": "stream",
     "text": [
      "Количество полностью заполненных объектов из всей выборки: 9471\n",
      "Процент полностью заполненных объектов из всей выборки: 94.71\n"
     ]
    }
   ],
   "source": [
    "df.manufacturer = df.manufacturer.fillna('other')\n",
    "print_useful_rows_info(df)"
   ]
  },
  {
   "cell_type": "markdown",
   "metadata": {
    "jp-MarkdownHeadingCollapsed": true,
    "tags": []
   },
   "source": [
    "##### 1.2.2.5. Обработка пропусков в пробеге  --- \"odometer\"    (пропущено - 0,43% данных) -- заполняем средним"
   ]
  },
  {
   "cell_type": "code",
   "execution_count": 31,
   "metadata": {},
   "outputs": [
    {
     "data": {
      "text/plain": [
       "100000.0    50\n",
       "NaN         43\n",
       "1.0         42\n",
       "180000.0    37\n",
       "200000.0    37\n",
       "            ..\n",
       "32086.0      1\n",
       "126872.0     1\n",
       "68967.0      1\n",
       "124248.0     1\n",
       "61943.0      1\n",
       "Name: odometer, Length: 7007, dtype: int64"
      ]
     },
     "execution_count": 31,
     "metadata": {},
     "output_type": "execute_result"
    }
   ],
   "source": [
    "# Выведем количество значений  в колонке с количеством пройденных миль, включая пустые. \n",
    "df.odometer.value_counts(dropna=False)"
   ]
  },
  {
   "cell_type": "code",
   "execution_count": 32,
   "metadata": {},
   "outputs": [
    {
     "name": "stdout",
     "output_type": "stream",
     "text": [
      "Среднее значение пробега --  95674\n"
     ]
    }
   ],
   "source": [
    "# 43 пустых значения, зададим их через средний параметр - \n",
    "print(\"Среднее значение пробега -- \", int(df.odometer.mean()))\n",
    "df.odometer = df.odometer.fillna(int(df.odometer.mean()))"
   ]
  },
  {
   "cell_type": "code",
   "execution_count": 33,
   "metadata": {},
   "outputs": [
    {
     "data": {
      "text/plain": [
       "0"
      ]
     },
     "execution_count": 33,
     "metadata": {},
     "output_type": "execute_result"
    }
   ],
   "source": [
    "# Проверим результат\n",
    "df.odometer.isna().sum()"
   ]
  },
  {
   "cell_type": "code",
   "execution_count": 34,
   "metadata": {},
   "outputs": [
    {
     "name": "stdout",
     "output_type": "stream",
     "text": [
      "Количество полностью заполненных объектов из всей выборки: 9507\n",
      "Процент полностью заполненных объектов из всей выборки: 95.07\n"
     ]
    }
   ],
   "source": [
    "print_useful_rows_info(df)"
   ]
  },
  {
   "cell_type": "code",
   "execution_count": null,
   "metadata": {},
   "outputs": [],
   "source": [
    "df.to_csv('data/df_out.csv')"
   ]
  },
  {
   "cell_type": "code",
   "execution_count": null,
   "metadata": {
    "id": "GQcnuH-ytc4C"
   },
   "outputs": [],
   "source": [
    "df= pd.read_csv('df_out.csv')"
   ]
  },
  {
   "cell_type": "markdown",
   "metadata": {
    "jp-MarkdownHeadingCollapsed": true,
    "tags": []
   },
   "source": [
    "##### -----------------------------------------------------------------------------------------------------------------------------------------------------------------------------------------------------"
   ]
  },
  {
   "cell_type": "code",
   "execution_count": 35,
   "metadata": {},
   "outputs": [
    {
     "name": "stdout",
     "output_type": "stream",
     "text": [
      "Размер выборки - (10000, 19)\n",
      "Состав выборки - Index(['id', 'url', 'region', 'region_url', 'price', 'year', 'manufacturer',\n",
      "       'model', 'fuel', 'odometer', 'title_status', 'transmission',\n",
      "       'image_url', 'description', 'state', 'lat', 'long', 'posting_date',\n",
      "       'price_category'],\n",
      "      dtype='object')\n"
     ]
    },
    {
     "data": {
      "text/html": [
       "<div>\n",
       "<style scoped>\n",
       "    .dataframe tbody tr th:only-of-type {\n",
       "        vertical-align: middle;\n",
       "    }\n",
       "\n",
       "    .dataframe tbody tr th {\n",
       "        vertical-align: top;\n",
       "    }\n",
       "\n",
       "    .dataframe thead th {\n",
       "        text-align: right;\n",
       "    }\n",
       "</style>\n",
       "<table border=\"1\" class=\"dataframe\">\n",
       "  <thead>\n",
       "    <tr style=\"text-align: right;\">\n",
       "      <th></th>\n",
       "      <th>id</th>\n",
       "      <th>url</th>\n",
       "      <th>region</th>\n",
       "      <th>region_url</th>\n",
       "      <th>price</th>\n",
       "      <th>year</th>\n",
       "      <th>manufacturer</th>\n",
       "      <th>model</th>\n",
       "      <th>fuel</th>\n",
       "      <th>odometer</th>\n",
       "      <th>title_status</th>\n",
       "      <th>transmission</th>\n",
       "      <th>image_url</th>\n",
       "      <th>description</th>\n",
       "      <th>state</th>\n",
       "      <th>lat</th>\n",
       "      <th>long</th>\n",
       "      <th>posting_date</th>\n",
       "      <th>price_category</th>\n",
       "    </tr>\n",
       "  </thead>\n",
       "  <tbody>\n",
       "    <tr>\n",
       "      <th>0</th>\n",
       "      <td>7308295377</td>\n",
       "      <td>https://chattanooga.craigslist.org/ctd/d/chatt...</td>\n",
       "      <td>chattanooga</td>\n",
       "      <td>https://chattanooga.craigslist.org</td>\n",
       "      <td>54990</td>\n",
       "      <td>2020.0</td>\n",
       "      <td>ram</td>\n",
       "      <td>2500 crew cab big horn</td>\n",
       "      <td>diesel</td>\n",
       "      <td>27442.0</td>\n",
       "      <td>clean</td>\n",
       "      <td>other</td>\n",
       "      <td>https://images.craigslist.org/00N0N_1xMPvfxRAI...</td>\n",
       "      <td>Carvana is the safer way to buy a car During t...</td>\n",
       "      <td>tn</td>\n",
       "      <td>35.060000</td>\n",
       "      <td>-85.250000</td>\n",
       "      <td>2021-04-17T12:30:50-0400</td>\n",
       "      <td>high</td>\n",
       "    </tr>\n",
       "    <tr>\n",
       "      <th>1</th>\n",
       "      <td>7316380095</td>\n",
       "      <td>https://newjersey.craigslist.org/ctd/d/carlsta...</td>\n",
       "      <td>north jersey</td>\n",
       "      <td>https://newjersey.craigslist.org</td>\n",
       "      <td>16942</td>\n",
       "      <td>2016.0</td>\n",
       "      <td>ford</td>\n",
       "      <td>explorer 4wd 4dr xlt</td>\n",
       "      <td>NaN</td>\n",
       "      <td>60023.0</td>\n",
       "      <td>clean</td>\n",
       "      <td>automatic</td>\n",
       "      <td>https://images.craigslist.org/00x0x_26jl9F0cnL...</td>\n",
       "      <td>***Call Us for more information at: 201-635-14...</td>\n",
       "      <td>nj</td>\n",
       "      <td>40.821805</td>\n",
       "      <td>-74.061962</td>\n",
       "      <td>2021-05-03T15:40:21-0400</td>\n",
       "      <td>medium</td>\n",
       "    </tr>\n",
       "    <tr>\n",
       "      <th>2</th>\n",
       "      <td>7313733749</td>\n",
       "      <td>https://reno.craigslist.org/ctd/d/atlanta-2017...</td>\n",
       "      <td>reno / tahoe</td>\n",
       "      <td>https://reno.craigslist.org</td>\n",
       "      <td>35590</td>\n",
       "      <td>2017.0</td>\n",
       "      <td>volkswagen</td>\n",
       "      <td>golf r hatchback</td>\n",
       "      <td>gas</td>\n",
       "      <td>14048.0</td>\n",
       "      <td>clean</td>\n",
       "      <td>other</td>\n",
       "      <td>https://images.craigslist.org/00y0y_eeZjWeiSfb...</td>\n",
       "      <td>Carvana is the safer way to buy a car During t...</td>\n",
       "      <td>ca</td>\n",
       "      <td>33.779214</td>\n",
       "      <td>-84.411811</td>\n",
       "      <td>2021-04-28T03:52:20-0700</td>\n",
       "      <td>high</td>\n",
       "    </tr>\n",
       "  </tbody>\n",
       "</table>\n",
       "</div>"
      ],
      "text/plain": [
       "           id                                                url  \\\n",
       "0  7308295377  https://chattanooga.craigslist.org/ctd/d/chatt...   \n",
       "1  7316380095  https://newjersey.craigslist.org/ctd/d/carlsta...   \n",
       "2  7313733749  https://reno.craigslist.org/ctd/d/atlanta-2017...   \n",
       "\n",
       "         region                          region_url  price    year  \\\n",
       "0   chattanooga  https://chattanooga.craigslist.org  54990  2020.0   \n",
       "1  north jersey    https://newjersey.craigslist.org  16942  2016.0   \n",
       "2  reno / tahoe         https://reno.craigslist.org  35590  2017.0   \n",
       "\n",
       "  manufacturer                   model    fuel  odometer title_status  \\\n",
       "0          ram  2500 crew cab big horn  diesel   27442.0        clean   \n",
       "1         ford    explorer 4wd 4dr xlt     NaN   60023.0        clean   \n",
       "2   volkswagen        golf r hatchback     gas   14048.0        clean   \n",
       "\n",
       "  transmission                                          image_url  \\\n",
       "0        other  https://images.craigslist.org/00N0N_1xMPvfxRAI...   \n",
       "1    automatic  https://images.craigslist.org/00x0x_26jl9F0cnL...   \n",
       "2        other  https://images.craigslist.org/00y0y_eeZjWeiSfb...   \n",
       "\n",
       "                                         description state        lat  \\\n",
       "0  Carvana is the safer way to buy a car During t...    tn  35.060000   \n",
       "1  ***Call Us for more information at: 201-635-14...    nj  40.821805   \n",
       "2  Carvana is the safer way to buy a car During t...    ca  33.779214   \n",
       "\n",
       "        long              posting_date price_category  \n",
       "0 -85.250000  2021-04-17T12:30:50-0400           high  \n",
       "1 -74.061962  2021-05-03T15:40:21-0400         medium  \n",
       "2 -84.411811  2021-04-28T03:52:20-0700           high  "
      ]
     },
     "execution_count": 35,
     "metadata": {},
     "output_type": "execute_result"
    }
   ],
   "source": [
    "df_info_(df)"
   ]
  },
  {
   "cell_type": "markdown",
   "metadata": {
    "id": "RKNvH4td3G2I",
    "jp-MarkdownHeadingCollapsed": true,
    "tags": []
   },
   "source": [
    "##### 1.2.2.6. Работаем с пропусками в годе выпуска автомобилей --- year  (пропущено 0,343% данных)¶--  удаляем строки с пустым годом"
   ]
  },
  {
   "cell_type": "code",
   "execution_count": 37,
   "metadata": {
    "id": "YRuXyE_R05Ra"
   },
   "outputs": [],
   "source": [
    "df = df[df.year.notna()]"
   ]
  },
  {
   "cell_type": "markdown",
   "metadata": {
    "id": "iy_gbsbR3S6i",
    "jp-MarkdownHeadingCollapsed": true,
    "tags": []
   },
   "source": [
    "##### 1.2.2.7. Отработка пропущенных значений в  поле вида топлива --- fuel (пропущено 0,616% данных)-- заполняем пустые значения \"other\""
   ]
  },
  {
   "cell_type": "code",
   "execution_count": 38,
   "metadata": {
    "id": "g2d6qLPn17bS"
   },
   "outputs": [],
   "source": [
    "df.fuel = df.fuel.fillna('other')"
   ]
  },
  {
   "cell_type": "markdown",
   "metadata": {
    "id": "1NA17BsQ3peH",
    "jp-MarkdownHeadingCollapsed": true,
    "tags": []
   },
   "source": [
    "##### 1.2.2.8. Отработка пропущенных значений в модели автомобиля  --- model (пропущено 1,272% данных)¶-- заполняем пустые значения \"other\""
   ]
  },
  {
   "cell_type": "code",
   "execution_count": 39,
   "metadata": {
    "id": "-2SzS0Jj4PeX"
   },
   "outputs": [],
   "source": [
    "df.model = df.model.fillna('other')"
   ]
  },
  {
   "cell_type": "markdown",
   "metadata": {
    "id": "WPiCEDKp4i2q",
    "jp-MarkdownHeadingCollapsed": true,
    "tags": []
   },
   "source": [
    "##### 1.2.2.9. Отработка пропущенных значений в поле статуса автомобиля  --- title_status (пропущено 1,656% данных) -- заполняем пустые значения значением mode"
   ]
  },
  {
   "cell_type": "code",
   "execution_count": 40,
   "metadata": {
    "id": "lENEvU0e4vJT"
   },
   "outputs": [],
   "source": [
    "moda_title = df.title_status.mode()\n",
    "df.title_status = df.title_status.fillna('moda_title')"
   ]
  },
  {
   "cell_type": "markdown",
   "metadata": {
    "id": "cmndyG-n6EBc",
    "jp-MarkdownHeadingCollapsed": true,
    "tags": []
   },
   "source": [
    "##### 1.2.2.10. Отработка пропущенных значений в lat, long (пропущено по 0,98% данных) ---  удаляем строки с пустыми значениями"
   ]
  },
  {
   "cell_type": "code",
   "execution_count": 41,
   "metadata": {
    "id": "hwdgATTn9inF"
   },
   "outputs": [],
   "source": [
    "df = df[~(df.long.isna() | df.lat.isna())]"
   ]
  },
  {
   "cell_type": "markdown",
   "metadata": {
    "id": "MRgnkCR98P_f",
    "jp-MarkdownHeadingCollapsed": true,
    "tags": []
   },
   "source": [
    "##### 1.2.2.11 Отработка пропущенных значений в поле коробки передач  --- transmission  (пропущено 0,45% данных) -- заполняем пустые значения \"other\""
   ]
  },
  {
   "cell_type": "code",
   "execution_count": 42,
   "metadata": {
    "id": "UODqGDfV8aQ3"
   },
   "outputs": [],
   "source": [
    "df.transmission = df.transmission.fillna('other')"
   ]
  },
  {
   "cell_type": "markdown",
   "metadata": {
    "jp-MarkdownHeadingCollapsed": true,
    "tags": []
   },
   "source": [
    "##### 1.2.2.12 Отработка пропущенных значений в поле даты размещения объявления о продаже --- \"posting_date\" (пропущено - 0,02% данных) -- удаляем пропущенные строки"
   ]
  },
  {
   "cell_type": "code",
   "execution_count": 43,
   "metadata": {},
   "outputs": [
    {
     "data": {
      "text/plain": [
       "count                         9868\n",
       "unique                        9828\n",
       "top       2021-04-11T10:51:21-0400\n",
       "freq                             2\n",
       "Name: posting_date, dtype: object"
      ]
     },
     "execution_count": 43,
     "metadata": {},
     "output_type": "execute_result"
    }
   ],
   "source": [
    "# описательные статистики даты размещения объявления о продаже\n",
    "df.posting_date.describe()"
   ]
  },
  {
   "cell_type": "markdown",
   "metadata": {},
   "source": [
    "! на месте самой популярной даты может стоять любое из значений, которое встречается два раза"
   ]
  },
  {
   "cell_type": "code",
   "execution_count": 44,
   "metadata": {},
   "outputs": [
    {
     "data": {
      "text/html": [
       "<div>\n",
       "<style scoped>\n",
       "    .dataframe tbody tr th:only-of-type {\n",
       "        vertical-align: middle;\n",
       "    }\n",
       "\n",
       "    .dataframe tbody tr th {\n",
       "        vertical-align: top;\n",
       "    }\n",
       "\n",
       "    .dataframe thead th {\n",
       "        text-align: right;\n",
       "    }\n",
       "</style>\n",
       "<table border=\"1\" class=\"dataframe\">\n",
       "  <thead>\n",
       "    <tr style=\"text-align: right;\">\n",
       "      <th></th>\n",
       "      <th>id</th>\n",
       "      <th>url</th>\n",
       "      <th>region</th>\n",
       "      <th>region_url</th>\n",
       "      <th>price</th>\n",
       "      <th>year</th>\n",
       "      <th>manufacturer</th>\n",
       "      <th>model</th>\n",
       "      <th>fuel</th>\n",
       "      <th>odometer</th>\n",
       "      <th>title_status</th>\n",
       "      <th>transmission</th>\n",
       "      <th>image_url</th>\n",
       "      <th>description</th>\n",
       "      <th>state</th>\n",
       "      <th>lat</th>\n",
       "      <th>long</th>\n",
       "      <th>posting_date</th>\n",
       "      <th>price_category</th>\n",
       "    </tr>\n",
       "  </thead>\n",
       "  <tbody>\n",
       "  </tbody>\n",
       "</table>\n",
       "</div>"
      ],
      "text/plain": [
       "Empty DataFrame\n",
       "Columns: [id, url, region, region_url, price, year, manufacturer, model, fuel, odometer, title_status, transmission, image_url, description, state, lat, long, posting_date, price_category]\n",
       "Index: []"
      ]
     },
     "execution_count": 44,
     "metadata": {},
     "output_type": "execute_result"
    }
   ],
   "source": [
    "# записи, в которых дата размещения объявления о продаже не заполнена\n",
    "df[df.posting_date.isna()]"
   ]
  },
  {
   "cell_type": "code",
   "execution_count": 45,
   "metadata": {},
   "outputs": [],
   "source": [
    "# особой логики не видно, поэтому удалим записи, где нет данных по дате объявления о продаже\n",
    "df = df[df.posting_date.notna()]"
   ]
  },
  {
   "cell_type": "markdown",
   "metadata": {
    "id": "YV3rqduI_yP0",
    "jp-MarkdownHeadingCollapsed": true,
    "tags": []
   },
   "source": [
    "##### 1.2.2.13.  Проверяем процент заполнения данных в датасете"
   ]
  },
  {
   "cell_type": "code",
   "execution_count": 47,
   "metadata": {
    "colab": {
     "base_uri": "https://localhost:8080/"
    },
    "id": "duNZf1ZZ-w_S",
    "outputId": "e1fa57be-2738-4c10-c946-3d85b5863b07"
   },
   "outputs": [
    {
     "name": "stdout",
     "output_type": "stream",
     "text": [
      "Количество полностью заполненных объектов из всей выборки: 9868\n",
      "Процент полностью заполненных объектов из всей выборки: 100.0\n"
     ]
    }
   ],
   "source": [
    "print_useful_rows_info(df)"
   ]
  },
  {
   "cell_type": "markdown",
   "metadata": {},
   "source": [
    "### 1.2.3.  Исследование типов данных"
   ]
  },
  {
   "cell_type": "markdown",
   "metadata": {
    "jp-MarkdownHeadingCollapsed": true,
    "tags": []
   },
   "source": [
    "#### 1.2.3.1. Изменение типа данных по пробегу --- \"odometer\", в годе выпуска автомобиля --- \"year\""
   ]
  },
  {
   "cell_type": "code",
   "execution_count": 48,
   "metadata": {},
   "outputs": [],
   "source": [
    "# Меняем тип данных в данных столбцах на более подходящий целочисленный тип\n",
    "df[['odometer', 'year']] = df[['odometer', 'year']].astype (int)"
   ]
  },
  {
   "cell_type": "markdown",
   "metadata": {
    "jp-MarkdownHeadingCollapsed": true,
    "tags": []
   },
   "source": [
    "#### 1.2.3.2. Изменение типа данных по дате размещения объявления о продаже --- \"posting_date\""
   ]
  },
  {
   "cell_type": "code",
   "execution_count": 49,
   "metadata": {},
   "outputs": [],
   "source": [
    "# Дата указана в формате object, создаем новый столбец с верным типом даты ---\n",
    "df['date'] = pd.to_datetime(df.posting_date, utc=True)"
   ]
  },
  {
   "cell_type": "code",
   "execution_count": 50,
   "metadata": {},
   "outputs": [],
   "source": [
    "df.to_csv('data/df_clean.csv')"
   ]
  },
  {
   "cell_type": "markdown",
   "metadata": {},
   "source": [
    "### 2.   Исследование признаков (визуализация, структура, оценка и отработка аномалий и выбросов)"
   ]
  },
  {
   "cell_type": "markdown",
   "metadata": {},
   "source": [
    "#### 2.1. Исследование данных по пробегу -- \"odometer\""
   ]
  },
  {
   "cell_type": "markdown",
   "metadata": {
    "jp-MarkdownHeadingCollapsed": true,
    "tags": []
   },
   "source": [
    "##### 2.1.1.  Визуализация данных по пробегу -- \"odometer\", оценка наличия аномалий и выбросов"
   ]
  },
  {
   "cell_type": "code",
   "execution_count": 53,
   "metadata": {},
   "outputs": [
    {
     "data": {
      "text/plain": [
       "count    9.868000e+03\n",
       "mean     9.602918e+04\n",
       "std      8.679010e+04\n",
       "min      0.000000e+00\n",
       "25%      3.925250e+04\n",
       "50%      8.911600e+04\n",
       "75%      1.371982e+05\n",
       "max      3.245000e+06\n",
       "Name: odometer, dtype: float64"
      ]
     },
     "execution_count": 53,
     "metadata": {},
     "output_type": "execute_result"
    }
   ],
   "source": [
    "df.odometer.describe()"
   ]
  },
  {
   "cell_type": "code",
   "execution_count": 57,
   "metadata": {},
   "outputs": [
    {
     "data": {
      "image/png": "[encoded data removed]",
      "text/plain": [
       "<Figure size 1152x432 with 2 Axes>"
      ]
     },
     "metadata": {
      "needs_background": "light"
     },
     "output_type": "display_data"
    }
   ],
   "source": [
    "visual_hist_box(df.odometer, 'Количество пройденных миль с аномалиями и выбросами')"
   ]
  },
  {
   "cell_type": "markdown",
   "metadata": {},
   "source": [
    "! Как видно из описательных характеристик и визуализации - в данных пробега авто явно есть существенные выбросы в данных. С ними необходимо отдельно разбираться"
   ]
  },
  {
   "cell_type": "markdown",
   "metadata": {
    "jp-MarkdownHeadingCollapsed": true,
    "tags": []
   },
   "source": [
    "##### 2.1.2. Обработка аномалий и выбросов данных по пробегу -- \"odometer\" - заменяем на верхнюю границу"
   ]
  },
  {
   "cell_type": "code",
   "execution_count": 58,
   "metadata": {},
   "outputs": [
    {
     "name": "stdout",
     "output_type": "stream",
     "text": [
      "Границы для нормальных значений пробега: (-107666.125, 284116.875)\n"
     ]
    }
   ],
   "source": [
    "# Выводим границы с помощью функции\n",
    "boundaries = calculate_outliers(df.odometer)\n",
    "print(\"Границы для нормальных значений пробега:\", boundaries)"
   ]
  },
  {
   "cell_type": "code",
   "execution_count": 59,
   "metadata": {},
   "outputs": [
    {
     "name": "stdout",
     "output_type": "stream",
     "text": [
      "Количество значений меньше нижней и больше верхней границ --  90\n",
      "Процент значений меньше нижней и больше верхней границ --  0.91 %\n"
     ]
    }
   ],
   "source": [
    "is_outlier = (df.odometer < boundaries[0]) | (df.odometer > boundaries[1])\n",
    "print(\"Количество значений меньше нижней и больше верхней границ -- \", is_outlier.sum())\n",
    "print(\"Процент значений меньше нижней и больше верхней границ -- \", round((is_outlier.sum() / len(df)*100),2), \"%\")"
   ]
  },
  {
   "cell_type": "code",
   "execution_count": 60,
   "metadata": {},
   "outputs": [],
   "source": [
    "# Выбросы только среди максимальных значений, поэтому заменим их верхним граничным значением\n",
    "df.loc[is_outlier, 'odometer'] = int(boundaries[1])"
   ]
  },
  {
   "cell_type": "markdown",
   "metadata": {
    "tags": []
   },
   "source": [
    "#### 2.2. Исследование данных по году выпуска авто -- \"year\""
   ]
  },
  {
   "cell_type": "markdown",
   "metadata": {
    "jp-MarkdownHeadingCollapsed": true,
    "tags": []
   },
   "source": [
    "##### 2.2.1.  Визуализация данных по году выпуска авто -- \"year\", оценка наличия аномалий и выбросов"
   ]
  },
  {
   "cell_type": "code",
   "execution_count": 62,
   "metadata": {},
   "outputs": [
    {
     "data": {
      "text/plain": [
       "count    9868.000000\n",
       "mean     2010.909708\n",
       "std         9.705988\n",
       "min      1915.000000\n",
       "25%      2008.000000\n",
       "50%      2013.000000\n",
       "75%      2017.000000\n",
       "max      2022.000000\n",
       "Name: year, dtype: float64"
      ]
     },
     "execution_count": 62,
     "metadata": {},
     "output_type": "execute_result"
    }
   ],
   "source": [
    "df.year.describe()"
   ]
  },
  {
   "cell_type": "code",
   "execution_count": 63,
   "metadata": {},
   "outputs": [
    {
     "data": {
      "image/png": "[encoded data removed]",
      "text/plain": [
       "<Figure size 1080x216 with 1 Axes>"
      ]
     },
     "metadata": {
      "needs_background": "light"
     },
     "output_type": "display_data"
    }
   ],
   "source": [
    "visual_box(df.year, 'Ящик с усами для года выпуска авто (с выбросами)')"
   ]
  },
  {
   "cell_type": "markdown",
   "metadata": {
    "jp-MarkdownHeadingCollapsed": true,
    "tags": []
   },
   "source": [
    "##### 2.2.2.  Обработка аномалий и выбросов данных по году выпуска авто -- \"year\" -- замена выбросов по нижнему значению"
   ]
  },
  {
   "cell_type": "code",
   "execution_count": 64,
   "metadata": {},
   "outputs": [
    {
     "name": "stdout",
     "output_type": "stream",
     "text": [
      "Границы для нормальных значений года выпуска: (1994.5, 2030.5)\n",
      "Количество значений меньше нижней и больше верхней границ в годе выпуска автомобиля --  394\n",
      "Процент значений меньше нижней и больше верхней границ (доля выбросов в годе выпуска автомобиля)--  3.99 %\n"
     ]
    }
   ],
   "source": [
    "borders = calculate_outliers(df.year)\n",
    "print(\"Границы для нормальных значений года выпуска:\", borders)\n",
    "is_outlier = (df.year < borders[0]) | (df.year > borders[1]) \n",
    "print(\"Количество значений меньше нижней и больше верхней границ в годе выпуска автомобиля -- \", is_outlier.sum())\n",
    "print(\"Процент значений меньше нижней и больше верхней границ (доля выбросов в годе выпуска автомобиля)-- \", round((is_outlier.sum() / len(df)*100),2), \"%\")"
   ]
  },
  {
   "cell_type": "code",
   "execution_count": 65,
   "metadata": {},
   "outputs": [
    {
     "data": {
      "text/plain": [
       "low       181\n",
       "medium    135\n",
       "high       78\n",
       "Name: price_category, dtype: int64"
      ]
     },
     "execution_count": 65,
     "metadata": {},
     "output_type": "execute_result"
    }
   ],
   "source": [
    "# количество значений для категории цены для записей, в которых год выпуска автомобиля является выбросом\n",
    "df[is_outlier].price_category.value_counts(dropna=False)"
   ]
  },
  {
   "cell_type": "code",
   "execution_count": 66,
   "metadata": {},
   "outputs": [],
   "source": [
    "# Так как выбросы в годе выпуска находятся среди минимальных значений, заполним те значения, которые являются выбросами, значением нижней границы\n",
    "df.loc[is_outlier, 'year'] = int(borders[0])"
   ]
  },
  {
   "cell_type": "markdown",
   "metadata": {},
   "source": [
    "#### 2.3  Исследование данных по стоимости авто -- \"price\""
   ]
  },
  {
   "cell_type": "markdown",
   "metadata": {
    "jp-MarkdownHeadingCollapsed": true,
    "tags": []
   },
   "source": [
    "##### 2.3.1. Визуализация данных по стоимости авто -- \"price\", оценка наличия аномалий и выбросов"
   ]
  },
  {
   "cell_type": "code",
   "execution_count": 67,
   "metadata": {},
   "outputs": [
    {
     "data": {
      "text/plain": [
       "count        9868.000\n",
       "mean        20602.005\n",
       "std        125437.186\n",
       "min           500.000\n",
       "25%          7800.000\n",
       "50%         15590.000\n",
       "75%         27990.000\n",
       "max      12345678.000\n",
       "Name: price, dtype: object"
      ]
     },
     "execution_count": 67,
     "metadata": {},
     "output_type": "execute_result"
    }
   ],
   "source": [
    "#  отображение только  трех знаков после запятой и описательные характеристики\n",
    "df.price.describe().apply(lambda x: f\"{x:0.3f}\")"
   ]
  },
  {
   "cell_type": "code",
   "execution_count": 68,
   "metadata": {},
   "outputs": [
    {
     "data": {
      "image/png": "[encoded data removed]",
      "text/plain": [
       "<Figure size 1080x216 with 1 Axes>"
      ]
     },
     "metadata": {
      "needs_background": "light"
     },
     "output_type": "display_data"
    }
   ],
   "source": [
    "visual_box(df.price, 'Ящик с усами для стоимости автомобилей (c выбросами)')"
   ]
  },
  {
   "cell_type": "markdown",
   "metadata": {},
   "source": [
    "! Из «ящика с усами» можно увидеть, что выбросы действительно существуют, но из-за их большого разброса основаная часть графика («ящик») почти незаметна"
   ]
  },
  {
   "cell_type": "markdown",
   "metadata": {
    "jp-MarkdownHeadingCollapsed": true,
    "tags": []
   },
   "source": [
    "##### 2.3.2.  Обработка аномалий и выбросов данных по стоимости авто -- \"price\" - удаляем аномалии"
   ]
  },
  {
   "cell_type": "code",
   "execution_count": 69,
   "metadata": {},
   "outputs": [
    {
     "name": "stdout",
     "output_type": "stream",
     "text": [
      "Границы для нормальных значений стоимости авто: (-22485.0, 58275.0)\n"
     ]
    }
   ],
   "source": [
    "# границы для нормальных значений стоимости автомобиля, через интерквартильный размах\n",
    "boundaries_price = calculate_outliers(df.price)\n",
    "print(\"Границы для нормальных значений стоимости авто:\", boundaries_price)"
   ]
  },
  {
   "cell_type": "code",
   "execution_count": 70,
   "metadata": {},
   "outputs": [
    {
     "name": "stdout",
     "output_type": "stream",
     "text": [
      "Количество значений меньше нижней и больше верхней границ в стоимости авто --  207\n",
      "Процент значений меньше нижней и больше верхней границ (доля выбросов в стоимости авто)--  2.1 %\n"
     ]
    }
   ],
   "source": [
    "#  количество выбросов в стоимости автомобиля\n",
    "is_outlier = (df.price < boundaries_price[0]) | (df.price > boundaries_price[1]) \n",
    "print(\"Количество значений меньше нижней и больше верхней границ в стоимости авто -- \", is_outlier.sum())\n",
    "print(\"Процент значений меньше нижней и больше верхней границ (доля выбросов в стоимости авто)-- \", round((is_outlier.sum() / len(df)*100),2), \"%\")"
   ]
  },
  {
   "cell_type": "markdown",
   "metadata": {},
   "source": [
    "Выбросы только среди максимальных значений, по нижней границе - вопросов нет. \n",
    "При этом цены машин с самой высокой стоимостью имеют разные характеристики - по году, по модели. Какой-либо устойчивой зависимости особо не выявляется. Поэтому удалим строки с авто самой высокой стоимости"
   ]
  },
  {
   "cell_type": "code",
   "execution_count": 71,
   "metadata": {},
   "outputs": [],
   "source": [
    "df = df.drop(df[is_outlier].index)"
   ]
  },
  {
   "cell_type": "markdown",
   "metadata": {
    "jp-MarkdownHeadingCollapsed": true,
    "tags": []
   },
   "source": [
    "#### 2.4  Исследуем выбросы в количестве данных по годам - мало данных, убираем 2021,2022 гг"
   ]
  },
  {
   "cell_type": "code",
   "execution_count": 88,
   "metadata": {},
   "outputs": [
    {
     "data": {
      "text/plain": [
       "count    9619.000000\n",
       "mean     2011.515750\n",
       "std         6.491996\n",
       "min      1994.000000\n",
       "25%      2008.000000\n",
       "50%      2013.000000\n",
       "75%      2017.000000\n",
       "max      2020.000000\n",
       "Name: year, dtype: float64"
      ]
     },
     "execution_count": 88,
     "metadata": {},
     "output_type": "execute_result"
    }
   ],
   "source": [
    "df = df_[(df_.year != 2022)&(df_.year != 2021)]\n",
    "df.year.describe()"
   ]
  },
  {
   "cell_type": "markdown",
   "metadata": {},
   "source": [
    "### 3.  Feature Engineering"
   ]
  },
  {
   "cell_type": "markdown",
   "metadata": {},
   "source": [
    "#### 3.1. Генерация дополнительных фичей"
   ]
  },
  {
   "cell_type": "markdown",
   "metadata": {
    "jp-MarkdownHeadingCollapsed": true,
    "tags": []
   },
   "source": [
    "##### 3.1.1.  Доп параметр odometer/price"
   ]
  },
  {
   "cell_type": "code",
   "execution_count": 89,
   "metadata": {},
   "outputs": [],
   "source": [
    "# Создаем доп поле соотношения пробега на цену\n",
    "df['odometer/price'] = df.apply(lambda x: x.odometer / x.price, axis=1)"
   ]
  },
  {
   "cell_type": "markdown",
   "metadata": {
    "jp-MarkdownHeadingCollapsed": true,
    "tags": []
   },
   "source": [
    "##### 3.1.2.  Доп параметр длины описания desc_len"
   ]
  },
  {
   "cell_type": "code",
   "execution_count": 90,
   "metadata": {},
   "outputs": [],
   "source": [
    "df['desc_len'] = df.apply(lambda x: len(x.description) , axis=1)"
   ]
  },
  {
   "cell_type": "markdown",
   "metadata": {
    "jp-MarkdownHeadingCollapsed": true,
    "tags": []
   },
   "source": [
    "##### 3.1.3.  Доп параметр наличия модели в описании model_in_desc"
   ]
  },
  {
   "cell_type": "code",
   "execution_count": 91,
   "metadata": {},
   "outputs": [],
   "source": [
    "df['model_in_desc'] = df.apply(lambda x: x.description.count(x.model) , axis=1)"
   ]
  },
  {
   "cell_type": "markdown",
   "metadata": {
    "jp-MarkdownHeadingCollapsed": true,
    "tags": []
   },
   "source": [
    "##### 3.1.4.  Доп параметр возрастной категории автомобиля - age_category"
   ]
  },
  {
   "cell_type": "code",
   "execution_count": 92,
   "metadata": {},
   "outputs": [],
   "source": [
    "df['age_category'] =  df.apply(lambda x: \"new\" if x.year > 2013 else (\"old\" if x.year < 2006 else \"average\"), axis=1)"
   ]
  },
  {
   "cell_type": "markdown",
   "metadata": {
    "jp-MarkdownHeadingCollapsed": true,
    "tags": []
   },
   "source": [
    "##### 3.1.5.  Доп параметр длины символов в модели - model_len"
   ]
  },
  {
   "cell_type": "code",
   "execution_count": 93,
   "metadata": {},
   "outputs": [],
   "source": [
    "df['model_len'] = df.apply(lambda x: len(x.model) , axis=1)"
   ]
  },
  {
   "cell_type": "markdown",
   "metadata": {
    "jp-MarkdownHeadingCollapsed": true,
    "tags": []
   },
   "source": [
    "##### 3.1.6.  Доп параметр количества слов в модели - model_word_count"
   ]
  },
  {
   "cell_type": "code",
   "execution_count": 94,
   "metadata": {},
   "outputs": [],
   "source": [
    "df['model_word_count'] = df.apply(lambda x: len(x.model.split(' ')), axis=1)"
   ]
  },
  {
   "cell_type": "markdown",
   "metadata": {
    "jp-MarkdownHeadingCollapsed": true,
    "tags": []
   },
   "source": [
    "##### 3.1.7.  Доп категориальный признак по manufacturer"
   ]
  },
  {
   "cell_type": "code",
   "execution_count": 95,
   "metadata": {},
   "outputs": [],
   "source": [
    "manufacturer_names = ['audi', 'ford', 'chevrolet', 'toyota', 'jeep', 'honda', 'nissan']\n",
    "for manufacturer in manufacturer_names:\n",
    "    col_name = 'is_' + manufacturer\n",
    "    df[col_name] = df.apply(lambda x: 1 if x.manufacturer == manufacturer else 0, axis=1)"
   ]
  },
  {
   "cell_type": "markdown",
   "metadata": {
    "jp-MarkdownHeadingCollapsed": true,
    "tags": []
   },
   "source": [
    "##### 3.1.8.  Доп категориальный признак по fuel"
   ]
  },
  {
   "cell_type": "code",
   "execution_count": 96,
   "metadata": {},
   "outputs": [
    {
     "data": {
      "text/plain": [
       "OneHotEncoder(sparse=False)"
      ]
     },
     "execution_count": 96,
     "metadata": {},
     "output_type": "execute_result"
    }
   ],
   "source": [
    "ohe = OneHotEncoder(sparse=False)\n",
    "ohe.fit(df[['fuel']])"
   ]
  },
  {
   "cell_type": "code",
   "execution_count": 97,
   "metadata": {},
   "outputs": [
    {
     "data": {
      "text/plain": [
       "array(['x0_diesel', 'x0_electric', 'x0_gas', 'x0_hybrid', 'x0_other'],\n",
       "      dtype=object)"
      ]
     },
     "execution_count": 97,
     "metadata": {},
     "output_type": "execute_result"
    }
   ],
   "source": [
    "ohe_fuel = ohe.transform(df[['fuel']])\n",
    "ohe.get_feature_names()"
   ]
  },
  {
   "cell_type": "code",
   "execution_count": 98,
   "metadata": {},
   "outputs": [],
   "source": [
    "df[ohe.get_feature_names()] = ohe_fuel"
   ]
  },
  {
   "cell_type": "markdown",
   "metadata": {
    "jp-MarkdownHeadingCollapsed": true,
    "tags": []
   },
   "source": [
    "##### 3.1.9.  Доп нормализованные признаки по odometer"
   ]
  },
  {
   "cell_type": "code",
   "execution_count": 99,
   "metadata": {},
   "outputs": [
    {
     "data": {
      "text/plain": [
       "(9619, 39)"
      ]
     },
     "execution_count": 99,
     "metadata": {},
     "output_type": "execute_result"
    }
   ],
   "source": [
    "std_scaler = StandardScaler()\n",
    "std_scaler.fit(df[['odometer']])\n",
    "std_scaled = std_scaler.transform(df[['odometer']])\n",
    "df[['std_scaled_odometer']] = std_scaled\n",
    "df.shape"
   ]
  },
  {
   "cell_type": "markdown",
   "metadata": {
    "jp-MarkdownHeadingCollapsed": true,
    "tags": []
   },
   "source": [
    "##### 3.1.10.  Доп признак короткой модели short_model"
   ]
  },
  {
   "cell_type": "code",
   "execution_count": 100,
   "metadata": {},
   "outputs": [],
   "source": [
    "df['short_model'] = df.apply(lambda x: x.model.split(' ')[0], axis=1)"
   ]
  },
  {
   "cell_type": "markdown",
   "metadata": {},
   "source": [
    "#### 3.2.  Преобразование, нормализация"
   ]
  },
  {
   "cell_type": "markdown",
   "metadata": {
    "jp-MarkdownHeadingCollapsed": true,
    "tags": []
   },
   "source": [
    "##### 3.2.1.  Преобразование категориальных переменных short_model, transmission, region, manufacturer, state, title_status, age_category"
   ]
  },
  {
   "cell_type": "code",
   "execution_count": 101,
   "metadata": {},
   "outputs": [],
   "source": [
    "data = df[['short_model', 'transmission', 'region', 'manufacturer', 'state', 'title_status', 'age_category']]"
   ]
  },
  {
   "cell_type": "code",
   "execution_count": 102,
   "metadata": {},
   "outputs": [
    {
     "data": {
      "text/plain": [
       "OneHotEncoder(sparse=False)"
      ]
     },
     "execution_count": 102,
     "metadata": {},
     "output_type": "execute_result"
    }
   ],
   "source": [
    "ohe_ = OneHotEncoder(sparse=False)\n",
    "ohe_.fit(data)"
   ]
  },
  {
   "cell_type": "code",
   "execution_count": 103,
   "metadata": {},
   "outputs": [],
   "source": [
    "ohe_data_ = ohe_.transform(data)"
   ]
  },
  {
   "cell_type": "code",
   "execution_count": 104,
   "metadata": {},
   "outputs": [],
   "source": [
    "ohe_.get_feature_names_out(input_features=None)\n",
    "df[ohe_.get_feature_names_out()] = ohe_data_"
   ]
  },
  {
   "cell_type": "markdown",
   "metadata": {
    "jp-MarkdownHeadingCollapsed": true,
    "tags": []
   },
   "source": [
    "##### 3.2.2.  Стандартизация количественных переменных lat, long, year, odometer/price, desc_len, model_in_desc, model_len, model_word_count"
   ]
  },
  {
   "cell_type": "code",
   "execution_count": 105,
   "metadata": {},
   "outputs": [],
   "source": [
    "df['model_len'] = df.apply(lambda x: len(x.model) , axis=1)\n",
    "df['model_word_count'] = df.apply(lambda x: len(x.model.split(' ')), axis=1)\n",
    "categorial_features = ['lat', 'long', 'year', 'odometer/price', 'desc_len', 'model_in_desc', 'model_len', 'model_word_count']\n",
    "data = df[categorial_features]"
   ]
  },
  {
   "cell_type": "code",
   "execution_count": 106,
   "metadata": {},
   "outputs": [
    {
     "data": {
      "text/plain": [
       "StandardScaler()"
      ]
     },
     "execution_count": 106,
     "metadata": {},
     "output_type": "execute_result"
    }
   ],
   "source": [
    "std_scaler = StandardScaler()\n",
    "std_scaler.fit(data)"
   ]
  },
  {
   "cell_type": "code",
   "execution_count": 107,
   "metadata": {},
   "outputs": [],
   "source": [
    "std_scaled = std_scaler.transform(data)\n",
    "df[['lat_std', 'long_std', 'year_std', 'odometer/price_std', 'desc_len_std', 'model_in_desc_std', 'model_len_std', 'model_word_count_std']] = std_scaled"
   ]
  },
  {
   "cell_type": "code",
   "execution_count": 108,
   "metadata": {},
   "outputs": [
    {
     "data": {
      "text/plain": [
       "Index(['id', 'url', 'region', 'region_url', 'price', 'year', 'manufacturer',\n",
       "       'model', 'fuel', 'odometer',\n",
       "       ...\n",
       "       'age_category_new', 'age_category_old', 'lat_std', 'long_std',\n",
       "       'year_std', 'odometer/price_std', 'desc_len_std', 'model_in_desc_std',\n",
       "       'model_len_std', 'model_word_count_std'],\n",
       "      dtype='object', length=1488)"
      ]
     },
     "execution_count": 108,
     "metadata": {},
     "output_type": "execute_result"
    }
   ],
   "source": [
    "df.columns"
   ]
  },
  {
   "cell_type": "markdown",
   "metadata": {
    "jp-MarkdownHeadingCollapsed": true,
    "tags": []
   },
   "source": [
    "##### 3.2.3.  Преобразование даты"
   ]
  },
  {
   "cell_type": "code",
   "execution_count": 109,
   "metadata": {},
   "outputs": [],
   "source": [
    "df.date = pd.to_datetime(df.date, utc = True)\n",
    "df['month'] = df.date.dt.month\n",
    "df['dayofweek'] = df.date.dt.dayofweek"
   ]
  },
  {
   "cell_type": "code",
   "execution_count": 110,
   "metadata": {},
   "outputs": [],
   "source": [
    "df.posting_date = pd.to_datetime(df.posting_date, utc = True)\n",
    "df['diff_years'] = df.posting_date.dt.year - df.date.dt.year"
   ]
  },
  {
   "cell_type": "code",
   "execution_count": 111,
   "metadata": {},
   "outputs": [],
   "source": [
    "std_scaler = StandardScaler()"
   ]
  },
  {
   "cell_type": "code",
   "execution_count": 112,
   "metadata": {},
   "outputs": [],
   "source": [
    "std_scaler.fit(df[['month','dayofweek', 'diff_years']])\n",
    "std_scaled = std_scaler.transform(df[['month','dayofweek', 'diff_years']])\n",
    "df[['month_std', 'dayofweek_std', 'diff_years_std']] = std_scaled"
   ]
  },
  {
   "cell_type": "markdown",
   "metadata": {
    "jp-MarkdownHeadingCollapsed": true,
    "tags": []
   },
   "source": [
    "#### 3.3.  Преобразование датафрейма для этапа моделирования"
   ]
  },
  {
   "cell_type": "code",
   "execution_count": 113,
   "metadata": {},
   "outputs": [
    {
     "data": {
      "text/plain": [
       "(9619, 1494)"
      ]
     },
     "execution_count": 113,
     "metadata": {},
     "output_type": "execute_result"
    }
   ],
   "source": [
    "df.shape"
   ]
  },
  {
   "cell_type": "code",
   "execution_count": 114,
   "metadata": {},
   "outputs": [],
   "source": [
    "columns_for_drop = ['url', 'region', 'region_url', 'month','dayofweek', 'diff_years','year', 'manufacturer', 'model', 'fuel',\n",
    "                    'odometer', 'title_status','transmission',   'image_url', 'description', 'state', 'lat', 'long',\n",
    "                    'posting_date', 'date', 'odometer/price', 'desc_len', 'model_in_desc',  'short_model', 'age_category',\n",
    "                    'model_len', 'model_word_count']\n",
    "df_prepared = df.drop(df[columns_for_drop], axis =1)"
   ]
  },
  {
   "cell_type": "code",
   "execution_count": 115,
   "metadata": {},
   "outputs": [],
   "source": [
    "df_prepared.to_csv('data/vehicles_dataset_prepared.csv', index = False)"
   ]
  },
  {
   "cell_type": "code",
   "execution_count": 116,
   "metadata": {},
   "outputs": [],
   "source": [
    "df = pd.read_csv('data/vehicles_dataset_prepared.csv')"
   ]
  },
  {
   "cell_type": "markdown",
   "metadata": {},
   "source": [
    "##### ------------------------------------------------------------------------------------------------------------------------------------------------------------------------------------------------------------"
   ]
  },
  {
   "cell_type": "markdown",
   "metadata": {
    "id": "ZlIJNs0Czado",
    "jp-MarkdownHeadingCollapsed": true,
    "tags": []
   },
   "source": [
    "## 4. Modelling"
   ]
  },
  {
   "cell_type": "markdown",
   "metadata": {
    "jp-MarkdownHeadingCollapsed": true,
    "tags": []
   },
   "source": [
    "##### Описание преобразованного датасета:\n",
    "- `id`: идентификатор записи;\n",
    "- `is_manufacturer_name`: признак производителя автомобиля;\n",
    "\n",
    "- `region_*`: регион;\n",
    "- `x0_*`: тип топлива;\n",
    "- `manufacturer_*`: производитель;\n",
    "- `short_model_*`: сокращённая модель автомобиля;\n",
    "- `title_status_*`: статус;\n",
    "- `transmission_*`: коробка передач;\n",
    "- `state_*`: штат;\n",
    "- `age_category_*`: возрастная категория автомобиля;\n",
    "\n",
    "- `std_scaled_odometer`: количество пройденных миль (после стандартизации);\n",
    "- `year_std`: год выпуска (после стандартизации);\n",
    "- `lat_std`: широта (после стандартизации);\n",
    "- `long_std`: долгота (после стандартизации);\n",
    "- `odometer/price_std`: отношение стоимости к пробегу автомобиля (после стандартизации);\n",
    "- `desc_len_std`: количество символов в тексте объявления о продаже (после стандартизации);\n",
    "- `model_in_desc_std`: количество наименований модели автомобиля в тексте объявления о продаже (после стандартизации);\n",
    "- `model_len_std`: длина наименования автомобиля (после стандартизации);\n",
    "- `model_word_count_std`: количество слов в наименовании автомобиля (после стандартизации);\n",
    "- `month_std`: номер месяца размещения объявления о продаже автомобиля (после стандартизации);\n",
    "- `dayofweek_std`: день недели размещения объявления о продаже автомобиля (после стандартизации);\n",
    "- `diff_years_std`: количество лет между годом производства автомобиля и годом размещения объявления о продаже автомобиля (после стандартизации);\n",
    "\n",
    "- `price`: стоимость;\n",
    "- `price_category`: категория цены."
   ]
  },
  {
   "cell_type": "markdown",
   "metadata": {
    "id": "vQsu3eoT0n6E",
    "jp-MarkdownHeadingCollapsed": true,
    "tags": []
   },
   "source": [
    "### 4.1. Инициализация целевой переменной - price_category, разделение на сеты"
   ]
  },
  {
   "cell_type": "code",
   "execution_count": 117,
   "metadata": {
    "id": "4AwhNj9V30mZ"
   },
   "outputs": [],
   "source": [
    "df_prepared = df.drop(['odometer/price_std', 'price', 'id'], axis=1)"
   ]
  },
  {
   "cell_type": "code",
   "execution_count": 118,
   "metadata": {
    "id": "3RsQUEQczHmE"
   },
   "outputs": [],
   "source": [
    "x = df_prepared.drop(['price_category'], axis=1)\n",
    "y = df_prepared['price_category']\n",
    "\n",
    "x_train, x_test, y_train, y_test = train_test_split(x, y, test_size=0.3, random_state=42)"
   ]
  },
  {
   "cell_type": "code",
   "execution_count": 119,
   "metadata": {
    "colab": {
     "base_uri": "https://localhost:8080/"
    },
    "id": "hT6IXy5y00vW",
    "outputId": "3705352d-a605-4851-f0d9-91f73da06e8b"
   },
   "outputs": [
    {
     "data": {
      "text/plain": [
       "Index(['price_category', 'is_audi', 'is_ford', 'is_chevrolet', 'is_toyota',\n",
       "       'is_jeep', 'is_honda', 'is_nissan', 'x0_diesel', 'x0_electric',\n",
       "       ...\n",
       "       'lat_std', 'long_std', 'year_std', 'desc_len_std', 'model_in_desc_std',\n",
       "       'model_len_std', 'model_word_count_std', 'month_std', 'dayofweek_std',\n",
       "       'diff_years_std'],\n",
       "      dtype='object', length=1464)"
      ]
     },
     "execution_count": 119,
     "metadata": {},
     "output_type": "execute_result"
    }
   ],
   "source": [
    "df_prepared.columns"
   ]
  },
  {
   "cell_type": "markdown",
   "metadata": {
    "jp-MarkdownHeadingCollapsed": true,
    "tags": []
   },
   "source": [
    "###   4.2. Обучение моделей разными методами"
   ]
  },
  {
   "cell_type": "markdown",
   "metadata": {
    "id": "APYHWmkP02Fv",
    "jp-MarkdownHeadingCollapsed": true,
    "tags": []
   },
   "source": [
    "####   4.2.1.  Логистическая регрессия - точность на тестовом сете - 75,7%"
   ]
  },
  {
   "cell_type": "code",
   "execution_count": 120,
   "metadata": {
    "id": "oAdYVUVC2aPW"
   },
   "outputs": [],
   "source": [
    "logreg = LogisticRegression(random_state=100, max_iter=400, intercept_scaling=100, penalty='l2', solver='sag')"
   ]
  },
  {
   "cell_type": "code",
   "execution_count": 121,
   "metadata": {
    "colab": {
     "base_uri": "https://localhost:8080/"
    },
    "id": "zEjqN0l92cp4",
    "outputId": "d33ad980-3184-4468-8d9b-f668383d97fa"
   },
   "outputs": [
    {
     "data": {
      "text/plain": [
       "LogisticRegression(intercept_scaling=100, max_iter=400, random_state=100,\n",
       "                   solver='sag')"
      ]
     },
     "execution_count": 121,
     "metadata": {},
     "output_type": "execute_result"
    }
   ],
   "source": [
    "logreg.fit(x_train, y_train)"
   ]
  },
  {
   "cell_type": "code",
   "execution_count": 122,
   "metadata": {
    "colab": {
     "base_uri": "https://localhost:8080/"
    },
    "id": "JcQjy3591frk",
    "outputId": "54330a9c-5b42-4625-8b6d-25e5830c54dc"
   },
   "outputs": [
    {
     "name": "stdout",
     "output_type": "stream",
     "text": [
      "TRAIN ACC: 0.8560819842566464\n",
      "TEST ACC: 0.7571032571032571\n"
     ]
    }
   ],
   "source": [
    "predicted_train_log = logreg.predict(x_train)\n",
    "predicted_test_log = logreg.predict(x_test)\n",
    "print(f'TRAIN ACC: {accuracy_score(y_train, predicted_train_log)}')\n",
    "print(f'TEST ACC: {accuracy_score(y_test, predicted_test_log)}')"
   ]
  },
  {
   "cell_type": "code",
   "execution_count": 123,
   "metadata": {
    "colab": {
     "base_uri": "https://localhost:8080/"
    },
    "id": "5LztcArs1192",
    "outputId": "9ffef0b3-7d1f-4ff4-8556-8fd1feca386e"
   },
   "outputs": [
    {
     "data": {
      "text/plain": [
       "array([[805,  25, 167],\n",
       "       [ 22, 773, 158],\n",
       "       [158, 171, 607]], dtype=int64)"
      ]
     },
     "execution_count": 123,
     "metadata": {},
     "output_type": "execute_result"
    }
   ],
   "source": [
    "confusion_matrix(y_test, predicted_test_log)"
   ]
  },
  {
   "cell_type": "markdown",
   "metadata": {
    "id": "zeRsrAIjRTIG",
    "jp-MarkdownHeadingCollapsed": true,
    "tags": []
   },
   "source": [
    "####   4.2.2. Случайный лес - точность на тестовом сете - 75,3%"
   ]
  },
  {
   "cell_type": "code",
   "execution_count": 124,
   "metadata": {
    "colab": {
     "base_uri": "https://localhost:8080/"
    },
    "id": "jI1MScsgQU6y",
    "outputId": "b8f807de-b56e-4f2b-cc23-9be94abeb14e"
   },
   "outputs": [
    {
     "data": {
      "text/plain": [
       "RandomForestClassifier()"
      ]
     },
     "execution_count": 124,
     "metadata": {},
     "output_type": "execute_result"
    }
   ],
   "source": [
    "rf_clf = RandomForestClassifier()\n",
    "rf_clf.fit(x_train, y_train)"
   ]
  },
  {
   "cell_type": "code",
   "execution_count": 125,
   "metadata": {
    "colab": {
     "base_uri": "https://localhost:8080/"
    },
    "id": "xjzuyev1Rg-H",
    "outputId": "0e2507e6-e8e7-45cd-dcfa-0650eb3b60df"
   },
   "outputs": [
    {
     "name": "stdout",
     "output_type": "stream",
     "text": [
      "TRAIN ACC RF: 1.0\n",
      "TEST ACC RF: 0.7557172557172557\n"
     ]
    }
   ],
   "source": [
    "predicted_train_rf = rf_clf.predict(x_train)\n",
    "predicted_test_rf = rf_clf.predict(x_test)\n",
    "print(f'TRAIN ACC RF: {accuracy_score(y_train, predicted_train_rf)}')\n",
    "print(f'TEST ACC RF: {accuracy_score(y_test, predicted_test_rf)}')"
   ]
  },
  {
   "cell_type": "code",
   "execution_count": 126,
   "metadata": {
    "colab": {
     "base_uri": "https://localhost:8080/"
    },
    "id": "oSFQHmnkR2WG",
    "outputId": "c3e7d011-ebf9-4025-af14-ec57196bc52a"
   },
   "outputs": [
    {
     "data": {
      "text/plain": [
       "array([[808,  41, 148],\n",
       "       [ 18, 809, 126],\n",
       "       [160, 212, 564]], dtype=int64)"
      ]
     },
     "execution_count": 126,
     "metadata": {},
     "output_type": "execute_result"
    }
   ],
   "source": [
    "confusion_matrix(y_test, predicted_test_rf)"
   ]
  },
  {
   "cell_type": "markdown",
   "metadata": {
    "id": "fA1ptXs4R-Lz",
    "jp-MarkdownHeadingCollapsed": true,
    "tags": []
   },
   "source": [
    "####   4.2.3. Многослойный персептрон - точность на тестовом сете - 78,4%"
   ]
  },
  {
   "cell_type": "code",
   "execution_count": 127,
   "metadata": {
    "colab": {
     "base_uri": "https://localhost:8080/"
    },
    "id": "b7QthCQzR6RK",
    "outputId": "ef813f09-a74f-4804-9d44-28b468c8ff10"
   },
   "outputs": [
    {
     "data": {
      "text/plain": [
       "MLPClassifier(hidden_layer_sizes=(200, 40), max_iter=500, random_state=50,\n",
       "              shuffle=False, solver='sgd', warm_start=True)"
      ]
     },
     "execution_count": 127,
     "metadata": {},
     "output_type": "execute_result"
    }
   ],
   "source": [
    "mlp = MLPClassifier(random_state=50, max_iter=500, hidden_layer_sizes=(200,40), activation = 'relu', solver ='sgd',\n",
    "                    shuffle =False, warm_start=True)\n",
    "mlp.fit(x_train, y_train)"
   ]
  },
  {
   "cell_type": "code",
   "execution_count": 128,
   "metadata": {
    "colab": {
     "base_uri": "https://localhost:8080/"
    },
    "id": "0Pkd0BwiSfZo",
    "outputId": "5c81524e-93da-4faa-81f2-01381d0da948"
   },
   "outputs": [
    {
     "name": "stdout",
     "output_type": "stream",
     "text": [
      "TRAIN ACC MLP: 0.9772761027773652\n",
      "TEST ACC MLP: 0.7879417879417879\n"
     ]
    }
   ],
   "source": [
    "predicted_train_mlp = mlp.predict(x_train)\n",
    "predicted_test_mlp = mlp.predict(x_test)\n",
    "\n",
    "print(f'TRAIN ACC MLP: {accuracy_score(y_train, predicted_train_mlp)}')\n",
    "print(f'TEST ACC MLP: {accuracy_score(y_test, predicted_test_mlp)}')"
   ]
  },
  {
   "cell_type": "code",
   "execution_count": 129,
   "metadata": {
    "colab": {
     "base_uri": "https://localhost:8080/"
    },
    "id": "MGBwTDYBS4eZ",
    "outputId": "f870f583-c171-4570-b549-5c0840a0827a"
   },
   "outputs": [
    {
     "data": {
      "text/plain": [
       "array([[826,  16, 155],\n",
       "       [ 16, 765, 172],\n",
       "       [119, 134, 683]], dtype=int64)"
      ]
     },
     "execution_count": 129,
     "metadata": {},
     "output_type": "execute_result"
    }
   ],
   "source": [
    "confusion_matrix(y_test, predicted_test_mlp)"
   ]
  },
  {
   "cell_type": "markdown",
   "metadata": {
    "id": "5OlLIYPMV2QP",
    "jp-MarkdownHeadingCollapsed": true,
    "tags": []
   },
   "source": [
    "###   4.3. Кросс-валидация на тестовой выборке"
   ]
  },
  {
   "cell_type": "code",
   "execution_count": 130,
   "metadata": {
    "colab": {
     "base_uri": "https://localhost:8080/"
    },
    "id": "LgkHRdwsUIL2",
    "outputId": "2a51bb7b-3496-4d76-a645-2a061a080f5a"
   },
   "outputs": [
    {
     "name": "stdout",
     "output_type": "stream",
     "text": [
      "{'fit_time': array([17.48199964, 17.73503542]), 'score_time': array([0.02000046, 0.02201104]), 'test_score': array([0.75200475, 0.74806892])}\n"
     ]
    }
   ],
   "source": [
    "print(cross_validate(logreg, x_train, y_train, cv=2))\n",
    "cv_score_log = cross_val_score(logreg, x_train, y_train, cv=5)"
   ]
  },
  {
   "cell_type": "code",
   "execution_count": 138,
   "metadata": {
    "colab": {
     "base_uri": "https://localhost:8080/"
    },
    "id": "c91GnDCMWQb5",
    "outputId": "5d4f29c7-f526-40c2-a98a-37410e7ea4a1"
   },
   "outputs": [
    {
     "name": "stdout",
     "output_type": "stream",
     "text": [
      "{'fit_time': array([1.17403269, 1.24300003]), 'score_time': array([0.085006  , 0.10096741]), 'test_score': array([0.74190674, 0.74183007])}\n"
     ]
    }
   ],
   "source": [
    "print(cross_validate(rf_clf, x_train, y_train, cv=2))\n",
    "cv_score_clf = cross_val_score(rf_clf, x_train, y_train, cv=5)"
   ]
  },
  {
   "cell_type": "code",
   "execution_count": 132,
   "metadata": {
    "colab": {
     "base_uri": "https://localhost:8080/"
    },
    "id": "D04eQRtdWRS-",
    "outputId": "09d720a3-7261-4b3b-9665-4fe42bbea5ac"
   },
   "outputs": [
    {
     "name": "stdout",
     "output_type": "stream",
     "text": [
      "{'fit_time': array([17.59899831, 17.49199963]), 'score_time': array([0.02099991, 0.02100062]), 'test_score': array([0.75200475, 0.74806892])}\n"
     ]
    }
   ],
   "source": [
    "print(cross_validate(mlp, x_train, y_train, cv=2))\n",
    "cv_score_mlp = cross_val_score(mlp, x_train, y_train, cv=5)"
   ]
  },
  {
   "cell_type": "markdown",
   "metadata": {
    "id": "NS5gaW66n3MG",
    "jp-MarkdownHeadingCollapsed": true,
    "tags": []
   },
   "source": [
    "###  4.4. Выбор лучшей модели"
   ]
  },
  {
   "cell_type": "code",
   "execution_count": 135,
   "metadata": {
    "colab": {
     "base_uri": "https://localhost:8080/"
    },
    "id": "rVd_BG9Bmk-d",
    "outputId": "57006e61-da24-4689-fa0d-f6b5491c96c0"
   },
   "outputs": [
    {
     "name": "stdout",
     "output_type": "stream",
     "text": [
      "Логистическая регрессия: среднее значение точности модели -  76.5778886767248 % \n",
      "Стандартное отклонение точности модели - 0.020086536027697582\n"
     ]
    }
   ],
   "source": [
    "print(\"Логистическая регрессия: среднее значение точности модели - \", cv_score_log.mean()*100, \"%\",  \"\\nСтандартное отклонение точности модели -\", cv_score_log.std())"
   ]
  },
  {
   "cell_type": "code",
   "execution_count": 136,
   "metadata": {
    "colab": {
     "base_uri": "https://localhost:8080/"
    },
    "id": "gnqq5-HTnGDX",
    "outputId": "5bc8f13c-be0f-4743-b020-5d2461c7ee1c"
   },
   "outputs": [
    {
     "name": "stdout",
     "output_type": "stream",
     "text": [
      "Случайный лес: среднее значение точности модели -  75.5679397615746 % \n",
      "Стандартное отклонение точности модели - 0.014933880596809881\n"
     ]
    }
   ],
   "source": [
    "print(\"Случайный лес: среднее значение точности модели - \", cv_score_clf.mean()*100, \"%\",  \"\\nСтандартное отклонение точности модели -\", cv_score_clf.std())"
   ]
  },
  {
   "cell_type": "code",
   "execution_count": 137,
   "metadata": {
    "colab": {
     "base_uri": "https://localhost:8080/"
    },
    "id": "YYee_JANnGNi",
    "outputId": "60a23ac7-e652-4585-d030-a111138f1a43"
   },
   "outputs": [
    {
     "name": "stdout",
     "output_type": "stream",
     "text": [
      "Многослойный персептрон: среднее значение точности модели -  79.45929041588208 % \n",
      "Стандартное отклонение точности модели - 0.014400896617769365\n"
     ]
    }
   ],
   "source": [
    "print(\"Многослойный персептрон: среднее значение точности модели - \", cv_score_mlp.mean()*100, \"%\",  \"\\nСтандартное отклонение точности модели -\", cv_score_mlp.std())"
   ]
  },
  {
   "cell_type": "markdown",
   "metadata": {
    "id": "4bOBg_W-00yb"
   },
   "source": [
    "##### Лучший результат дала модель многослойного персептрона. Выбираем ее."
   ]
  },
  {
   "cell_type": "markdown",
   "metadata": {
    "id": "FIvl4NS0emi_",
    "jp-MarkdownHeadingCollapsed": true,
    "tags": []
   },
   "source": [
    "###   4.5. Кросс-валидация лучшей модели многослойного персептрона на тестовой выборке"
   ]
  },
  {
   "cell_type": "code",
   "execution_count": 139,
   "metadata": {
    "colab": {
     "base_uri": "https://localhost:8080/"
    },
    "id": "8UdcuZ4yerLH",
    "outputId": "720917e4-0af0-430f-8195-cee4dd86477b"
   },
   "outputs": [
    {
     "name": "stdout",
     "output_type": "stream",
     "text": [
      "Многослойный персептрон на тестовой выборке: среднее значение точности модели -  74.63547882197022 % \n",
      "Стандартное отклонение точности модели - 0.017751720639139316\n"
     ]
    }
   ],
   "source": [
    "cv_score_mlp_test = cross_val_score(mlp, x_test, y_test, cv=5)\n",
    "print(\"Многослойный персептрон на тестовой выборке: среднее значение точности модели - \", cv_score_mlp_test.mean()*100, \"%\",  \"\\nСтандартное отклонение точности модели -\", cv_score_mlp_test.std())"
   ]
  },
  {
   "cell_type": "markdown",
   "metadata": {
    "id": "ZUGV8j64oVX2"
   },
   "source": [
    "##### По итогам кросс-валидации на тестовой выборке, точность модели ухудшилась незначительно, модель не переобучена и может быть использована"
   ]
  },
  {
   "cell_type": "markdown",
   "metadata": {
    "id": "wR7r-6yq2rf_",
    "jp-MarkdownHeadingCollapsed": true,
    "tags": []
   },
   "source": [
    "## 5. RESULTS"
   ]
  },
  {
   "cell_type": "markdown",
   "metadata": {
    "id": "HS0sN8OW2zvF",
    "tags": []
   },
   "source": [
    "##### Выбрана модель многослойного персептрона. Точность модели на всей выборке - 92%"
   ]
  },
  {
   "cell_type": "code",
   "execution_count": 140,
   "metadata": {
    "colab": {
     "base_uri": "https://localhost:8080/"
    },
    "id": "hFP5j9cZoXDG",
    "outputId": "b1c45343-a04f-4740-9091-fa4d31a4ba1a"
   },
   "outputs": [
    {
     "name": "stdout",
     "output_type": "stream",
     "text": [
      "TEST ACC MLP RESULTS: 0.920469903316353\n"
     ]
    }
   ],
   "source": [
    "predicted_results_mlp = mlp.predict(x)\n",
    "print(f'TEST ACC MLP RESULTS: {accuracy_score(y, predicted_results_mlp)}')"
   ]
  },
  {
   "cell_type": "code",
   "execution_count": null,
   "metadata": {
    "id": "5pHXHrKTABhS"
   },
   "outputs": [],
   "source": [
    "# Сохраняем модель в формате pickle\n",
    "filename = \"model_mlp_pickle.pickle\"\n",
    "\n",
    "with open(filename, 'wb') as file:\n",
    "    pickle.dump(mlp, file)"
   ]
  },
  {
   "cell_type": "code",
   "execution_count": null,
   "metadata": {
    "colab": {
     "base_uri": "https://localhost:8080/"
    },
    "id": "Touiqg67kQyE",
    "outputId": "48ae8bf7-6e50-4564-920a-e4df7c3377f8"
   },
   "outputs": [
    {
     "data": {
      "application/javascript": [
       "\n",
       "    async function download(id, filename, size) {\n",
       "      if (!google.colab.kernel.accessAllowed) {\n",
       "        return;\n",
       "      }\n",
       "      const div = document.createElement('div');\n",
       "      const label = document.createElement('label');\n",
       "      label.textContent = `Downloading \"${filename}\": `;\n",
       "      div.appendChild(label);\n",
       "      const progress = document.createElement('progress');\n",
       "      progress.max = size;\n",
       "      div.appendChild(progress);\n",
       "      document.body.appendChild(div);\n",
       "\n",
       "      const buffers = [];\n",
       "      let downloaded = 0;\n",
       "\n",
       "      const channel = await google.colab.kernel.comms.open(id);\n",
       "      // Send a message to notify the kernel that we're ready.\n",
       "      channel.send({})\n",
       "\n",
       "      for await (const message of channel.messages) {\n",
       "        // Send a message to notify the kernel that we're ready.\n",
       "        channel.send({})\n",
       "        if (message.buffers) {\n",
       "          for (const buffer of message.buffers) {\n",
       "            buffers.push(buffer);\n",
       "            downloaded += buffer.byteLength;\n",
       "            progress.value = downloaded;\n",
       "          }\n",
       "        }\n",
       "      }\n",
       "      const blob = new Blob(buffers, {type: 'application/binary'});\n",
       "      const a = document.createElement('a');\n",
       "      a.href = window.URL.createObjectURL(blob);\n",
       "      a.download = filename;\n",
       "      div.appendChild(a);\n",
       "      a.click();\n",
       "      div.remove();\n",
       "    }\n",
       "  "
      ],
      "text/plain": [
       "<IPython.core.display.Javascript object>"
      ]
     },
     "metadata": {},
     "output_type": "display_data"
    },
    {
     "data": {
      "application/javascript": [
       "download(\"download_7c661891-1783-4a97-be4a-dca40c834a81\", \"model_mlp_pickle.pickle\", 4878678)"
      ],
      "text/plain": [
       "<IPython.core.display.Javascript object>"
      ]
     },
     "metadata": {},
     "output_type": "display_data"
    }
   ],
   "source": [
    "from google.colab import files\n",
    "files.download(\"model_mlp_pickle.pickle\")"
   ]
  },
  {
   "cell_type": "markdown",
   "metadata": {
    "tags": []
   },
   "source": [
    "## 6. Доп исследования"
   ]
  },
  {
   "cell_type": "markdown",
   "metadata": {
    "tags": []
   },
   "source": [
    "#### 6.1. Визуализации категориальной переменной вид топлива --- \"fuel\""
   ]
  },
  {
   "cell_type": "code",
   "execution_count": 72,
   "metadata": {},
   "outputs": [
    {
     "data": {
      "text/html": [
       "<div>\n",
       "<style scoped>\n",
       "    .dataframe tbody tr th:only-of-type {\n",
       "        vertical-align: middle;\n",
       "    }\n",
       "\n",
       "    .dataframe tbody tr th {\n",
       "        vertical-align: top;\n",
       "    }\n",
       "\n",
       "    .dataframe thead th {\n",
       "        text-align: right;\n",
       "    }\n",
       "</style>\n",
       "<table border=\"1\" class=\"dataframe\">\n",
       "  <thead>\n",
       "    <tr style=\"text-align: right;\">\n",
       "      <th></th>\n",
       "      <th>fuel</th>\n",
       "      <th>count</th>\n",
       "    </tr>\n",
       "  </thead>\n",
       "  <tbody>\n",
       "    <tr>\n",
       "      <th>0</th>\n",
       "      <td>diesel</td>\n",
       "      <td>561</td>\n",
       "    </tr>\n",
       "    <tr>\n",
       "      <th>1</th>\n",
       "      <td>electric</td>\n",
       "      <td>43</td>\n",
       "    </tr>\n",
       "    <tr>\n",
       "      <th>2</th>\n",
       "      <td>gas</td>\n",
       "      <td>8215</td>\n",
       "    </tr>\n",
       "    <tr>\n",
       "      <th>3</th>\n",
       "      <td>hybrid</td>\n",
       "      <td>104</td>\n",
       "    </tr>\n",
       "    <tr>\n",
       "      <th>4</th>\n",
       "      <td>other</td>\n",
       "      <td>738</td>\n",
       "    </tr>\n",
       "  </tbody>\n",
       "</table>\n",
       "</div>"
      ],
      "text/plain": [
       "       fuel  count\n",
       "0    diesel    561\n",
       "1  electric     43\n",
       "2       gas   8215\n",
       "3    hybrid    104\n",
       "4     other    738"
      ]
     },
     "execution_count": 72,
     "metadata": {},
     "output_type": "execute_result"
    }
   ],
   "source": [
    "stats = df.groupby(['fuel'], as_index=False)[['id']].count()\n",
    "stats = stats.rename(columns={'id': 'count'})\n",
    "stats"
   ]
  },
  {
   "cell_type": "code",
   "execution_count": 73,
   "metadata": {},
   "outputs": [
    {
     "data": {
      "image/png": "[encoded data removed]",
      "text/plain": [
       "<Figure size 432x288 with 1 Axes>"
      ]
     },
     "metadata": {
      "needs_background": "light"
     },
     "output_type": "display_data"
    }
   ],
   "source": [
    "plt.bar(stats['fuel'], stats['count'], color=['orange', 'red', 'green'])\n",
    "plt.xlabel('Тип топлива')\n",
    "plt.ylabel('Количество')\n",
    "plt.title('Распределение типа топлива');"
   ]
  },
  {
   "cell_type": "code",
   "execution_count": 74,
   "metadata": {},
   "outputs": [
    {
     "data": {
      "image/png": "[encoded data removed]",
      "text/plain": [
       "<Figure size 432x360 with 1 Axes>"
      ]
     },
     "metadata": {},
     "output_type": "display_data"
    }
   ],
   "source": [
    "plt.figure(figsize=(6, 5))\n",
    "plt.pie(stats['count'], labels=stats['fuel'], labeldistance=None, autopct = '%1.0f%%')\n",
    "plt.title(\"Распределение типа топлива\")\n",
    "plt.legend()\n",
    "plt.show();"
   ]
  },
  {
   "cell_type": "markdown",
   "metadata": {
    "tags": []
   },
   "source": [
    "#### 6.2. Визуализации категориальной переменной производителя --- \"manufacturer\""
   ]
  },
  {
   "cell_type": "code",
   "execution_count": 75,
   "metadata": {},
   "outputs": [],
   "source": [
    "stats_manuf = df.groupby(['manufacturer'], as_index=False)[['id']].count().rename(columns={'id': 'count'}).sort_values('count', ascending=False)"
   ]
  },
  {
   "cell_type": "code",
   "execution_count": 76,
   "metadata": {},
   "outputs": [
    {
     "data": {
      "image/png": "[encoded data removed]",
      "text/plain": [
       "<Figure size 1440x504 with 1 Axes>"
      ]
     },
     "metadata": {
      "needs_background": "light"
     },
     "output_type": "display_data"
    }
   ],
   "source": [
    "plt.figure(figsize=(20, 7))\n",
    "plt.bar(stats_manuf['manufacturer'], stats_manuf['count'], width = 0.9, color=['orange', 'dodgerblue'])\n",
    "plt.xticks(rotation = 45)\n",
    "plt.xlabel('Производитель')\n",
    "plt.ylabel('Количество')\n",
    "plt.title('Распределение количества автомобилей по производителям');"
   ]
  },
  {
   "cell_type": "markdown",
   "metadata": {
    "tags": []
   },
   "source": [
    "#### 6.3. Визуализации категориальной переменной коробке передач автомобиля --- \"transmission\""
   ]
  },
  {
   "cell_type": "code",
   "execution_count": 77,
   "metadata": {},
   "outputs": [],
   "source": [
    "stats_trans = df.groupby(['transmission'], as_index=False)[['id']].count().rename(columns={'id': 'count'}).sort_values('count', ascending=False)"
   ]
  },
  {
   "cell_type": "code",
   "execution_count": 78,
   "metadata": {},
   "outputs": [
    {
     "data": {
      "text/html": [
       "<div>\n",
       "<style scoped>\n",
       "    .dataframe tbody tr th:only-of-type {\n",
       "        vertical-align: middle;\n",
       "    }\n",
       "\n",
       "    .dataframe tbody tr th {\n",
       "        vertical-align: top;\n",
       "    }\n",
       "\n",
       "    .dataframe thead th {\n",
       "        text-align: right;\n",
       "    }\n",
       "</style>\n",
       "<table border=\"1\" class=\"dataframe\">\n",
       "  <thead>\n",
       "    <tr style=\"text-align: right;\">\n",
       "      <th></th>\n",
       "      <th>transmission</th>\n",
       "      <th>count</th>\n",
       "    </tr>\n",
       "  </thead>\n",
       "  <tbody>\n",
       "    <tr>\n",
       "      <th>0</th>\n",
       "      <td>automatic</td>\n",
       "      <td>7400</td>\n",
       "    </tr>\n",
       "    <tr>\n",
       "      <th>2</th>\n",
       "      <td>other</td>\n",
       "      <td>1649</td>\n",
       "    </tr>\n",
       "    <tr>\n",
       "      <th>1</th>\n",
       "      <td>manual</td>\n",
       "      <td>612</td>\n",
       "    </tr>\n",
       "  </tbody>\n",
       "</table>\n",
       "</div>"
      ],
      "text/plain": [
       "  transmission  count\n",
       "0    automatic   7400\n",
       "2        other   1649\n",
       "1       manual    612"
      ]
     },
     "execution_count": 78,
     "metadata": {},
     "output_type": "execute_result"
    }
   ],
   "source": [
    "stats_trans"
   ]
  },
  {
   "cell_type": "code",
   "execution_count": 79,
   "metadata": {},
   "outputs": [
    {
     "data": {
      "image/png": "[encoded data removed]",
      "text/plain": [
       "<Figure size 576x360 with 1 Axes>"
      ]
     },
     "metadata": {},
     "output_type": "display_data"
    }
   ],
   "source": [
    "plt.figure(figsize=(8, 5))\n",
    "plt.pie(stats_trans['count'], labels=stats_trans['transmission'], labeldistance=None, autopct = '%1.0f%%')\n",
    "plt.title(\"Распределение типа коробки передач\")\n",
    "plt.legend()\n",
    "plt.show();"
   ]
  },
  {
   "cell_type": "markdown",
   "metadata": {
    "tags": []
   },
   "source": [
    "#### 6.4. Исследование зависимости стоимости автомобиля от года выпуска"
   ]
  },
  {
   "cell_type": "code",
   "execution_count": 80,
   "metadata": {},
   "outputs": [
    {
     "data": {
      "image/png": "[encoded data removed]",
      "text/plain": [
       "<Figure size 864x360 with 1 Axes>"
      ]
     },
     "metadata": {
      "needs_background": "light"
     },
     "output_type": "display_data"
    }
   ],
   "source": [
    "# графики распределения стоимости автомобиля для каждой из ценовой категории автомобил - стоимость соответствует ценовой категории\n",
    "colors = {'low': 'green', 'medium': 'orange', 'high': 'red'}\n",
    "fig, ax = plt.subplots(figsize=(12, 5))\n",
    "for price_category in colors:\n",
    "    color = colors[price_category]\n",
    "    data = df[df['price_category'] == price_category]\n",
    "\n",
    "    ax.hist(data['price'], bins=20, color=color, alpha=0.7)\n",
    "\n",
    "plt.title(\"Распределение стоимости по ценовым категориям\")\n",
    "plt.xlabel('Стоимость')\n",
    "plt.ylabel('Частота')\n",
    "plt.legend(colors, title=\"Ценовая категория\");"
   ]
  },
  {
   "cell_type": "code",
   "execution_count": 81,
   "metadata": {},
   "outputs": [
    {
     "data": {
      "image/png": "[encoded data removed]",
      "text/plain": [
       "<Figure size 864x360 with 1 Axes>"
      ]
     },
     "metadata": {
      "needs_background": "light"
     },
     "output_type": "display_data"
    }
   ],
   "source": [
    "# диаграмма рассеяния для стоимости автомобиля и его года выпуска\n",
    "colors = {'low': 'green', 'medium': 'orange', 'high': 'red'}\n",
    "fig, ax = plt.subplots(figsize=(12, 5))\n",
    "for price_category in colors:\n",
    "    color = colors[price_category]\n",
    "    data = df[df['price_category'] == price_category]\n",
    "    ax.scatter(data['price'], data['year'], c=color, label=price_category)\n",
    "ax.legend(loc='lower right', title=\"Ценовая категория\")\n",
    "plt.title(\"Зависимость стоимости от года выпуска автомобиля\")\n",
    "plt.xlabel('Стоимость')\n",
    "plt.ylabel('Год выпуска')\n",
    "plt.show()"
   ]
  },
  {
   "cell_type": "code",
   "execution_count": 82,
   "metadata": {},
   "outputs": [
    {
     "data": {
      "text/html": [
       "<div>\n",
       "<style scoped>\n",
       "    .dataframe tbody tr th:only-of-type {\n",
       "        vertical-align: middle;\n",
       "    }\n",
       "\n",
       "    .dataframe tbody tr th {\n",
       "        vertical-align: top;\n",
       "    }\n",
       "\n",
       "    .dataframe thead th {\n",
       "        text-align: right;\n",
       "    }\n",
       "</style>\n",
       "<table border=\"1\" class=\"dataframe\">\n",
       "  <thead>\n",
       "    <tr style=\"text-align: right;\">\n",
       "      <th></th>\n",
       "      <th>year</th>\n",
       "      <th>count</th>\n",
       "    </tr>\n",
       "  </thead>\n",
       "  <tbody>\n",
       "    <tr>\n",
       "      <th>0</th>\n",
       "      <td>1994</td>\n",
       "      <td>386</td>\n",
       "    </tr>\n",
       "    <tr>\n",
       "      <th>1</th>\n",
       "      <td>1995</td>\n",
       "      <td>33</td>\n",
       "    </tr>\n",
       "    <tr>\n",
       "      <th>2</th>\n",
       "      <td>1996</td>\n",
       "      <td>25</td>\n",
       "    </tr>\n",
       "    <tr>\n",
       "      <th>3</th>\n",
       "      <td>1997</td>\n",
       "      <td>44</td>\n",
       "    </tr>\n",
       "    <tr>\n",
       "      <th>4</th>\n",
       "      <td>1998</td>\n",
       "      <td>55</td>\n",
       "    </tr>\n",
       "    <tr>\n",
       "      <th>5</th>\n",
       "      <td>1999</td>\n",
       "      <td>81</td>\n",
       "    </tr>\n",
       "    <tr>\n",
       "      <th>6</th>\n",
       "      <td>2000</td>\n",
       "      <td>78</td>\n",
       "    </tr>\n",
       "    <tr>\n",
       "      <th>7</th>\n",
       "      <td>2001</td>\n",
       "      <td>122</td>\n",
       "    </tr>\n",
       "    <tr>\n",
       "      <th>8</th>\n",
       "      <td>2002</td>\n",
       "      <td>149</td>\n",
       "    </tr>\n",
       "    <tr>\n",
       "      <th>9</th>\n",
       "      <td>2003</td>\n",
       "      <td>185</td>\n",
       "    </tr>\n",
       "    <tr>\n",
       "      <th>10</th>\n",
       "      <td>2004</td>\n",
       "      <td>208</td>\n",
       "    </tr>\n",
       "    <tr>\n",
       "      <th>11</th>\n",
       "      <td>2005</td>\n",
       "      <td>257</td>\n",
       "    </tr>\n",
       "    <tr>\n",
       "      <th>12</th>\n",
       "      <td>2006</td>\n",
       "      <td>287</td>\n",
       "    </tr>\n",
       "    <tr>\n",
       "      <th>13</th>\n",
       "      <td>2007</td>\n",
       "      <td>390</td>\n",
       "    </tr>\n",
       "    <tr>\n",
       "      <th>14</th>\n",
       "      <td>2008</td>\n",
       "      <td>457</td>\n",
       "    </tr>\n",
       "    <tr>\n",
       "      <th>15</th>\n",
       "      <td>2009</td>\n",
       "      <td>283</td>\n",
       "    </tr>\n",
       "    <tr>\n",
       "      <th>16</th>\n",
       "      <td>2010</td>\n",
       "      <td>350</td>\n",
       "    </tr>\n",
       "    <tr>\n",
       "      <th>17</th>\n",
       "      <td>2011</td>\n",
       "      <td>469</td>\n",
       "    </tr>\n",
       "    <tr>\n",
       "      <th>18</th>\n",
       "      <td>2012</td>\n",
       "      <td>592</td>\n",
       "    </tr>\n",
       "    <tr>\n",
       "      <th>19</th>\n",
       "      <td>2013</td>\n",
       "      <td>682</td>\n",
       "    </tr>\n",
       "    <tr>\n",
       "      <th>20</th>\n",
       "      <td>2014</td>\n",
       "      <td>640</td>\n",
       "    </tr>\n",
       "    <tr>\n",
       "      <th>21</th>\n",
       "      <td>2015</td>\n",
       "      <td>657</td>\n",
       "    </tr>\n",
       "    <tr>\n",
       "      <th>22</th>\n",
       "      <td>2016</td>\n",
       "      <td>718</td>\n",
       "    </tr>\n",
       "    <tr>\n",
       "      <th>23</th>\n",
       "      <td>2017</td>\n",
       "      <td>782</td>\n",
       "    </tr>\n",
       "    <tr>\n",
       "      <th>24</th>\n",
       "      <td>2018</td>\n",
       "      <td>774</td>\n",
       "    </tr>\n",
       "    <tr>\n",
       "      <th>25</th>\n",
       "      <td>2019</td>\n",
       "      <td>531</td>\n",
       "    </tr>\n",
       "    <tr>\n",
       "      <th>26</th>\n",
       "      <td>2020</td>\n",
       "      <td>384</td>\n",
       "    </tr>\n",
       "    <tr>\n",
       "      <th>27</th>\n",
       "      <td>2021</td>\n",
       "      <td>40</td>\n",
       "    </tr>\n",
       "    <tr>\n",
       "      <th>28</th>\n",
       "      <td>2022</td>\n",
       "      <td>2</td>\n",
       "    </tr>\n",
       "  </tbody>\n",
       "</table>\n",
       "</div>"
      ],
      "text/plain": [
       "    year  count\n",
       "0   1994    386\n",
       "1   1995     33\n",
       "2   1996     25\n",
       "3   1997     44\n",
       "4   1998     55\n",
       "5   1999     81\n",
       "6   2000     78\n",
       "7   2001    122\n",
       "8   2002    149\n",
       "9   2003    185\n",
       "10  2004    208\n",
       "11  2005    257\n",
       "12  2006    287\n",
       "13  2007    390\n",
       "14  2008    457\n",
       "15  2009    283\n",
       "16  2010    350\n",
       "17  2011    469\n",
       "18  2012    592\n",
       "19  2013    682\n",
       "20  2014    640\n",
       "21  2015    657\n",
       "22  2016    718\n",
       "23  2017    782\n",
       "24  2018    774\n",
       "25  2019    531\n",
       "26  2020    384\n",
       "27  2021     40\n",
       "28  2022      2"
      ]
     },
     "execution_count": 82,
     "metadata": {},
     "output_type": "execute_result"
    }
   ],
   "source": [
    "# Наблюдается зависимость стоимости от года производства, посчитаем количество авто по годам\n",
    "stats = df.groupby(['year'], as_index=False)[['id']].count()\n",
    "stats = stats.rename(columns={'id': 'count'})\n",
    "stats"
   ]
  },
  {
   "cell_type": "code",
   "execution_count": 83,
   "metadata": {},
   "outputs": [
    {
     "data": {
      "text/html": [
       "<div>\n",
       "<style scoped>\n",
       "    .dataframe tbody tr th:only-of-type {\n",
       "        vertical-align: middle;\n",
       "    }\n",
       "\n",
       "    .dataframe tbody tr th {\n",
       "        vertical-align: top;\n",
       "    }\n",
       "\n",
       "    .dataframe thead th {\n",
       "        text-align: right;\n",
       "    }\n",
       "</style>\n",
       "<table border=\"1\" class=\"dataframe\">\n",
       "  <thead>\n",
       "    <tr style=\"text-align: right;\">\n",
       "      <th></th>\n",
       "      <th>price_mean</th>\n",
       "    </tr>\n",
       "    <tr>\n",
       "      <th>year</th>\n",
       "      <th></th>\n",
       "    </tr>\n",
       "  </thead>\n",
       "  <tbody>\n",
       "    <tr>\n",
       "      <th>1994</th>\n",
       "      <td>13528.049223</td>\n",
       "    </tr>\n",
       "    <tr>\n",
       "      <th>1995</th>\n",
       "      <td>9610.060606</td>\n",
       "    </tr>\n",
       "    <tr>\n",
       "      <th>1996</th>\n",
       "      <td>9362.960000</td>\n",
       "    </tr>\n",
       "    <tr>\n",
       "      <th>1997</th>\n",
       "      <td>6441.250000</td>\n",
       "    </tr>\n",
       "    <tr>\n",
       "      <th>1998</th>\n",
       "      <td>6528.672727</td>\n",
       "    </tr>\n",
       "    <tr>\n",
       "      <th>1999</th>\n",
       "      <td>7446.641975</td>\n",
       "    </tr>\n",
       "    <tr>\n",
       "      <th>2000</th>\n",
       "      <td>7614.410256</td>\n",
       "    </tr>\n",
       "    <tr>\n",
       "      <th>2001</th>\n",
       "      <td>7852.090164</td>\n",
       "    </tr>\n",
       "    <tr>\n",
       "      <th>2002</th>\n",
       "      <td>7173.798658</td>\n",
       "    </tr>\n",
       "    <tr>\n",
       "      <th>2003</th>\n",
       "      <td>7767.962162</td>\n",
       "    </tr>\n",
       "    <tr>\n",
       "      <th>2004</th>\n",
       "      <td>7684.105769</td>\n",
       "    </tr>\n",
       "    <tr>\n",
       "      <th>2005</th>\n",
       "      <td>8019.770428</td>\n",
       "    </tr>\n",
       "    <tr>\n",
       "      <th>2006</th>\n",
       "      <td>8733.512195</td>\n",
       "    </tr>\n",
       "    <tr>\n",
       "      <th>2007</th>\n",
       "      <td>8578.738462</td>\n",
       "    </tr>\n",
       "    <tr>\n",
       "      <th>2008</th>\n",
       "      <td>9508.803063</td>\n",
       "    </tr>\n",
       "    <tr>\n",
       "      <th>2009</th>\n",
       "      <td>9703.035336</td>\n",
       "    </tr>\n",
       "    <tr>\n",
       "      <th>2010</th>\n",
       "      <td>11251.862857</td>\n",
       "    </tr>\n",
       "    <tr>\n",
       "      <th>2011</th>\n",
       "      <td>13014.494670</td>\n",
       "    </tr>\n",
       "    <tr>\n",
       "      <th>2012</th>\n",
       "      <td>14906.807432</td>\n",
       "    </tr>\n",
       "    <tr>\n",
       "      <th>2013</th>\n",
       "      <td>16138.114370</td>\n",
       "    </tr>\n",
       "    <tr>\n",
       "      <th>2014</th>\n",
       "      <td>18984.084375</td>\n",
       "    </tr>\n",
       "    <tr>\n",
       "      <th>2015</th>\n",
       "      <td>22383.042618</td>\n",
       "    </tr>\n",
       "    <tr>\n",
       "      <th>2016</th>\n",
       "      <td>23163.207521</td>\n",
       "    </tr>\n",
       "    <tr>\n",
       "      <th>2017</th>\n",
       "      <td>26328.875959</td>\n",
       "    </tr>\n",
       "    <tr>\n",
       "      <th>2018</th>\n",
       "      <td>28406.824289</td>\n",
       "    </tr>\n",
       "    <tr>\n",
       "      <th>2019</th>\n",
       "      <td>31434.111111</td>\n",
       "    </tr>\n",
       "    <tr>\n",
       "      <th>2020</th>\n",
       "      <td>33791.940104</td>\n",
       "    </tr>\n",
       "  </tbody>\n",
       "</table>\n",
       "</div>"
      ],
      "text/plain": [
       "        price_mean\n",
       "year              \n",
       "1994  13528.049223\n",
       "1995   9610.060606\n",
       "1996   9362.960000\n",
       "1997   6441.250000\n",
       "1998   6528.672727\n",
       "1999   7446.641975\n",
       "2000   7614.410256\n",
       "2001   7852.090164\n",
       "2002   7173.798658\n",
       "2003   7767.962162\n",
       "2004   7684.105769\n",
       "2005   8019.770428\n",
       "2006   8733.512195\n",
       "2007   8578.738462\n",
       "2008   9508.803063\n",
       "2009   9703.035336\n",
       "2010  11251.862857\n",
       "2011  13014.494670\n",
       "2012  14906.807432\n",
       "2013  16138.114370\n",
       "2014  18984.084375\n",
       "2015  22383.042618\n",
       "2016  23163.207521\n",
       "2017  26328.875959\n",
       "2018  28406.824289\n",
       "2019  31434.111111\n",
       "2020  33791.940104"
      ]
     },
     "execution_count": 83,
     "metadata": {},
     "output_type": "execute_result"
    }
   ],
   "source": [
    "# Так как в последний год выборки очень мало авто (не полный период), то исключим его из исследования\n",
    "df_ = df[(df.year != 2022)&(df.year != 2021)]\n",
    "stats = df_.groupby(['year']).agg({'price': 'mean'})\n",
    "stats = stats.rename(columns={'price': 'price_mean'})\n",
    "stats"
   ]
  },
  {
   "cell_type": "code",
   "execution_count": 84,
   "metadata": {},
   "outputs": [
    {
     "data": {
      "image/png": "[encoded data removed]",
      "text/plain": [
       "<Figure size 432x288 with 1 Axes>"
      ]
     },
     "metadata": {
      "needs_background": "light"
     },
     "output_type": "display_data"
    }
   ],
   "source": [
    "plt.plot(stats, color='blue', marker = 'D', markerfacecolor = 'orange')\n",
    "plt.xlabel('Средняя стоимость')\n",
    "plt.ylabel('Годы выпуска')\n",
    "plt.title('Распределение средней стоимости автомобилей по годам');"
   ]
  },
  {
   "cell_type": "code",
   "execution_count": 85,
   "metadata": {},
   "outputs": [
    {
     "data": {
      "text/plain": [
       "0.5449141798232536"
      ]
     },
     "execution_count": 85,
     "metadata": {},
     "output_type": "execute_result"
    }
   ],
   "source": [
    "# Оценим корреляцию цены от года производства\n",
    "df_['year'].corr(df_['price'])"
   ]
  },
  {
   "cell_type": "markdown",
   "metadata": {},
   "source": [
    "Таким образом, можно сделать вывод о существовании прямой линейной связи между стоимостью авто и годом его производства, но корреляция среднего уровня, т.к. коэффициент Пирсона менее 0,7. т.е. с ростом года, растет стоимость"
   ]
  },
  {
   "cell_type": "markdown",
   "metadata": {
    "tags": []
   },
   "source": [
    "#### 6.5. Исследование зависимости стоимости автомобиля от пробега"
   ]
  },
  {
   "cell_type": "code",
   "execution_count": 86,
   "metadata": {},
   "outputs": [
    {
     "data": {
      "image/png": "[encoded data removed]",
      "text/plain": [
       "<Figure size 864x432 with 1 Axes>"
      ]
     },
     "metadata": {
      "needs_background": "light"
     },
     "output_type": "display_data"
    }
   ],
   "source": [
    "colors = {'low': 'green', 'medium': 'orange', 'high': 'red'}\n",
    "fig, ax = plt.subplots(figsize=(12, 6))\n",
    "for price_category in colors:\n",
    "    color = colors[price_category]\n",
    "    data = df[df['price_category'] == price_category]\n",
    "    ax.hist(data['odometer'], bins=20, color=color, alpha=0.7)   \n",
    "plt.ylabel('Количество')\n",
    "plt.xlabel('Пробег автомобиля')\n",
    "plt.title('Количество пройденных миль в зависимости от ценовой категории автомобиля')\n",
    "plt.legend(colors, title=\"Ценовая категория\");"
   ]
  },
  {
   "cell_type": "markdown",
   "metadata": {},
   "source": [
    "Выводы\n",
    "- в целом видна обратная зависимость цены авто от пробега \n",
    "- но есть пересечение практически во всех категориях и уровнях пробега\n",
    "- наибольшее количество авто в высокой ценовой категории и с небольшим пробегом"
   ]
  },
  {
   "cell_type": "markdown",
   "metadata": {
    "tags": []
   },
   "source": [
    "#### 6.6. Исследование зависимости пробега от года выпуска"
   ]
  },
  {
   "cell_type": "code",
   "execution_count": 87,
   "metadata": {},
   "outputs": [
    {
     "data": {
      "image/png": "[encoded data removed]",
      "text/plain": [
       "<Figure size 864x432 with 1 Axes>"
      ]
     },
     "metadata": {
      "needs_background": "light"
     },
     "output_type": "display_data"
    }
   ],
   "source": [
    "colors = {'low': 'green', 'medium': 'orange', 'high': 'red'}\n",
    "fig, ax = plt.subplots(figsize=(12, 6))\n",
    "for price_category in colors:\n",
    "    color = colors[price_category]\n",
    "    data = df[df['price_category'] == price_category]\n",
    "    ax.scatter(data['odometer'], data['year'], c=color, label=price_category)\n",
    "ax.legend(loc='upper right', title=\"Ценовая категория\")\n",
    "plt.title(\"Зависимость пробега от года выпуска автомобиля\")\n",
    "plt.xlabel('Пробег')\n",
    "plt.ylabel('Год выпуска')\n",
    "plt.show()"
   ]
  },
  {
   "cell_type": "markdown",
   "metadata": {},
   "source": [
    "- Диаграмма показывает общую структуру данных в разрезе года выпуска, пробега и цены авто.\n",
    "- Видно в каком квадранте находится наибольшее количество авто, а также общий масштаб рассеяния\n",
    "- наглядно, что есть авто с крайне небольшим пробегом, но низкой и  средней стоимостью и обратно\n",
    "- есть целый блок авто с максимальным пробегом, но высокой и средней ценой авто"
   ]
  }
 ],
 "metadata": {
  "colab": {
   "collapsed_sections": [
    "l5IzMayMziv4",
    "WnHcwTWzz3BM",
    "GA-zxmYuz5ml",
    "gOp3r-GPOS13",
    "p80C7yPg7gkm",
    "v6ghFIz3287P",
    "RKNvH4td3G2I",
    "iy_gbsbR3S6i",
    "1NA17BsQ3peH",
    "WPiCEDKp4i2q",
    "cmndyG-n6EBc",
    "MRgnkCR98P_f",
    "YV3rqduI_yP0",
    "YcsSFcBRFjHi",
    "DMVAV1R5KjJ4",
    "32aVK4RvKtOD",
    "64T0JcerLSnE",
    "0WjrjHsePVtm",
    "LZxqwqCeCX1l",
    "NYYkIlFjDKvf",
    "94gmXrP9No_N",
    "fMJBLvajORKe",
    "pcqONrUjPQpt",
    "Pa6ev3E6Pu7H",
    "COSzdTAMQdBe",
    "vqo9blKJnzHT",
    "gmAQ3EzZQ2NJ",
    "G8RPuaSJZp3V",
    "GOXWNItVbrU9",
    "REb2bidib5K2",
    "dXmnh8DNdQRk",
    "Qz-H4plGe5Xz",
    "jZPpqvIpfgf7",
    "vQsu3eoT0n6E",
    "APYHWmkP02Fv",
    "zeRsrAIjRTIG",
    "fA1ptXs4R-Lz",
    "HS0sN8OW2zvF"
   ],
   "provenance": []
  },
  "kernelspec": {
   "display_name": "Python 3 (ipykernel)",
   "language": "python",
   "name": "python3"
  },
  "language_info": {
   "codemirror_mode": {
    "name": "ipython",
    "version": 3
   },
   "file_extension": ".py",
   "mimetype": "text/x-python",
   "name": "python",
   "nbconvert_exporter": "python",
   "pygments_lexer": "ipython3",
   "version": "3.9.12"
  }
 },
 "nbformat": 4,
 "nbformat_minor": 4
}
